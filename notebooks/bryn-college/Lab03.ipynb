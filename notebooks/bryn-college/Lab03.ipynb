{
 "cells": [
  {
   "cell_type": "markdown",
   "metadata": {},
   "source": [
    "<h1>Lab 03: Building a Scheme Interpreter in Python</h1>\n",
    "\n",
    "<h2>CS245: Programming Languages<br>\n",
    "Bryn Mawr College, Fall 2016<br>\n",
    "Prof. Blank\n",
    "</h2>"
   ]
  },
  {
   "cell_type": "markdown",
   "metadata": {},
   "source": [
    "Put \"By Your-Name-Here\" here in the next cell, and delete this cell."
   ]
  },
  {
   "cell_type": "markdown",
   "metadata": {
    "deletable": false,
    "nbgrader": {
     "checksum": "0b6147a20b4c8833be4da22068cc0af4",
     "grade": true,
     "grade_id": "by-line",
     "locked": false,
     "points": 5,
     "solution": true
    }
   },
   "source": [
    "YOUR ANSWER HERE"
   ]
  },
  {
   "cell_type": "markdown",
   "metadata": {},
   "source": [
    "# 1. Building an Interpreter"
   ]
  },
  {
   "cell_type": "markdown",
   "metadata": {},
   "source": [
    "Consider using Python to turn the string \"(+ 1 2)\" into the actual number 3. How does that happen? This question is really: what does a programming language do? How does it work? In this lab, we will answer these questions by building a Scheme interpreter in Python."
   ]
  },
  {
   "cell_type": "markdown",
   "metadata": {},
   "source": [
    "## 1.1 Two Steps: Parse and Interpret"
   ]
  },
  {
   "cell_type": "markdown",
   "metadata": {},
   "source": [
    "In designing a programming language, we break down the process into two steps:\n",
    "\n",
    "**STEP 1:** The first step in implementing a programming language is to take a plain string and turn it into what is commonly called an *Abstract Syntax Tree*, or AST for short. This process is called *parsing*. ASTs are data structures.\n",
    "\n",
    "**STEP 2:** The second step is to build an evaluator that takes ASTs and interprets them. This is called *interpreting*.\n",
    "\n",
    "We will now go through the steps of designing a language. As this language will start off as a simple calculator with the syntax looking like Scheme, we'll call this language **S-Calc**, short for Scheme Calculator."
   ]
  },
  {
   "cell_type": "markdown",
   "metadata": {},
   "source": [
    "## 1.2 Parsing"
   ]
  },
  {
   "cell_type": "markdown",
   "metadata": {},
   "source": [
    "To build a function that will take a string and produce AST, we further break down the parsing into three stages. We could do this all in one function, but it is common to break the process up into smaller chunks to make processing (and understanding/debugging) easier. The three components are:\n",
    "\n",
    "1. tokenize - turns a string into tokens\n",
    "2. reader - take the tokens and group them\n",
    "3. parser - turn the segmented parts into AST\n",
    "\n",
    "The idea is that we can then take our string \"(+ 1 2)\" and end up with AST, like so:\n",
    "\n",
    "```python\n",
    "parser(reader(tokenizer(\"(+ 1 1)\")))\n",
    "```"
   ]
  },
  {
   "cell_type": "markdown",
   "metadata": {},
   "source": [
    "The form of the AST can really be any data structure that we decide. For these experiments, we will use very simple Scheme expressions (called s-exp). Thus, the above string might look like this in Scheme:\n",
    "\n",
    "```scheme\n",
    "(apply-exp\n",
    " (var-exp +)\n",
    " ((lit-exp 1) (lit-exp 2)))\n",
    "```"
   ]
  },
  {
   "cell_type": "markdown",
   "metadata": {},
   "source": [
    "That is, it is an application-expression composed of the *operator* (a variable-expression '+') and two literal-expressions 1 and 2 as *operands*.\n",
    "\n",
    "We call the syntax of the string the **Concrete Syntax** as compared to the **Abstract Syntax** of the AST.\n",
    "\n",
    "As we have seen, Scheme is a simple language composed of lists, symbols, strings, and numbers. Everything in the language can be parsed into those components, so writing a Scheme parser is pretty easy compared to languages like Python."
   ]
  },
  {
   "cell_type": "markdown",
   "metadata": {},
   "source": [
    "### 1.2.1 Tokenize"
   ]
  },
  {
   "cell_type": "markdown",
   "metadata": {},
   "source": [
    "To parse S-Calc we first define the lowest level of the process, the tokenizer:"
   ]
  },
  {
   "cell_type": "code",
   "execution_count": null,
   "metadata": {
    "collapsed": true
   },
   "outputs": [],
   "source": [
    "def tokenizer(string):\n",
    "    \"\"\"\n",
    "    Takes a string and segments it into parts.\n",
    "    We break strings up by brackets, and whitespace.\n",
    "    Returns a Python list of strings.\n",
    "    \"\"\"\n",
    "    retval = []\n",
    "    current = \"\"\n",
    "    for i in range(len(string)):\n",
    "        if string[i] in [\"(\", \"[\", \")\", \"]\"]:\n",
    "            if current:\n",
    "                retval.append(current)\n",
    "            current = \"\"\n",
    "            retval.append(string[i])\n",
    "        elif string[i] in [\" \", \"\\t\", \"\\n\"]:\n",
    "            if current:\n",
    "                retval.append(current)\n",
    "            current = \"\"\n",
    "        else:\n",
    "            current += string[i]\n",
    "    if current:\n",
    "        retval.append(current)\n",
    "    return retval"
   ]
  },
  {
   "cell_type": "code",
   "execution_count": null,
   "metadata": {
    "collapsed": false
   },
   "outputs": [],
   "source": [
    "tokenizer(\"\"\"(this    is a\n",
    "3.14 \n",
    "(test))\"\"\")"
   ]
  },
  {
   "cell_type": "markdown",
   "metadata": {},
   "source": [
    "**Exercise 1:** Try the tokenizer on many different strings. Describe what it does in simple terms based on its input and output.\n",
    "\n",
    "Add cells below to test out the tokenizer."
   ]
  },
  {
   "cell_type": "code",
   "execution_count": null,
   "metadata": {
    "collapsed": true,
    "deletable": false,
    "nbgrader": {
     "checksum": "65cb8d92a0f62f029e28989b914e27c4",
     "grade": true,
     "grade_id": "test-tokenizer",
     "locked": false,
     "points": 20,
     "solution": true
    }
   },
   "outputs": [],
   "source": [
    "# YOUR CODE HERE\n",
    "raise NotImplementedError()"
   ]
  },
  {
   "cell_type": "markdown",
   "metadata": {},
   "source": [
    "### 1.2.2 Reader"
   ]
  },
  {
   "cell_type": "markdown",
   "metadata": {},
   "source": [
    "The reader will take the tokenized expression (texp) and produced grouped results."
   ]
  },
  {
   "cell_type": "code",
   "execution_count": null,
   "metadata": {
    "collapsed": true
   },
   "outputs": [],
   "source": [
    "def reader(texp):\n",
    "    \"\"\"\n",
    "    Takes the output of the tokenizer, and creates\n",
    "    lists of lists of items. Numbers are represented\n",
    "    as numbers.\n",
    "    \"\"\"\n",
    "    current = None\n",
    "    stack = []\n",
    "    for item in texp:\n",
    "        if item.isdigit():\n",
    "            if current is not None:\n",
    "                current.append(eval(item))\n",
    "            else:\n",
    "                current = eval(item)\n",
    "        elif item in [\"[\", \"(\"]:\n",
    "            if current is not None:\n",
    "                stack.append(current)\n",
    "            current = []\n",
    "        elif item in [\"]\", \")\"]:\n",
    "            if stack:\n",
    "                stack[-1].append(current)\n",
    "                current = stack.pop(-1)\n",
    "            else:\n",
    "                pass\n",
    "        else:\n",
    "            if current is not None:\n",
    "                current.append(item)\n",
    "            else:\n",
    "                current = item\n",
    "    return current"
   ]
  },
  {
   "cell_type": "code",
   "execution_count": null,
   "metadata": {
    "collapsed": false
   },
   "outputs": [],
   "source": [
    "tokenizer(\"(this is (a) ((list))\")"
   ]
  },
  {
   "cell_type": "code",
   "execution_count": null,
   "metadata": {
    "collapsed": false
   },
   "outputs": [],
   "source": [
    "reader(tokenizer(\"(this is (a) ((list))\"))"
   ]
  },
  {
   "cell_type": "markdown",
   "metadata": {},
   "source": [
    "**Exercise 2**: Try the reader on many different tokenized strings. Describe what it does in simple terms. How does this differ from the lexer?\n",
    "\n",
    "Add cells below to test out the reader."
   ]
  },
  {
   "cell_type": "code",
   "execution_count": null,
   "metadata": {
    "collapsed": true,
    "deletable": false,
    "nbgrader": {
     "checksum": "c1e442fa4487fd7c97c322309a354945",
     "grade": true,
     "grade_id": "test-reader",
     "locked": false,
     "points": 20,
     "solution": true
    }
   },
   "outputs": [],
   "source": [
    "# YOUR CODE HERE\n",
    "raise NotImplementedError()"
   ]
  },
  {
   "cell_type": "markdown",
   "metadata": {},
   "source": [
    "### 1.2.3 Parser"
   ]
  },
  {
   "cell_type": "markdown",
   "metadata": {},
   "source": [
    "The final process of Step 1 is to take the output of the reader and parse it into an AST. For our first S-Calc expression, we just need to handle \"(+ 1 2)\". That is, we need to handle three things:\n",
    "\n",
    "* numbers - any kind of number\n",
    "* variables, like \"+\" - anything not a number\n",
    "* application - starts with a parenthesis"
   ]
  },
  {
   "cell_type": "code",
   "execution_count": null,
   "metadata": {
    "collapsed": true
   },
   "outputs": [],
   "source": [
    "## Version 1:\n",
    "\n",
    "def parser(rexp):\n",
    "    \"\"\"\n",
    "    Reads in a Python list of things, and returns an AST.\n",
    "    \"\"\"\n",
    "    if isinstance(rexp, int):\n",
    "        return lit_exp(rexp)\n",
    "    elif isinstance(rexp, str):\n",
    "        return var_exp(rexp)\n",
    "    else:\n",
    "        return app_exp(parser(rexp[0]), List(*map(parser, rexp[1:])))"
   ]
  },
  {
   "cell_type": "markdown",
   "metadata": {},
   "source": [
    "That's it?! Yes, but we need to define some things before that will run. We need to define:\n",
    "\n",
    "* list_exp\n",
    "* var_exp\n",
    "* app_exp\n",
    "\n",
    "To think like a Little Schemer, we define some utility functions in Python so that we can write code as if we were in Scheme. Specifically, let's replicate the linked-list of cons/car/cdr:"
   ]
  },
  {
   "cell_type": "code",
   "execution_count": null,
   "metadata": {
    "collapsed": true
   },
   "outputs": [],
   "source": [
    "EmptyList = \"()\"\n",
    "\n",
    "def cons(item1, item2):\n",
    "    return [item1, item2]\n",
    "\n",
    "def car(exp):\n",
    "    return exp[0]\n",
    "\n",
    "def cdr(exp):\n",
    "    return exp[1]\n",
    "\n",
    "def cadr(exp):\n",
    "    return exp[1][0]\n",
    "\n",
    "def cddr(exp):\n",
    "    return exp[1][1]\n",
    "\n",
    "def caddr(exp):\n",
    "    return exp[1][1][0]\n",
    "\n",
    "def List(*args):\n",
    "    \"Create a linked-list of items\"\n",
    "    retval = EmptyList\n",
    "    for arg in reversed(args):\n",
    "        retval = cons(arg, retval)\n",
    "    return retval"
   ]
  },
  {
   "cell_type": "markdown",
   "metadata": {},
   "source": [
    "Note that EmptyList is a symbol (a single value, not an actual list object).\n",
    "\n",
    "Let's test out the above Python functions to see if they behave like their Scheme counterparts. \n",
    "\n",
    "An improper list, the dotted pair:"
   ]
  },
  {
   "cell_type": "code",
   "execution_count": null,
   "metadata": {
    "collapsed": false
   },
   "outputs": [],
   "source": [
    "cons(1, 2)"
   ]
  },
  {
   "cell_type": "markdown",
   "metadata": {},
   "source": [
    "Make sure that `car` and `cdr` can properly deconstruct a `cons` cell:"
   ]
  },
  {
   "cell_type": "code",
   "execution_count": null,
   "metadata": {
    "collapsed": false
   },
   "outputs": [],
   "source": [
    "car(cons(1, 2))"
   ]
  },
  {
   "cell_type": "code",
   "execution_count": null,
   "metadata": {
    "collapsed": false
   },
   "outputs": [],
   "source": [
    "cdr(cons(1, 2))"
   ]
  },
  {
   "cell_type": "markdown",
   "metadata": {},
   "source": [
    "And, a convenience method for constructing Scheme-like lists of multiple items:"
   ]
  },
  {
   "cell_type": "code",
   "execution_count": null,
   "metadata": {
    "collapsed": false
   },
   "outputs": [],
   "source": [
    "List(1, 2, 3, 4)"
   ]
  },
  {
   "cell_type": "markdown",
   "metadata": {},
   "source": [
    "**Exercise 3**: Why does the list above look like this? Is this similar to how Scheme lists exist? Explain in the following cell:"
   ]
  },
  {
   "cell_type": "markdown",
   "metadata": {
    "deletable": false,
    "nbgrader": {
     "checksum": "a1a21ca543547c7bae59533e43e5ccdc",
     "grade": true,
     "grade_id": "list-form",
     "locked": false,
     "points": 10,
     "solution": true
    }
   },
   "source": [
    "YOUR ANSWER HERE"
   ]
  },
  {
   "cell_type": "markdown",
   "metadata": {},
   "source": [
    "Add cells below to test the Scheme-like functions, including List. Explain how List works in a markdown cell."
   ]
  },
  {
   "cell_type": "code",
   "execution_count": null,
   "metadata": {
    "collapsed": true,
    "deletable": false,
    "nbgrader": {
     "checksum": "f3d5bec94bef90640a0d798fe10ae5e6",
     "grade": true,
     "grade_id": "scheme-functions",
     "locked": false,
     "points": 20,
     "solution": true
    }
   },
   "outputs": [],
   "source": [
    "# YOUR CODE HERE\n",
    "raise NotImplementedError()"
   ]
  },
  {
   "cell_type": "markdown",
   "metadata": {},
   "source": [
    "Now, we can compose our AST constructor functions:"
   ]
  },
  {
   "cell_type": "code",
   "execution_count": null,
   "metadata": {
    "collapsed": true
   },
   "outputs": [],
   "source": [
    "def lit_exp(value):\n",
    "    return List(\"lit-exp\", value)\n",
    "\n",
    "def var_exp(symbol):\n",
    "    return List(\"var-exp\", symbol)\n",
    "\n",
    "def app_exp(f, args):\n",
    "    return List(\"apply-exp\", f, args)"
   ]
  },
  {
   "cell_type": "markdown",
   "metadata": {},
   "source": [
    "And (finally!) we can put it all together and parse a string:"
   ]
  },
  {
   "cell_type": "code",
   "execution_count": null,
   "metadata": {
    "collapsed": false
   },
   "outputs": [],
   "source": [
    "parser(reader(tokenizer(\"1\")))"
   ]
  },
  {
   "cell_type": "code",
   "execution_count": null,
   "metadata": {
    "collapsed": false
   },
   "outputs": [],
   "source": [
    "parser(reader(tokenizer(\"+\")))"
   ]
  },
  {
   "cell_type": "code",
   "execution_count": null,
   "metadata": {
    "collapsed": false
   },
   "outputs": [],
   "source": [
    "parser(reader(tokenizer(\"(+ 1 2)\")))"
   ]
  },
  {
   "cell_type": "markdown",
   "metadata": {},
   "source": [
    "We'll be doing those three functions together quite often, so let's make a useful function:"
   ]
  },
  {
   "cell_type": "code",
   "execution_count": null,
   "metadata": {
    "collapsed": true
   },
   "outputs": [],
   "source": [
    "def scalc_parse(string):\n",
    "    return parser(reader(tokenizer(string)))"
   ]
  },
  {
   "cell_type": "code",
   "execution_count": null,
   "metadata": {
    "collapsed": false
   },
   "outputs": [],
   "source": [
    "scalc_parse(\"652362\")"
   ]
  },
  {
   "cell_type": "markdown",
   "metadata": {},
   "source": [
    "**Exercise 4**: Try out the scalc_parser. Can it handle nested mathematical expressions? Why? How does the parser handle recursive expressions? Demonstrate and explain.\n",
    "\n",
    "Add cells below to test, demonstrate, and explain what works with the parser."
   ]
  },
  {
   "cell_type": "code",
   "execution_count": null,
   "metadata": {
    "collapsed": true,
    "deletable": false,
    "nbgrader": {
     "checksum": "293b4275857d4ba0872748a1e61aa6fd",
     "grade": true,
     "grade_id": "test-parser",
     "locked": false,
     "points": 20,
     "solution": true
    }
   },
   "outputs": [],
   "source": [
    "# YOUR CODE HERE\n",
    "raise NotImplementedError()"
   ]
  },
  {
   "cell_type": "markdown",
   "metadata": {},
   "source": [
    "## 1.3 Interpreter"
   ]
  },
  {
   "cell_type": "markdown",
   "metadata": {},
   "source": [
    "Now we are ready for Step 2: the interpreter. This function takes an AST expression and interprets it (i.e., gives a result). We will call our interpreter `evaluator`.\n",
    "\n",
    "Again, as we only have numbers, symbols, and applications, it only needs to handle those three items. To help with debugging, we will also now add a `print` application.\n",
    "\n",
    "We start top down, defining the evaluator itself. It takes a parser expression, and does the computation:"
   ]
  },
  {
   "cell_type": "code",
   "execution_count": null,
   "metadata": {
    "collapsed": true
   },
   "outputs": [],
   "source": [
    "## Version 1:\n",
    "\n",
    "def evaluator(expr):\n",
    "    if car(expr) == \"lit-exp\":\n",
    "        return cadr(expr)\n",
    "    elif car(expr) == \"var-exp\":\n",
    "        return cadr(expr) ## for now, return symbol\n",
    "    elif car(expr) == \"apply-exp\":\n",
    "        return evaluator_apply(evaluator(cadr(expr)), \n",
    "                               Map(evaluator, caddr(expr)))\n",
    "    else:\n",
    "        raise Exception(\"invalid ast: %s\" % expr)"
   ]
  },
  {
   "cell_type": "markdown",
   "metadata": {},
   "source": [
    "We break the evaluator into smaller functions to make it easy on us to focus on one issue at a time. We need a function evaluator_apply that takes the symbol of a mathematical operation (say, \"+\") and a list of operands, and does the actual calculation:"
   ]
  },
  {
   "cell_type": "code",
   "execution_count": null,
   "metadata": {
    "collapsed": true
   },
   "outputs": [],
   "source": [
    "def evaluator_apply(op, operands):\n",
    "    if op == \"print\":\n",
    "        Print(operands)\n",
    "    elif op == \"+\":\n",
    "        return car(operands) + cadr(operands)\n",
    "    else:\n",
    "        raise Exception(\"unknown apply operator: %s\" % op)\n",
    "        "
   ]
  },
  {
   "cell_type": "markdown",
   "metadata": {},
   "source": [
    "Like we have seen in Scheme, we want to Map evaluator to all of the operands before we pass them to evaluator_apply. So we write a Map function to operate on Scheme-like lists:"
   ]
  },
  {
   "cell_type": "code",
   "execution_count": null,
   "metadata": {
    "collapsed": true
   },
   "outputs": [],
   "source": [
    "def Map(f, slist):\n",
    "    if slist == EmptyList:\n",
    "        return EmptyList\n",
    "    else:\n",
    "        return cons( f(car(slist)), Map(f, cdr(slist))) ## recursive!\n",
    "    "
   ]
  },
  {
   "cell_type": "markdown",
   "metadata": {},
   "source": [
    "**NOTE**: there is actually a `map` function in Python, but it operates (of course) on Python lists. Ours operates on cons-cell-based Scheme-like lists.\n",
    "\n",
    "And we write a recursive Print function to print a Scheme-list of items:"
   ]
  },
  {
   "cell_type": "code",
   "execution_count": null,
   "metadata": {
    "collapsed": false
   },
   "outputs": [],
   "source": [
    "def Print(slist):\n",
    "    if slist == EmptyList:\n",
    "        return\n",
    "    else:\n",
    "        print(car(slist))\n",
    "        Print(cdr(slist))"
   ]
  },
  {
   "cell_type": "markdown",
   "metadata": {},
   "source": [
    "Let's test out these support functions:"
   ]
  },
  {
   "cell_type": "code",
   "execution_count": null,
   "metadata": {
    "collapsed": false
   },
   "outputs": [],
   "source": [
    "Map(lambda v: v, List(1, 2, 3))"
   ]
  },
  {
   "cell_type": "markdown",
   "metadata": {},
   "source": [
    "Add cells and test some functions out individually:"
   ]
  },
  {
   "cell_type": "code",
   "execution_count": null,
   "metadata": {
    "collapsed": true
   },
   "outputs": [],
   "source": []
  },
  {
   "cell_type": "markdown",
   "metadata": {},
   "source": [
    "And now (drum roll, please) we can put it all together to interpret a Scheme-like string into actual computational answers. Let's parse a string:"
   ]
  },
  {
   "cell_type": "code",
   "execution_count": null,
   "metadata": {
    "collapsed": true
   },
   "outputs": [],
   "source": [
    "expr = scalc_parse(\"3\")"
   ]
  },
  {
   "cell_type": "markdown",
   "metadata": {},
   "source": [
    "And evaluate it:"
   ]
  },
  {
   "cell_type": "code",
   "execution_count": null,
   "metadata": {
    "collapsed": false
   },
   "outputs": [],
   "source": [
    "evaluator(expr)"
   ]
  },
  {
   "cell_type": "markdown",
   "metadata": {},
   "source": [
    "Woot! The string \"3\" actually evaluates to the number 3! We did it! But we can do more. \n",
    "\n",
    "Let's define a utility function `scalc` that will parse and interpret any string:"
   ]
  },
  {
   "cell_type": "code",
   "execution_count": null,
   "metadata": {
    "collapsed": true
   },
   "outputs": [],
   "source": [
    "def scalc(string):\n",
    "    return evaluator(scalc_parse(string))"
   ]
  },
  {
   "cell_type": "markdown",
   "metadata": {},
   "source": [
    "And we begin testing of out S-Calc interpreter:"
   ]
  },
  {
   "cell_type": "code",
   "execution_count": null,
   "metadata": {
    "collapsed": false
   },
   "outputs": [],
   "source": [
    "scalc(\"34\")"
   ]
  },
  {
   "cell_type": "code",
   "execution_count": null,
   "metadata": {
    "collapsed": false
   },
   "outputs": [],
   "source": [
    "scalc(\"(+ 1 1)\")"
   ]
  },
  {
   "cell_type": "code",
   "execution_count": null,
   "metadata": {
    "collapsed": false
   },
   "outputs": [],
   "source": [
    "scalc(\"(print 1 2 3)\")"
   ]
  },
  {
   "cell_type": "code",
   "execution_count": null,
   "metadata": {
    "collapsed": false
   },
   "outputs": [],
   "source": [
    "scalc(\"(+ 1 (+ 100 10))\")"
   ]
  },
  {
   "cell_type": "markdown",
   "metadata": {},
   "source": [
    "Add cells to try out the interpreter:"
   ]
  },
  {
   "cell_type": "code",
   "execution_count": null,
   "metadata": {
    "collapsed": true
   },
   "outputs": [],
   "source": []
  },
  {
   "cell_type": "markdown",
   "metadata": {},
   "source": [
    "**Exercise 5**: Add the following operators:\n",
    "\n",
    "* subtract\n",
    "* multiply\n",
    "* divide\n",
    "\n",
    "You can redefine the Python functions here.\n",
    "\n",
    "Test out these operations thoroughly. \n",
    "\n",
    "What should you do with divide by zero (and other) errors? What are the choices?\n",
    "\n",
    "In the next cell, copy the `evaluator_apply` code from above and add your new operators:"
   ]
  },
  {
   "cell_type": "code",
   "execution_count": null,
   "metadata": {
    "collapsed": true,
    "deletable": false,
    "nbgrader": {
     "checksum": "456eb85ed1049f4060a73a4ac22efc41",
     "grade": true,
     "grade_id": "evaluator_apply",
     "locked": false,
     "points": 20,
     "solution": true
    }
   },
   "outputs": [],
   "source": [
    "# YOUR CODE HERE\n",
    "raise NotImplementedError()"
   ]
  },
  {
   "cell_type": "markdown",
   "metadata": {},
   "source": [
    "**Exercise 6**: A quoted item is a literal item. However, if it is a list, it should be converted to a proper Scheme list in the parser. You can use the following for any quoted item (symbol, number, or list). The evaluator need not change. Copy the old parser code from above to use the following sexp function.\n",
    "\n",
    "```python\n",
    "def sexp(item):\n",
    "    \"\"\"\n",
    "    Takes an Python list of items and returns Scheme s-exp.\n",
    "    \"\"\"\n",
    "    if isinstance(item, list):\n",
    "        return List(*map(sexp, item)) # recursion!\n",
    "    else:\n",
    "        return item\n",
    "```"
   ]
  },
  {
   "cell_type": "markdown",
   "metadata": {},
   "source": [
    "That is, if you encounter a \"quote\" in the parser, then call sexp, and return a lit_exp.\n",
    "\n",
    "\n",
    "To test it, you should be able to:\n",
    "\n",
    "```python\n",
    "scalc(\"(quote 42)\")\n",
    "scalc(\"(quote \\\"hello\\\")\")\n",
    "scalc(\"(quote (1 2 3))\")\n",
    "```"
   ]
  },
  {
   "cell_type": "markdown",
   "metadata": {},
   "source": [
    "In the cells below, test out quoted items."
   ]
  },
  {
   "cell_type": "code",
   "execution_count": null,
   "metadata": {
    "collapsed": true,
    "deletable": false,
    "nbgrader": {
     "checksum": "bae64715c2431bce9796ef756398dd78",
     "grade": true,
     "grade_id": "test-quote",
     "locked": false,
     "points": 10,
     "solution": true
    }
   },
   "outputs": [],
   "source": [
    "# YOUR CODE HERE\n",
    "raise NotImplementedError()"
   ]
  },
  {
   "cell_type": "markdown",
   "metadata": {},
   "source": [
    "How could you use quoted lists? Do we need some additional operators to use them?"
   ]
  },
  {
   "cell_type": "markdown",
   "metadata": {},
   "source": [
    "**Exercise 7**: Add the literals #t and #f that evaluate to 1 and 0.\n",
    "\n",
    "```python\n",
    "In[ ]: scalc(\"#t\")\n",
    "Out[]: 1\n",
    "In[ ]: scalc(\"#f\")\n",
    "Out[]: 0\n",
    "```"
   ]
  },
  {
   "cell_type": "markdown",
   "metadata": {},
   "source": [
    "How will you add these to the language? There is no one right answer, but you should justify your choice among possible options."
   ]
  },
  {
   "cell_type": "markdown",
   "metadata": {},
   "source": [
    "In the cell below, copy and change whatever is necessary to add booleans, and test that they work."
   ]
  },
  {
   "cell_type": "code",
   "execution_count": null,
   "metadata": {
    "collapsed": true,
    "deletable": false,
    "nbgrader": {
     "checksum": "10f4e0c2cb69fa30437bcb45489ba1f1",
     "grade": true,
     "grade_id": "test-booleans",
     "locked": false,
     "points": 10,
     "solution": true
    }
   },
   "outputs": [],
   "source": [
    "# YOUR CODE HERE\n",
    "raise NotImplementedError()"
   ]
  },
  {
   "cell_type": "markdown",
   "metadata": {},
   "source": [
    "**Exercise 8**: Add an if-expression that works as follows:\n",
    "\n",
    "```scheme\n",
    "In [1]: (if #t 2 3)\n",
    "Out[1]: 2\n",
    "\n",
    "In [2]: (if 1 2 3)\n",
    "Out[2]: 2\n",
    "\n",
    "In [3]: (if 0 2 3)\n",
    "Out[3]: 3\n",
    "```"
   ]
  },
  {
   "cell_type": "markdown",
   "metadata": {},
   "source": [
    "Note that `if` should **never evaluate the other argument**, just the one it returns. For example:\n",
    "\n",
    "```scheme\n",
    "(if 0 (/ 2 0) 3)\n",
    "```"
   ]
  },
  {
   "cell_type": "markdown",
   "metadata": {},
   "source": [
    "should return 3, but should not evaluate the divide-by-zero expression. This is called \"short-cutting\"."
   ]
  },
  {
   "cell_type": "markdown",
   "metadata": {},
   "source": [
    "Copy the necessary code below and change it to add `if`. Make sure you test it thoroughly. "
   ]
  },
  {
   "cell_type": "code",
   "execution_count": null,
   "metadata": {
    "collapsed": true,
    "deletable": false,
    "nbgrader": {
     "checksum": "391473df008ee97ccc6c0058de933d61",
     "grade": true,
     "grade_id": "test-if",
     "locked": false,
     "points": 20,
     "solution": true
    }
   },
   "outputs": [],
   "source": [
    "# YOUR CODE HERE\n",
    "raise NotImplementedError()"
   ]
  },
  {
   "cell_type": "markdown",
   "metadata": {},
   "source": [
    "# 2. Reflections"
   ]
  },
  {
   "cell_type": "markdown",
   "metadata": {},
   "source": [
    "As per usual, please reflect deeply on this week's lab. What was challenging, easy, or surprising? Connect the topics onto what you already know."
   ]
  },
  {
   "cell_type": "markdown",
   "metadata": {
    "collapsed": true,
    "deletable": false,
    "nbgrader": {
     "checksum": "fd25da50d920439579ae721eee54c9f7",
     "grade": true,
     "grade_id": "reflections",
     "locked": false,
     "points": 50,
     "solution": true
    }
   },
   "source": [
    "YOUR ANSWER HERE"
   ]
  }
 ],
 "metadata": {
  "kernelspec": {
   "display_name": "Python 3",
   "language": "python",
   "name": "python3"
  },
  "language_info": {
   "codemirror_mode": {
    "name": "ipython",
    "version": 3
   },
   "file_extension": ".py",
   "mimetype": "text/x-python",
   "name": "python",
   "nbconvert_exporter": "python",
   "pygments_lexer": "ipython3",
   "version": "3.5.2"
  }
 },
 "nbformat": 4,
 "nbformat_minor": 0
}
