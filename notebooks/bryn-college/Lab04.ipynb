{
 "cells": [
  {
   "cell_type": "markdown",
   "metadata": {},
   "source": [
    "<h1>Lab 04: Building a Scheme Interpreter in Python: Step 2</h1>\n",
    "\n",
    "<h2>CS245: Programming Languages<br>\n",
    "Bryn Mawr College, Fall 2016<br>\n",
    "Prof. Blank\n",
    "</h2>\n",
    "\n",
    "In this assignment we will add primitive functions, variables, and user-defined functions to our S-Calc language."
   ]
  },
  {
   "cell_type": "markdown",
   "metadata": {},
   "source": [
    "By-line below:"
   ]
  },
  {
   "cell_type": "markdown",
   "metadata": {
    "nbgrader": {
     "grade": true,
     "grade_id": "by-line",
     "locked": false,
     "points": 5,
     "solution": true
    }
   },
   "source": []
  },
  {
   "cell_type": "markdown",
   "metadata": {},
   "source": [
    "# 1. Starting from Lab03"
   ]
  },
  {
   "cell_type": "markdown",
   "metadata": {},
   "source": [
    "Copy and paste your functions from Lab03 here. Only include the functions and definitions that you need.\n",
    "\n",
    "You may use Doug's solution if you wish.\n",
    "\n",
    "Check to make sure all of Lab03 still works.\n",
    "\n",
    "You will want to refer to https://athena.brynmawr.edu/jupyter/hub/dblank/public/CS245%20Programming%20Languages/2016-Fall/Notebooks/Adding%20Functions%20and%20Variables%20to%20S-Calc.ipynb and add any needed functions."
   ]
  },
  {
   "cell_type": "markdown",
   "metadata": {},
   "source": [
    "# 2. Moving Primitive Functions to an Env"
   ]
  },
  {
   "cell_type": "markdown",
   "metadata": {},
   "source": [
    "## 2.1 Move functions from evaluator_apply to top_level_env.\n",
    "\n",
    "After this step, evaluator_apply should just be:"
   ]
  },
  {
   "cell_type": "code",
   "execution_count": 1,
   "metadata": {
    "collapsed": true
   },
   "outputs": [],
   "source": [
    "def evaluator_apply(op, operands):\n",
    "    return op(operands)"
   ]
  },
  {
   "cell_type": "markdown",
   "metadata": {},
   "source": [
    "## 2.2 Change evaluator to have var-exp use lookup"
   ]
  },
  {
   "cell_type": "markdown",
   "metadata": {},
   "source": [
    "## 2.3 Add a new parameter to evaluator called env\n",
    "\n",
    "Make sure you pass evaluator env whenever called (even in Map).\n",
    "\n",
    "\n",
    "Test these thoroughly here before proceeding."
   ]
  },
  {
   "cell_type": "markdown",
   "metadata": {},
   "source": [
    "# 3. Adding User-Defined Functions"
   ]
  },
  {
   "cell_type": "markdown",
   "metadata": {},
   "source": [
    "## 3.1 Add lambda to parser\n",
    "\n",
    "Parsing a lambda should produce a proc-exp."
   ]
  },
  {
   "cell_type": "markdown",
   "metadata": {},
   "source": [
    "## 3.2 Add proc-exp handling to evaluator\n",
    "\n",
    "Evaluating a proc-exp should produce a closure-exp."
   ]
  },
  {
   "cell_type": "markdown",
   "metadata": {},
   "source": [
    "## 3.3 Add closure-exp handling to evaluator_apply\n",
    "\n",
    "You now need to change apply_evaluator again to allow the application of closures."
   ]
  },
  {
   "cell_type": "markdown",
   "metadata": {},
   "source": [
    "# 4. Reflections"
   ]
  },
  {
   "cell_type": "markdown",
   "metadata": {},
   "source": [
    "As per usual, please reflect deeply on this week's lab. What was challenging, easy, or surprising? Connect the topics onto what you already know."
   ]
  },
  {
   "cell_type": "markdown",
   "metadata": {
    "nbgrader": {
     "grade": true,
     "grade_id": "reflections",
     "locked": false,
     "points": 50,
     "solution": true
    }
   },
   "source": []
  }
 ],
 "metadata": {
  "celltoolbar": "Create Assignment",
  "kernelspec": {
   "display_name": "Python 3",
   "language": "python",
   "name": "python3"
  },
  "language_info": {
   "codemirror_mode": {
    "name": "ipython",
    "version": 3
   },
   "file_extension": ".py",
   "mimetype": "text/x-python",
   "name": "python",
   "nbconvert_exporter": "python",
   "pygments_lexer": "ipython3",
   "version": "3.5.2"
  }
 },
 "nbformat": 4,
 "nbformat_minor": 1
}
