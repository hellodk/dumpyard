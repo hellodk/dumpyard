{
 "cells": [
  {
   "cell_type": "markdown",
   "metadata": {},
   "source": [
    "<h1>Lab 06: Evolving Brains</h1>\n",
    "\n",
    "<h2>CS371: Cognitive Science<br>\n",
    "Bryn Mawr College, Fall 2016<br>\n",
    "Prof. Blank\n",
    "</h2>\n",
    "\n",
    "This is a team-based project."
   ]
  },
  {
   "cell_type": "markdown",
   "metadata": {},
   "source": [
    "*Please put your \"# title\" and \"## by-line\" in the next two cells (respectively), and then delete this cell*"
   ]
  },
  {
   "cell_type": "markdown",
   "metadata": {
    "deletable": false,
    "nbgrader": {
     "checksum": "11602f52fe25f5e421531fe993d637c1",
     "grade": true,
     "grade_id": "title",
     "locked": false,
     "points": 10,
     "solution": true
    }
   },
   "source": [
    "YOUR ANSWER HERE"
   ]
  },
  {
   "cell_type": "markdown",
   "metadata": {
    "deletable": false,
    "nbgrader": {
     "checksum": "c3a78a17e38006b5095ace46d88155f1",
     "grade": true,
     "grade_id": "by-line",
     "locked": false,
     "points": 10,
     "solution": true
    }
   },
   "source": [
    "YOUR ANSWER HERE"
   ]
  },
  {
   "cell_type": "markdown",
   "metadata": {},
   "source": [
    "This lab explores using evolution to find a good Ladybug DNA. First, we have all of our imports and setup that we will need:"
   ]
  },
  {
   "cell_type": "code",
   "execution_count": 1,
   "metadata": {
    "collapsed": true
   },
   "outputs": [],
   "source": [
    "from calysto.simulation import DiscreteView, get_robot, DNARobot\n",
    "from calysto.display import display, clear_output\n",
    "import random\n",
    "import string\n",
    "import copy\n",
    "\n",
    "%matplotlib inline"
   ]
  },
  {
   "cell_type": "markdown",
   "metadata": {},
   "source": [
    "For these experiments, we will be using the DNA representation that is:\n",
    "\n",
    "* exactly 93 characters long\n",
    "* made up of the characters \"0123456789\"\n",
    "\n",
    "Remember that exactly what these 93 bits of DNA are is unknown to us, as is the meaning of each character. We don't know how these DNA encode a Ladybug brain, but we know that somehow they do.\n",
    "\n",
    "Our mission is to search through the space of possible Ladybug brains and find a good one, if not the best."
   ]
  },
  {
   "cell_type": "markdown",
   "metadata": {},
   "source": [
    "# Genetic Algorithm\n",
    "\n",
    "Evolutionary algorithms are techniques for searching through a solution landscape in a generally effective manner. \n",
    "\n",
    "All evolutionary strategies have a core set of properties:\n",
    "\n",
    "* A \"population\" of solutions\n",
    "* Limited resources (not all solutions will survive)\n",
    "* A measure of performance, called ''fitness''\n",
    "* Preferential treatment toward the higher measured solutions (the most fit ones)\n",
    "* Reliance on randomness\n",
    "\n",
    "A typical evolutionary system follows this basic algorithm:\n",
    "\n",
    "1. Create a random population of solutions\n",
    "2. Compute a fitness measure for each\n",
    "3. Create new members by mutating and/or combining old ones (often selecting the better ones based on fitness)\n",
    "4. Select the most fit for the next generation\n",
    "5. Go to Step #3\n",
    "\n"
   ]
  },
  {
   "cell_type": "markdown",
   "metadata": {},
   "source": [
    "## Randomized DNA Function"
   ]
  },
  {
   "cell_type": "markdown",
   "metadata": {},
   "source": [
    "First, we make a simple function to make a random DNA string:"
   ]
  },
  {
   "cell_type": "code",
   "execution_count": 2,
   "metadata": {
    "collapsed": true
   },
   "outputs": [],
   "source": [
    "alphabet = \"0123456789\"\n",
    "\n",
    "def make_dna(length):\n",
    "    return \"\".join([random.choice(alphabet) for i in range(length)])"
   ]
  },
  {
   "cell_type": "code",
   "execution_count": 3,
   "metadata": {
    "collapsed": false
   },
   "outputs": [
    {
     "data": {
      "text/plain": [
       "'667725087231604835114936588685531632573346010361182621852439651692351185085263856981249486522'"
      ]
     },
     "execution_count": 3,
     "metadata": {},
     "output_type": "execute_result"
    }
   ],
   "source": [
    "dna = make_dna(93)\n",
    "dna"
   ]
  },
  {
   "cell_type": "markdown",
   "metadata": {},
   "source": [
    "## 1.2 Fitness Function"
   ]
  },
  {
   "cell_type": "markdown",
   "metadata": {},
   "source": [
    "Let's let the ladybug move about for a few simulated seconds, or until it dies (whichever happens first). We'll take the fitness to be the average amount of energy that it has over that time.\n",
    "\n",
    "To make this a bit easier on our ladybug, we'll add an extra cluster of food around it when we test the ladybug.\n",
    "\n",
    "First, we make a simulation object and get the simulated ladybug:"
   ]
  },
  {
   "cell_type": "code",
   "execution_count": 4,
   "metadata": {
    "collapsed": true
   },
   "outputs": [],
   "source": [
    "sim = DiscreteView(\"Ladybug1\")\n",
    "robot = get_robot()"
   ]
  },
  {
   "cell_type": "markdown",
   "metadata": {},
   "source": [
    "Nothing is visible, but it exists. This is to make the simulation run fast. Whenever we want, we can see where the ladybug is:"
   ]
  },
  {
   "cell_type": "code",
   "execution_count": 5,
   "metadata": {
    "collapsed": false
   },
   "outputs": [
    {
     "data": {
      "image/png": "[encoded data removed]",
      "image/svg+xml": [
       "<svg baseProfile=\"full\" height=\"400\" version=\"1.1\" width=\"600\" xmlns=\"http://www.w3.org/2000/svg\" xmlns:ev=\"http://www.w3.org/2001/xml-events\" xmlns:xlink=\"http://www.w3.org/1999/xlink\"><defs /><rect fill=\"green\" fill-opacity=\"1.0\" height=\"400\" stroke=\"#000000\" stroke-opacity=\"0.0\" stroke-width=\"1\" width=\"600\" x=\"0\" y=\"0\" /><circle cx=\"5.0\" cy=\"5.0\" fill=\"purple\" fill-opacity=\"1.0\" r=\"5\" stroke=\"#000000\" stroke-width=\"1\" /><circle cx=\"5.0\" cy=\"15.0\" fill=\"purple\" fill-opacity=\"1.0\" r=\"5\" stroke=\"#000000\" stroke-width=\"1\" /><circle cx=\"5.0\" cy=\"25.0\" fill=\"purple\" fill-opacity=\"1.0\" r=\"5\" stroke=\"#000000\" stroke-width=\"1\" /><circle cx=\"5.0\" cy=\"35.0\" fill=\"purple\" fill-opacity=\"1.0\" r=\"5\" stroke=\"#000000\" stroke-width=\"1\" /><circle cx=\"5.0\" cy=\"45.0\" fill=\"purple\" fill-opacity=\"1.0\" r=\"5\" stroke=\"#000000\" stroke-width=\"1\" /><circle cx=\"5.0\" cy=\"55.0\" fill=\"purple\" fill-opacity=\"1.0\" r=\"5\" stroke=\"#000000\" stroke-width=\"1\" /><circle cx=\"5.0\" cy=\"65.0\" fill=\"purple\" fill-opacity=\"1.0\" r=\"5\" stroke=\"#000000\" stroke-width=\"1\" /><circle cx=\"5.0\" cy=\"75.0\" fill=\"purple\" fill-opacity=\"1.0\" r=\"5\" stroke=\"#000000\" stroke-width=\"1\" /><circle cx=\"5.0\" cy=\"85.0\" fill=\"purple\" fill-opacity=\"1.0\" r=\"5\" stroke=\"#000000\" stroke-width=\"1\" /><circle cx=\"5.0\" cy=\"95.0\" fill=\"purple\" fill-opacity=\"1.0\" r=\"5\" stroke=\"#000000\" stroke-width=\"1\" /><circle cx=\"5.0\" cy=\"105.0\" fill=\"purple\" fill-opacity=\"1.0\" r=\"5\" stroke=\"#000000\" stroke-width=\"1\" /><circle cx=\"5.0\" cy=\"115.0\" fill=\"purple\" fill-opacity=\"1.0\" r=\"5\" stroke=\"#000000\" stroke-width=\"1\" /><circle cx=\"5.0\" cy=\"125.0\" fill=\"purple\" fill-opacity=\"1.0\" r=\"5\" stroke=\"#000000\" stroke-width=\"1\" /><circle cx=\"5.0\" cy=\"135.0\" fill=\"purple\" fill-opacity=\"1.0\" r=\"5\" stroke=\"#000000\" stroke-width=\"1\" /><circle cx=\"5.0\" cy=\"145.0\" fill=\"purple\" fill-opacity=\"1.0\" r=\"5\" stroke=\"#000000\" stroke-width=\"1\" /><circle cx=\"5.0\" cy=\"155.0\" fill=\"purple\" fill-opacity=\"1.0\" r=\"5\" stroke=\"#000000\" stroke-width=\"1\" /><circle cx=\"5.0\" cy=\"165.0\" fill=\"purple\" fill-opacity=\"1.0\" r=\"5\" stroke=\"#000000\" stroke-width=\"1\" /><circle cx=\"5.0\" cy=\"175.0\" fill=\"purple\" fill-opacity=\"1.0\" r=\"5\" stroke=\"#000000\" stroke-width=\"1\" /><circle cx=\"5.0\" cy=\"185.0\" fill=\"purple\" fill-opacity=\"1.0\" r=\"5\" stroke=\"#000000\" stroke-width=\"1\" /><circle cx=\"5.0\" cy=\"195.0\" fill=\"purple\" fill-opacity=\"1.0\" r=\"5\" stroke=\"#000000\" stroke-width=\"1\" /><circle cx=\"5.0\" cy=\"205.0\" fill=\"purple\" fill-opacity=\"1.0\" r=\"5\" stroke=\"#000000\" stroke-width=\"1\" /><circle cx=\"5.0\" cy=\"215.0\" fill=\"purple\" fill-opacity=\"1.0\" r=\"5\" stroke=\"#000000\" stroke-width=\"1\" /><circle cx=\"5.0\" cy=\"225.0\" fill=\"purple\" fill-opacity=\"1.0\" r=\"5\" stroke=\"#000000\" stroke-width=\"1\" /><circle cx=\"5.0\" cy=\"235.0\" fill=\"purple\" fill-opacity=\"1.0\" r=\"5\" stroke=\"#000000\" stroke-width=\"1\" /><circle cx=\"5.0\" cy=\"245.0\" fill=\"purple\" fill-opacity=\"1.0\" r=\"5\" stroke=\"#000000\" stroke-width=\"1\" /><circle cx=\"5.0\" cy=\"255.0\" fill=\"purple\" fill-opacity=\"1.0\" r=\"5\" stroke=\"#000000\" stroke-width=\"1\" /><circle cx=\"5.0\" cy=\"265.0\" fill=\"purple\" fill-opacity=\"1.0\" r=\"5\" stroke=\"#000000\" stroke-width=\"1\" /><circle cx=\"5.0\" cy=\"275.0\" fill=\"purple\" fill-opacity=\"1.0\" r=\"5\" stroke=\"#000000\" stroke-width=\"1\" /><circle cx=\"5.0\" cy=\"285.0\" fill=\"purple\" fill-opacity=\"1.0\" r=\"5\" stroke=\"#000000\" stroke-width=\"1\" /><circle cx=\"5.0\" cy=\"295.0\" fill=\"purple\" fill-opacity=\"1.0\" r=\"5\" stroke=\"#000000\" stroke-width=\"1\" /><circle cx=\"5.0\" cy=\"305.0\" fill=\"purple\" fill-opacity=\"1.0\" r=\"5\" stroke=\"#000000\" stroke-width=\"1\" /><circle cx=\"5.0\" cy=\"315.0\" fill=\"purple\" fill-opacity=\"1.0\" r=\"5\" stroke=\"#000000\" stroke-width=\"1\" /><circle cx=\"5.0\" cy=\"325.0\" fill=\"purple\" fill-opacity=\"1.0\" r=\"5\" stroke=\"#000000\" stroke-width=\"1\" /><circle cx=\"5.0\" cy=\"335.0\" fill=\"purple\" fill-opacity=\"1.0\" r=\"5\" stroke=\"#000000\" stroke-width=\"1\" /><circle cx=\"5.0\" cy=\"345.0\" fill=\"purple\" fill-opacity=\"1.0\" r=\"5\" stroke=\"#000000\" stroke-width=\"1\" /><circle cx=\"5.0\" cy=\"355.0\" fill=\"purple\" fill-opacity=\"1.0\" r=\"5\" stroke=\"#000000\" stroke-width=\"1\" /><circle cx=\"5.0\" cy=\"365.0\" fill=\"purple\" fill-opacity=\"1.0\" r=\"5\" stroke=\"#000000\" stroke-width=\"1\" /><circle cx=\"5.0\" cy=\"375.0\" fill=\"purple\" fill-opacity=\"1.0\" r=\"5\" stroke=\"#000000\" stroke-width=\"1\" /><circle cx=\"5.0\" cy=\"385.0\" fill=\"purple\" fill-opacity=\"1.0\" r=\"5\" stroke=\"#000000\" stroke-width=\"1\" /><circle cx=\"5.0\" cy=\"395.0\" fill=\"purple\" fill-opacity=\"1.0\" r=\"5\" stroke=\"#000000\" stroke-width=\"1\" /><circle cx=\"15.0\" cy=\"5.0\" fill=\"purple\" fill-opacity=\"1.0\" r=\"5\" stroke=\"#000000\" stroke-width=\"1\" /><circle cx=\"15.0\" cy=\"395.0\" fill=\"purple\" fill-opacity=\"1.0\" r=\"5\" stroke=\"#000000\" stroke-width=\"1\" /><circle cx=\"25.0\" cy=\"5.0\" fill=\"purple\" fill-opacity=\"1.0\" r=\"5\" stroke=\"#000000\" stroke-width=\"1\" /><circle cx=\"25.0\" cy=\"395.0\" fill=\"purple\" fill-opacity=\"1.0\" r=\"5\" stroke=\"#000000\" stroke-width=\"1\" /><circle cx=\"35.0\" cy=\"5.0\" fill=\"purple\" fill-opacity=\"1.0\" r=\"5\" stroke=\"#000000\" stroke-width=\"1\" /><circle cx=\"35.0\" cy=\"395.0\" fill=\"purple\" fill-opacity=\"1.0\" r=\"5\" stroke=\"#000000\" stroke-width=\"1\" /><circle cx=\"45.0\" cy=\"5.0\" fill=\"purple\" fill-opacity=\"1.0\" r=\"5\" stroke=\"#000000\" stroke-width=\"1\" /><circle cx=\"45.0\" cy=\"395.0\" fill=\"purple\" fill-opacity=\"1.0\" r=\"5\" stroke=\"#000000\" stroke-width=\"1\" /><circle cx=\"55.0\" cy=\"5.0\" fill=\"purple\" fill-opacity=\"1.0\" r=\"5\" stroke=\"#000000\" stroke-width=\"1\" /><circle cx=\"55.0\" cy=\"35.0\" fill=\"yellow\" fill-opacity=\"1.0\" r=\"5\" stroke=\"#000000\" stroke-width=\"1\" /><circle cx=\"55.0\" cy=\"395.0\" fill=\"purple\" fill-opacity=\"1.0\" r=\"5\" stroke=\"#000000\" stroke-width=\"1\" /><circle cx=\"65.0\" cy=\"5.0\" fill=\"purple\" fill-opacity=\"1.0\" r=\"5\" stroke=\"#000000\" stroke-width=\"1\" /><circle cx=\"65.0\" cy=\"25.0\" fill=\"yellow\" fill-opacity=\"1.0\" r=\"5\" stroke=\"#000000\" stroke-width=\"1\" /><circle cx=\"65.0\" cy=\"395.0\" fill=\"purple\" fill-opacity=\"1.0\" r=\"5\" stroke=\"#000000\" stroke-width=\"1\" /><circle cx=\"75.0\" cy=\"5.0\" fill=\"purple\" fill-opacity=\"1.0\" r=\"5\" stroke=\"#000000\" stroke-width=\"1\" /><circle cx=\"75.0\" cy=\"65.0\" fill=\"yellow\" fill-opacity=\"1.0\" r=\"5\" stroke=\"#000000\" stroke-width=\"1\" /><circle cx=\"75.0\" cy=\"105.0\" fill=\"yellow\" fill-opacity=\"1.0\" r=\"5\" stroke=\"#000000\" stroke-width=\"1\" /><circle cx=\"75.0\" cy=\"395.0\" fill=\"purple\" fill-opacity=\"1.0\" r=\"5\" stroke=\"#000000\" stroke-width=\"1\" /><circle cx=\"85.0\" cy=\"5.0\" fill=\"purple\" fill-opacity=\"1.0\" r=\"5\" stroke=\"#000000\" stroke-width=\"1\" /><circle cx=\"85.0\" cy=\"85.0\" fill=\"yellow\" fill-opacity=\"1.0\" r=\"5\" stroke=\"#000000\" stroke-width=\"1\" /><circle cx=\"85.0\" cy=\"395.0\" fill=\"purple\" fill-opacity=\"1.0\" r=\"5\" stroke=\"#000000\" stroke-width=\"1\" /><circle cx=\"95.0\" cy=\"5.0\" fill=\"purple\" fill-opacity=\"1.0\" r=\"5\" stroke=\"#000000\" stroke-width=\"1\" /><circle cx=\"95.0\" cy=\"85.0\" fill=\"yellow\" fill-opacity=\"1.0\" r=\"5\" stroke=\"#000000\" stroke-width=\"1\" /><circle cx=\"95.0\" cy=\"395.0\" fill=\"purple\" fill-opacity=\"1.0\" r=\"5\" stroke=\"#000000\" stroke-width=\"1\" /><circle cx=\"105.0\" cy=\"5.0\" fill=\"purple\" fill-opacity=\"1.0\" r=\"5\" stroke=\"#000000\" stroke-width=\"1\" /><circle cx=\"105.0\" cy=\"65.0\" fill=\"yellow\" fill-opacity=\"1.0\" r=\"5\" stroke=\"#000000\" stroke-width=\"1\" /><circle cx=\"105.0\" cy=\"105.0\" fill=\"yellow\" fill-opacity=\"1.0\" r=\"5\" stroke=\"#000000\" stroke-width=\"1\" /><circle cx=\"105.0\" cy=\"395.0\" fill=\"purple\" fill-opacity=\"1.0\" r=\"5\" stroke=\"#000000\" stroke-width=\"1\" /><circle cx=\"115.0\" cy=\"5.0\" fill=\"purple\" fill-opacity=\"1.0\" r=\"5\" stroke=\"#000000\" stroke-width=\"1\" /><circle cx=\"115.0\" cy=\"45.0\" fill=\"yellow\" fill-opacity=\"1.0\" r=\"5\" stroke=\"#000000\" stroke-width=\"1\" /><circle cx=\"115.0\" cy=\"65.0\" fill=\"yellow\" fill-opacity=\"1.0\" r=\"5\" stroke=\"#000000\" stroke-width=\"1\" /><circle cx=\"115.0\" cy=\"85.0\" fill=\"yellow\" fill-opacity=\"1.0\" r=\"5\" stroke=\"#000000\" stroke-width=\"1\" /><circle cx=\"115.0\" cy=\"115.0\" fill=\"yellow\" fill-opacity=\"1.0\" r=\"5\" stroke=\"#000000\" stroke-width=\"1\" /><circle cx=\"115.0\" cy=\"395.0\" fill=\"purple\" fill-opacity=\"1.0\" r=\"5\" stroke=\"#000000\" stroke-width=\"1\" /><circle cx=\"125.0\" cy=\"5.0\" fill=\"purple\" fill-opacity=\"1.0\" r=\"5\" stroke=\"#000000\" stroke-width=\"1\" /><circle cx=\"125.0\" cy=\"395.0\" fill=\"purple\" fill-opacity=\"1.0\" r=\"5\" stroke=\"#000000\" stroke-width=\"1\" /><circle cx=\"135.0\" cy=\"5.0\" fill=\"purple\" fill-opacity=\"1.0\" r=\"5\" stroke=\"#000000\" stroke-width=\"1\" /><circle cx=\"135.0\" cy=\"35.0\" fill=\"yellow\" fill-opacity=\"1.0\" r=\"5\" stroke=\"#000000\" stroke-width=\"1\" /><circle cx=\"135.0\" cy=\"65.0\" fill=\"yellow\" fill-opacity=\"1.0\" r=\"5\" stroke=\"#000000\" stroke-width=\"1\" /><circle cx=\"135.0\" cy=\"85.0\" fill=\"yellow\" fill-opacity=\"1.0\" r=\"5\" stroke=\"#000000\" stroke-width=\"1\" /><circle cx=\"135.0\" cy=\"395.0\" fill=\"purple\" fill-opacity=\"1.0\" r=\"5\" stroke=\"#000000\" stroke-width=\"1\" /><circle cx=\"145.0\" cy=\"5.0\" fill=\"purple\" fill-opacity=\"1.0\" r=\"5\" stroke=\"#000000\" stroke-width=\"1\" /><circle cx=\"145.0\" cy=\"65.0\" fill=\"yellow\" fill-opacity=\"1.0\" r=\"5\" stroke=\"#000000\" stroke-width=\"1\" /><circle cx=\"145.0\" cy=\"395.0\" fill=\"purple\" fill-opacity=\"1.0\" r=\"5\" stroke=\"#000000\" stroke-width=\"1\" /><circle cx=\"155.0\" cy=\"5.0\" fill=\"purple\" fill-opacity=\"1.0\" r=\"5\" stroke=\"#000000\" stroke-width=\"1\" /><circle cx=\"155.0\" cy=\"395.0\" fill=\"purple\" fill-opacity=\"1.0\" r=\"5\" stroke=\"#000000\" stroke-width=\"1\" /><circle cx=\"165.0\" cy=\"5.0\" fill=\"purple\" fill-opacity=\"1.0\" r=\"5\" stroke=\"#000000\" stroke-width=\"1\" /><circle cx=\"165.0\" cy=\"395.0\" fill=\"purple\" fill-opacity=\"1.0\" r=\"5\" stroke=\"#000000\" stroke-width=\"1\" /><circle cx=\"175.0\" cy=\"5.0\" fill=\"purple\" fill-opacity=\"1.0\" r=\"5\" stroke=\"#000000\" stroke-width=\"1\" /><circle cx=\"175.0\" cy=\"35.0\" fill=\"yellow\" fill-opacity=\"1.0\" r=\"5\" stroke=\"#000000\" stroke-width=\"1\" /><circle cx=\"175.0\" cy=\"55.0\" fill=\"yellow\" fill-opacity=\"1.0\" r=\"5\" stroke=\"#000000\" stroke-width=\"1\" /><circle cx=\"175.0\" cy=\"395.0\" fill=\"purple\" fill-opacity=\"1.0\" r=\"5\" stroke=\"#000000\" stroke-width=\"1\" /><circle cx=\"185.0\" cy=\"5.0\" fill=\"purple\" fill-opacity=\"1.0\" r=\"5\" stroke=\"#000000\" stroke-width=\"1\" /><circle cx=\"185.0\" cy=\"395.0\" fill=\"purple\" fill-opacity=\"1.0\" r=\"5\" stroke=\"#000000\" stroke-width=\"1\" /><circle cx=\"195.0\" cy=\"5.0\" fill=\"purple\" fill-opacity=\"1.0\" r=\"5\" stroke=\"#000000\" stroke-width=\"1\" /><circle cx=\"195.0\" cy=\"65.0\" fill=\"yellow\" fill-opacity=\"1.0\" r=\"5\" stroke=\"#000000\" stroke-width=\"1\" /><circle cx=\"195.0\" cy=\"395.0\" fill=\"purple\" fill-opacity=\"1.0\" r=\"5\" stroke=\"#000000\" stroke-width=\"1\" /><circle cx=\"205.0\" cy=\"5.0\" fill=\"purple\" fill-opacity=\"1.0\" r=\"5\" stroke=\"#000000\" stroke-width=\"1\" /><circle cx=\"205.0\" cy=\"85.0\" fill=\"yellow\" fill-opacity=\"1.0\" r=\"5\" stroke=\"#000000\" stroke-width=\"1\" /><circle cx=\"205.0\" cy=\"395.0\" fill=\"purple\" fill-opacity=\"1.0\" r=\"5\" stroke=\"#000000\" stroke-width=\"1\" /><circle cx=\"215.0\" cy=\"5.0\" fill=\"purple\" fill-opacity=\"1.0\" r=\"5\" stroke=\"#000000\" stroke-width=\"1\" /><circle cx=\"215.0\" cy=\"395.0\" fill=\"purple\" fill-opacity=\"1.0\" r=\"5\" stroke=\"#000000\" stroke-width=\"1\" /><circle cx=\"225.0\" cy=\"5.0\" fill=\"purple\" fill-opacity=\"1.0\" r=\"5\" stroke=\"#000000\" stroke-width=\"1\" /><circle cx=\"225.0\" cy=\"395.0\" fill=\"purple\" fill-opacity=\"1.0\" r=\"5\" stroke=\"#000000\" stroke-width=\"1\" /><circle cx=\"235.0\" cy=\"5.0\" fill=\"purple\" fill-opacity=\"1.0\" r=\"5\" stroke=\"#000000\" stroke-width=\"1\" /><circle cx=\"235.0\" cy=\"395.0\" fill=\"purple\" fill-opacity=\"1.0\" r=\"5\" stroke=\"#000000\" stroke-width=\"1\" /><circle cx=\"245.0\" cy=\"5.0\" fill=\"purple\" fill-opacity=\"1.0\" r=\"5\" stroke=\"#000000\" stroke-width=\"1\" /><circle cx=\"245.0\" cy=\"235.0\" fill=\"yellow\" fill-opacity=\"1.0\" r=\"5\" stroke=\"#000000\" stroke-width=\"1\" /><circle cx=\"245.0\" cy=\"395.0\" fill=\"purple\" fill-opacity=\"1.0\" r=\"5\" stroke=\"#000000\" stroke-width=\"1\" /><circle cx=\"255.0\" cy=\"5.0\" fill=\"purple\" fill-opacity=\"1.0\" r=\"5\" stroke=\"#000000\" stroke-width=\"1\" /><circle cx=\"255.0\" cy=\"395.0\" fill=\"purple\" fill-opacity=\"1.0\" r=\"5\" stroke=\"#000000\" stroke-width=\"1\" /><circle cx=\"265.0\" cy=\"5.0\" fill=\"purple\" fill-opacity=\"1.0\" r=\"5\" stroke=\"#000000\" stroke-width=\"1\" /><circle cx=\"265.0\" cy=\"195.0\" fill=\"yellow\" fill-opacity=\"1.0\" r=\"5\" stroke=\"#000000\" stroke-width=\"1\" /><circle cx=\"265.0\" cy=\"395.0\" fill=\"purple\" fill-opacity=\"1.0\" r=\"5\" stroke=\"#000000\" stroke-width=\"1\" /><circle cx=\"275.0\" cy=\"5.0\" fill=\"purple\" fill-opacity=\"1.0\" r=\"5\" stroke=\"#000000\" stroke-width=\"1\" /><circle cx=\"275.0\" cy=\"195.0\" fill=\"yellow\" fill-opacity=\"1.0\" r=\"5\" stroke=\"#000000\" stroke-width=\"1\" /><circle cx=\"275.0\" cy=\"225.0\" fill=\"yellow\" fill-opacity=\"1.0\" r=\"5\" stroke=\"#000000\" stroke-width=\"1\" /><circle cx=\"275.0\" cy=\"395.0\" fill=\"purple\" fill-opacity=\"1.0\" r=\"5\" stroke=\"#000000\" stroke-width=\"1\" /><circle cx=\"285.0\" cy=\"5.0\" fill=\"purple\" fill-opacity=\"1.0\" r=\"5\" stroke=\"#000000\" stroke-width=\"1\" /><circle cx=\"285.0\" cy=\"165.0\" fill=\"yellow\" fill-opacity=\"1.0\" r=\"5\" stroke=\"#000000\" stroke-width=\"1\" /><circle cx=\"285.0\" cy=\"395.0\" fill=\"purple\" fill-opacity=\"1.0\" r=\"5\" stroke=\"#000000\" stroke-width=\"1\" /><circle cx=\"295.0\" cy=\"5.0\" fill=\"purple\" fill-opacity=\"1.0\" r=\"5\" stroke=\"#000000\" stroke-width=\"1\" /><circle cx=\"295.0\" cy=\"215.0\" fill=\"yellow\" fill-opacity=\"1.0\" r=\"5\" stroke=\"#000000\" stroke-width=\"1\" /><circle cx=\"295.0\" cy=\"235.0\" fill=\"yellow\" fill-opacity=\"1.0\" r=\"5\" stroke=\"#000000\" stroke-width=\"1\" /><circle cx=\"295.0\" cy=\"245.0\" fill=\"yellow\" fill-opacity=\"1.0\" r=\"5\" stroke=\"#000000\" stroke-width=\"1\" /><circle cx=\"295.0\" cy=\"395.0\" fill=\"purple\" fill-opacity=\"1.0\" r=\"5\" stroke=\"#000000\" stroke-width=\"1\" /><circle cx=\"305.0\" cy=\"5.0\" fill=\"purple\" fill-opacity=\"1.0\" r=\"5\" stroke=\"#000000\" stroke-width=\"1\" /><circle cx=\"305.0\" cy=\"195.0\" fill=\"yellow\" fill-opacity=\"1.0\" r=\"5\" stroke=\"#000000\" stroke-width=\"1\" /><circle cx=\"305.0\" cy=\"215.0\" fill=\"yellow\" fill-opacity=\"1.0\" r=\"5\" stroke=\"#000000\" stroke-width=\"1\" /><circle cx=\"305.0\" cy=\"225.0\" fill=\"yellow\" fill-opacity=\"1.0\" r=\"5\" stroke=\"#000000\" stroke-width=\"1\" /><circle cx=\"305.0\" cy=\"395.0\" fill=\"purple\" fill-opacity=\"1.0\" r=\"5\" stroke=\"#000000\" stroke-width=\"1\" /><circle cx=\"315.0\" cy=\"5.0\" fill=\"purple\" fill-opacity=\"1.0\" r=\"5\" stroke=\"#000000\" stroke-width=\"1\" /><circle cx=\"315.0\" cy=\"195.0\" fill=\"yellow\" fill-opacity=\"1.0\" r=\"5\" stroke=\"#000000\" stroke-width=\"1\" /><circle cx=\"315.0\" cy=\"245.0\" fill=\"yellow\" fill-opacity=\"1.0\" r=\"5\" stroke=\"#000000\" stroke-width=\"1\" /><circle cx=\"315.0\" cy=\"275.0\" fill=\"yellow\" fill-opacity=\"1.0\" r=\"5\" stroke=\"#000000\" stroke-width=\"1\" /><circle cx=\"315.0\" cy=\"395.0\" fill=\"purple\" fill-opacity=\"1.0\" r=\"5\" stroke=\"#000000\" stroke-width=\"1\" /><circle cx=\"325.0\" cy=\"5.0\" fill=\"purple\" fill-opacity=\"1.0\" r=\"5\" stroke=\"#000000\" stroke-width=\"1\" /><circle cx=\"325.0\" cy=\"175.0\" fill=\"yellow\" fill-opacity=\"1.0\" r=\"5\" stroke=\"#000000\" stroke-width=\"1\" /><circle cx=\"325.0\" cy=\"215.0\" fill=\"yellow\" fill-opacity=\"1.0\" r=\"5\" stroke=\"#000000\" stroke-width=\"1\" /><circle cx=\"325.0\" cy=\"395.0\" fill=\"purple\" fill-opacity=\"1.0\" r=\"5\" stroke=\"#000000\" stroke-width=\"1\" /><circle cx=\"335.0\" cy=\"5.0\" fill=\"purple\" fill-opacity=\"1.0\" r=\"5\" stroke=\"#000000\" stroke-width=\"1\" /><circle cx=\"335.0\" cy=\"225.0\" fill=\"yellow\" fill-opacity=\"1.0\" r=\"5\" stroke=\"#000000\" stroke-width=\"1\" /><circle cx=\"335.0\" cy=\"235.0\" fill=\"yellow\" fill-opacity=\"1.0\" r=\"5\" stroke=\"#000000\" stroke-width=\"1\" /><circle cx=\"335.0\" cy=\"395.0\" fill=\"purple\" fill-opacity=\"1.0\" r=\"5\" stroke=\"#000000\" stroke-width=\"1\" /><circle cx=\"345.0\" cy=\"5.0\" fill=\"purple\" fill-opacity=\"1.0\" r=\"5\" stroke=\"#000000\" stroke-width=\"1\" /><circle cx=\"345.0\" cy=\"395.0\" fill=\"purple\" fill-opacity=\"1.0\" r=\"5\" stroke=\"#000000\" stroke-width=\"1\" /><circle cx=\"355.0\" cy=\"5.0\" fill=\"purple\" fill-opacity=\"1.0\" r=\"5\" stroke=\"#000000\" stroke-width=\"1\" /><circle cx=\"355.0\" cy=\"175.0\" fill=\"yellow\" fill-opacity=\"1.0\" r=\"5\" stroke=\"#000000\" stroke-width=\"1\" /><circle cx=\"355.0\" cy=\"395.0\" fill=\"purple\" fill-opacity=\"1.0\" r=\"5\" stroke=\"#000000\" stroke-width=\"1\" /><circle cx=\"365.0\" cy=\"5.0\" fill=\"purple\" fill-opacity=\"1.0\" r=\"5\" stroke=\"#000000\" stroke-width=\"1\" /><circle cx=\"365.0\" cy=\"395.0\" fill=\"purple\" fill-opacity=\"1.0\" r=\"5\" stroke=\"#000000\" stroke-width=\"1\" /><circle cx=\"375.0\" cy=\"5.0\" fill=\"purple\" fill-opacity=\"1.0\" r=\"5\" stroke=\"#000000\" stroke-width=\"1\" /><circle cx=\"375.0\" cy=\"275.0\" fill=\"yellow\" fill-opacity=\"1.0\" r=\"5\" stroke=\"#000000\" stroke-width=\"1\" /><circle cx=\"375.0\" cy=\"395.0\" fill=\"purple\" fill-opacity=\"1.0\" r=\"5\" stroke=\"#000000\" stroke-width=\"1\" /><circle cx=\"385.0\" cy=\"5.0\" fill=\"purple\" fill-opacity=\"1.0\" r=\"5\" stroke=\"#000000\" stroke-width=\"1\" /><circle cx=\"385.0\" cy=\"395.0\" fill=\"purple\" fill-opacity=\"1.0\" r=\"5\" stroke=\"#000000\" stroke-width=\"1\" /><circle cx=\"395.0\" cy=\"5.0\" fill=\"purple\" fill-opacity=\"1.0\" r=\"5\" stroke=\"#000000\" stroke-width=\"1\" /><circle cx=\"395.0\" cy=\"395.0\" fill=\"purple\" fill-opacity=\"1.0\" r=\"5\" stroke=\"#000000\" stroke-width=\"1\" /><circle cx=\"405.0\" cy=\"5.0\" fill=\"purple\" fill-opacity=\"1.0\" r=\"5\" stroke=\"#000000\" stroke-width=\"1\" /><circle cx=\"405.0\" cy=\"395.0\" fill=\"purple\" fill-opacity=\"1.0\" r=\"5\" stroke=\"#000000\" stroke-width=\"1\" /><circle cx=\"415.0\" cy=\"5.0\" fill=\"purple\" fill-opacity=\"1.0\" r=\"5\" stroke=\"#000000\" stroke-width=\"1\" /><circle cx=\"415.0\" cy=\"395.0\" fill=\"purple\" fill-opacity=\"1.0\" r=\"5\" stroke=\"#000000\" stroke-width=\"1\" /><circle cx=\"425.0\" cy=\"5.0\" fill=\"purple\" fill-opacity=\"1.0\" r=\"5\" stroke=\"#000000\" stroke-width=\"1\" /><circle cx=\"425.0\" cy=\"395.0\" fill=\"purple\" fill-opacity=\"1.0\" r=\"5\" stroke=\"#000000\" stroke-width=\"1\" /><circle cx=\"435.0\" cy=\"5.0\" fill=\"purple\" fill-opacity=\"1.0\" r=\"5\" stroke=\"#000000\" stroke-width=\"1\" /><circle cx=\"435.0\" cy=\"395.0\" fill=\"purple\" fill-opacity=\"1.0\" r=\"5\" stroke=\"#000000\" stroke-width=\"1\" /><circle cx=\"445.0\" cy=\"5.0\" fill=\"purple\" fill-opacity=\"1.0\" r=\"5\" stroke=\"#000000\" stroke-width=\"1\" /><circle cx=\"445.0\" cy=\"395.0\" fill=\"purple\" fill-opacity=\"1.0\" r=\"5\" stroke=\"#000000\" stroke-width=\"1\" /><circle cx=\"455.0\" cy=\"5.0\" fill=\"purple\" fill-opacity=\"1.0\" r=\"5\" stroke=\"#000000\" stroke-width=\"1\" /><circle cx=\"455.0\" cy=\"395.0\" fill=\"purple\" fill-opacity=\"1.0\" r=\"5\" stroke=\"#000000\" stroke-width=\"1\" /><circle cx=\"465.0\" cy=\"5.0\" fill=\"purple\" fill-opacity=\"1.0\" r=\"5\" stroke=\"#000000\" stroke-width=\"1\" /><circle cx=\"465.0\" cy=\"395.0\" fill=\"purple\" fill-opacity=\"1.0\" r=\"5\" stroke=\"#000000\" stroke-width=\"1\" /><circle cx=\"475.0\" cy=\"5.0\" fill=\"purple\" fill-opacity=\"1.0\" r=\"5\" stroke=\"#000000\" stroke-width=\"1\" /><circle cx=\"475.0\" cy=\"395.0\" fill=\"purple\" fill-opacity=\"1.0\" r=\"5\" stroke=\"#000000\" stroke-width=\"1\" /><circle cx=\"485.0\" cy=\"5.0\" fill=\"purple\" fill-opacity=\"1.0\" r=\"5\" stroke=\"#000000\" stroke-width=\"1\" /><circle cx=\"485.0\" cy=\"395.0\" fill=\"purple\" fill-opacity=\"1.0\" r=\"5\" stroke=\"#000000\" stroke-width=\"1\" /><circle cx=\"495.0\" cy=\"5.0\" fill=\"purple\" fill-opacity=\"1.0\" r=\"5\" stroke=\"#000000\" stroke-width=\"1\" /><circle cx=\"495.0\" cy=\"395.0\" fill=\"purple\" fill-opacity=\"1.0\" r=\"5\" stroke=\"#000000\" stroke-width=\"1\" /><circle cx=\"505.0\" cy=\"5.0\" fill=\"purple\" fill-opacity=\"1.0\" r=\"5\" stroke=\"#000000\" stroke-width=\"1\" /><circle cx=\"505.0\" cy=\"395.0\" fill=\"purple\" fill-opacity=\"1.0\" r=\"5\" stroke=\"#000000\" stroke-width=\"1\" /><circle cx=\"515.0\" cy=\"5.0\" fill=\"purple\" fill-opacity=\"1.0\" r=\"5\" stroke=\"#000000\" stroke-width=\"1\" /><circle cx=\"515.0\" cy=\"395.0\" fill=\"purple\" fill-opacity=\"1.0\" r=\"5\" stroke=\"#000000\" stroke-width=\"1\" /><circle cx=\"525.0\" cy=\"5.0\" fill=\"purple\" fill-opacity=\"1.0\" r=\"5\" stroke=\"#000000\" stroke-width=\"1\" /><circle cx=\"525.0\" cy=\"395.0\" fill=\"purple\" fill-opacity=\"1.0\" r=\"5\" stroke=\"#000000\" stroke-width=\"1\" /><circle cx=\"535.0\" cy=\"5.0\" fill=\"purple\" fill-opacity=\"1.0\" r=\"5\" stroke=\"#000000\" stroke-width=\"1\" /><circle cx=\"535.0\" cy=\"395.0\" fill=\"purple\" fill-opacity=\"1.0\" r=\"5\" stroke=\"#000000\" stroke-width=\"1\" /><circle cx=\"545.0\" cy=\"5.0\" fill=\"purple\" fill-opacity=\"1.0\" r=\"5\" stroke=\"#000000\" stroke-width=\"1\" /><circle cx=\"545.0\" cy=\"395.0\" fill=\"purple\" fill-opacity=\"1.0\" r=\"5\" stroke=\"#000000\" stroke-width=\"1\" /><circle cx=\"555.0\" cy=\"5.0\" fill=\"purple\" fill-opacity=\"1.0\" r=\"5\" stroke=\"#000000\" stroke-width=\"1\" /><circle cx=\"555.0\" cy=\"395.0\" fill=\"purple\" fill-opacity=\"1.0\" r=\"5\" stroke=\"#000000\" stroke-width=\"1\" /><circle cx=\"565.0\" cy=\"5.0\" fill=\"purple\" fill-opacity=\"1.0\" r=\"5\" stroke=\"#000000\" stroke-width=\"1\" /><circle cx=\"565.0\" cy=\"395.0\" fill=\"purple\" fill-opacity=\"1.0\" r=\"5\" stroke=\"#000000\" stroke-width=\"1\" /><circle cx=\"575.0\" cy=\"5.0\" fill=\"purple\" fill-opacity=\"1.0\" r=\"5\" stroke=\"#000000\" stroke-width=\"1\" /><circle cx=\"575.0\" cy=\"395.0\" fill=\"purple\" fill-opacity=\"1.0\" r=\"5\" stroke=\"#000000\" stroke-width=\"1\" /><circle cx=\"585.0\" cy=\"5.0\" fill=\"purple\" fill-opacity=\"1.0\" r=\"5\" stroke=\"#000000\" stroke-width=\"1\" /><circle cx=\"585.0\" cy=\"395.0\" fill=\"purple\" fill-opacity=\"1.0\" r=\"5\" stroke=\"#000000\" stroke-width=\"1\" /><circle cx=\"595.0\" cy=\"5.0\" fill=\"purple\" fill-opacity=\"1.0\" r=\"5\" stroke=\"#000000\" stroke-width=\"1\" /><circle cx=\"595.0\" cy=\"15.0\" fill=\"purple\" fill-opacity=\"1.0\" r=\"5\" stroke=\"#000000\" stroke-width=\"1\" /><circle cx=\"595.0\" cy=\"25.0\" fill=\"purple\" fill-opacity=\"1.0\" r=\"5\" stroke=\"#000000\" stroke-width=\"1\" /><circle cx=\"595.0\" cy=\"35.0\" fill=\"purple\" fill-opacity=\"1.0\" r=\"5\" stroke=\"#000000\" stroke-width=\"1\" /><circle cx=\"595.0\" cy=\"45.0\" fill=\"purple\" fill-opacity=\"1.0\" r=\"5\" stroke=\"#000000\" stroke-width=\"1\" /><circle cx=\"595.0\" cy=\"55.0\" fill=\"purple\" fill-opacity=\"1.0\" r=\"5\" stroke=\"#000000\" stroke-width=\"1\" /><circle cx=\"595.0\" cy=\"65.0\" fill=\"purple\" fill-opacity=\"1.0\" r=\"5\" stroke=\"#000000\" stroke-width=\"1\" /><circle cx=\"595.0\" cy=\"75.0\" fill=\"purple\" fill-opacity=\"1.0\" r=\"5\" stroke=\"#000000\" stroke-width=\"1\" /><circle cx=\"595.0\" cy=\"85.0\" fill=\"purple\" fill-opacity=\"1.0\" r=\"5\" stroke=\"#000000\" stroke-width=\"1\" /><circle cx=\"595.0\" cy=\"95.0\" fill=\"purple\" fill-opacity=\"1.0\" r=\"5\" stroke=\"#000000\" stroke-width=\"1\" /><circle cx=\"595.0\" cy=\"105.0\" fill=\"purple\" fill-opacity=\"1.0\" r=\"5\" stroke=\"#000000\" stroke-width=\"1\" /><circle cx=\"595.0\" cy=\"115.0\" fill=\"purple\" fill-opacity=\"1.0\" r=\"5\" stroke=\"#000000\" stroke-width=\"1\" /><circle cx=\"595.0\" cy=\"125.0\" fill=\"purple\" fill-opacity=\"1.0\" r=\"5\" stroke=\"#000000\" stroke-width=\"1\" /><circle cx=\"595.0\" cy=\"135.0\" fill=\"purple\" fill-opacity=\"1.0\" r=\"5\" stroke=\"#000000\" stroke-width=\"1\" /><circle cx=\"595.0\" cy=\"145.0\" fill=\"purple\" fill-opacity=\"1.0\" r=\"5\" stroke=\"#000000\" stroke-width=\"1\" /><circle cx=\"595.0\" cy=\"155.0\" fill=\"purple\" fill-opacity=\"1.0\" r=\"5\" stroke=\"#000000\" stroke-width=\"1\" /><circle cx=\"595.0\" cy=\"165.0\" fill=\"purple\" fill-opacity=\"1.0\" r=\"5\" stroke=\"#000000\" stroke-width=\"1\" /><circle cx=\"595.0\" cy=\"175.0\" fill=\"purple\" fill-opacity=\"1.0\" r=\"5\" stroke=\"#000000\" stroke-width=\"1\" /><circle cx=\"595.0\" cy=\"185.0\" fill=\"purple\" fill-opacity=\"1.0\" r=\"5\" stroke=\"#000000\" stroke-width=\"1\" /><circle cx=\"595.0\" cy=\"195.0\" fill=\"purple\" fill-opacity=\"1.0\" r=\"5\" stroke=\"#000000\" stroke-width=\"1\" /><circle cx=\"595.0\" cy=\"205.0\" fill=\"purple\" fill-opacity=\"1.0\" r=\"5\" stroke=\"#000000\" stroke-width=\"1\" /><circle cx=\"595.0\" cy=\"215.0\" fill=\"purple\" fill-opacity=\"1.0\" r=\"5\" stroke=\"#000000\" stroke-width=\"1\" /><circle cx=\"595.0\" cy=\"225.0\" fill=\"purple\" fill-opacity=\"1.0\" r=\"5\" stroke=\"#000000\" stroke-width=\"1\" /><circle cx=\"595.0\" cy=\"235.0\" fill=\"purple\" fill-opacity=\"1.0\" r=\"5\" stroke=\"#000000\" stroke-width=\"1\" /><circle cx=\"595.0\" cy=\"245.0\" fill=\"purple\" fill-opacity=\"1.0\" r=\"5\" stroke=\"#000000\" stroke-width=\"1\" /><circle cx=\"595.0\" cy=\"255.0\" fill=\"purple\" fill-opacity=\"1.0\" r=\"5\" stroke=\"#000000\" stroke-width=\"1\" /><circle cx=\"595.0\" cy=\"265.0\" fill=\"purple\" fill-opacity=\"1.0\" r=\"5\" stroke=\"#000000\" stroke-width=\"1\" /><circle cx=\"595.0\" cy=\"275.0\" fill=\"purple\" fill-opacity=\"1.0\" r=\"5\" stroke=\"#000000\" stroke-width=\"1\" /><circle cx=\"595.0\" cy=\"285.0\" fill=\"purple\" fill-opacity=\"1.0\" r=\"5\" stroke=\"#000000\" stroke-width=\"1\" /><circle cx=\"595.0\" cy=\"295.0\" fill=\"purple\" fill-opacity=\"1.0\" r=\"5\" stroke=\"#000000\" stroke-width=\"1\" /><circle cx=\"595.0\" cy=\"305.0\" fill=\"purple\" fill-opacity=\"1.0\" r=\"5\" stroke=\"#000000\" stroke-width=\"1\" /><circle cx=\"595.0\" cy=\"315.0\" fill=\"purple\" fill-opacity=\"1.0\" r=\"5\" stroke=\"#000000\" stroke-width=\"1\" /><circle cx=\"595.0\" cy=\"325.0\" fill=\"purple\" fill-opacity=\"1.0\" r=\"5\" stroke=\"#000000\" stroke-width=\"1\" /><circle cx=\"595.0\" cy=\"335.0\" fill=\"purple\" fill-opacity=\"1.0\" r=\"5\" stroke=\"#000000\" stroke-width=\"1\" /><circle cx=\"595.0\" cy=\"345.0\" fill=\"purple\" fill-opacity=\"1.0\" r=\"5\" stroke=\"#000000\" stroke-width=\"1\" /><circle cx=\"595.0\" cy=\"355.0\" fill=\"purple\" fill-opacity=\"1.0\" r=\"5\" stroke=\"#000000\" stroke-width=\"1\" /><circle cx=\"595.0\" cy=\"365.0\" fill=\"purple\" fill-opacity=\"1.0\" r=\"5\" stroke=\"#000000\" stroke-width=\"1\" /><circle cx=\"595.0\" cy=\"375.0\" fill=\"purple\" fill-opacity=\"1.0\" r=\"5\" stroke=\"#000000\" stroke-width=\"1\" /><circle cx=\"595.0\" cy=\"385.0\" fill=\"purple\" fill-opacity=\"1.0\" r=\"5\" stroke=\"#000000\" stroke-width=\"1\" /><circle cx=\"595.0\" cy=\"395.0\" fill=\"purple\" fill-opacity=\"1.0\" r=\"5\" stroke=\"#000000\" stroke-width=\"1\" /><circle cx=\"305.0\" cy=\"205.0\" fill=\"red\" fill-opacity=\"1.0\" r=\"10\" stroke=\"#000000\" stroke-width=\"1\" /><polygon fill=\"black\" fill-opacity=\"1.0\" points=\"305.0,205.0 295.0,205.0 295.03805301908255,204.12844257252343 295.15192246987795,203.2635182233307 295.34074173710934,202.4118095489748 295.6030737921409,201.5797985667433 295.9369221296335,200.773817382593 296.33974596215563,200.0 296.8084795571101,199.26423563648953 297.3395555688102,198.5721239031346 297.9289321881345,197.92893218813452 298.5721239031346,197.33955556881023 299.2642356364895,196.80847955711008 300.0,196.33974596215563 300.773817382593,195.9369221296335 301.5797985667433,195.60307379214092 302.41180954897476,195.3407417371093 303.26351822333066,195.15192246987792 304.1284425725234,195.03805301908255 305.0,195.0 305.87155742747655,195.03805301908255 306.7364817766693,195.15192246987792 307.5881904510252,195.3407417371093 308.4202014332567,195.60307379214092 309.22618261740695,195.9369221296335 310.0,196.3397459621556 310.73576436351044,196.80847955711008 311.42787609686536,197.3395555688102 312.0710678118655,197.9289321881345 312.6604444311898,198.57212390313458 313.1915204428899,199.26423563648953 313.66025403784437,199.99999999999997 314.0630778703665,200.773817382593 314.39692620785905,201.57979856674328 314.65925826289066,202.41180954897476 314.84807753012205,203.26351822333066 314.96194698091745,204.1284425725234 315.0,204.99999999999997\" stroke=\"#000000\" stroke-opacity=\"0.0\" stroke-width=\"1\" /><polyline fill=\"black\" fill-opacity=\"0.0\" points=\"295.0,205.0 295.03805301908255,204.12844257252343 295.15192246987795,203.2635182233307 295.34074173710934,202.4118095489748 295.6030737921409,201.5797985667433 295.9369221296335,200.773817382593 296.33974596215563,200.0 296.8084795571101,199.26423563648953 297.3395555688102,198.5721239031346 297.9289321881345,197.92893218813452 298.5721239031346,197.33955556881023 299.2642356364895,196.80847955711008 300.0,196.33974596215563 300.773817382593,195.9369221296335 301.5797985667433,195.60307379214092 302.41180954897476,195.3407417371093 303.26351822333066,195.15192246987792 304.1284425725234,195.03805301908255 305.0,195.0 305.87155742747655,195.03805301908255 306.7364817766693,195.15192246987792 307.5881904510252,195.3407417371093 308.4202014332567,195.60307379214092 309.22618261740695,195.9369221296335 310.0,196.3397459621556 310.73576436351044,196.80847955711008 311.42787609686536,197.3395555688102 312.0710678118655,197.9289321881345 312.6604444311898,198.57212390313458 313.1915204428899,199.26423563648953 313.66025403784437,199.99999999999997 314.0630778703665,200.773817382593 314.39692620785905,201.57979856674328 314.65925826289066,202.41180954897476 314.84807753012205,203.26351822333066 314.96194698091745,204.1284425725234 315.0,204.99999999999997\" stroke=\"#000000\" stroke-width=\"1\" /><text fill=\"#ffffff\" fill-opacity=\"1.0\" stroke=\"#ffffff\" stroke-opacity=\"1.0\" stroke-width=\"1\" x=\"15\" y=\"385\">0.0 Idle</text></svg>"
      ],
      "text/plain": [
       "<Canvas (600, 400)>"
      ]
     },
     "execution_count": 5,
     "metadata": {},
     "output_type": "execute_result"
    }
   ],
   "source": [
    "sim.render()"
   ]
  },
  {
   "cell_type": "markdown",
   "metadata": {},
   "source": [
    "Now, we can define a fitness function. This is a little complicated, because we are using some of the internals of the simulation.\n",
    "\n",
    "`compute_fitness()` does the following:\n",
    "\n",
    "* takes a DNA string\n",
    "* creates a DNARobot (ie, the ladybug) which needs the original robot, and 93 character DNA\n",
    "* resets the simulation\n",
    "* let's it run for some seconds, or until it dies\n",
    "* computes the fitness avg energy over the run\n",
    "* returns fitness"
   ]
  },
  {
   "cell_type": "code",
   "execution_count": 6,
   "metadata": {
    "collapsed": false
   },
   "outputs": [],
   "source": [
    "def compute_fitness(dna, seconds, show=False):\n",
    "    new_robot = DNARobot(robot, dna)\n",
    "    sim.setRobot(0, new_robot)\n",
    "    sim.reset()\n",
    "    while new_robot.energy > 0 and sim.clock < seconds:\n",
    "        sim.step()\n",
    "        if show:\n",
    "            clear_output(wait=True)\n",
    "            display(sim.render())\n",
    "    fitness = sum(new_robot.history)/len(new_robot.history)\n",
    "    return fitness"
   ]
  },
  {
   "cell_type": "markdown",
   "metadata": {},
   "source": [
    "Now we try it:"
   ]
  },
  {
   "cell_type": "code",
   "execution_count": 7,
   "metadata": {
    "collapsed": false
   },
   "outputs": [
    {
     "data": {
      "image/png": "[encoded data removed]",
      "image/svg+xml": [
       "<svg baseProfile=\"full\" height=\"400\" version=\"1.1\" width=\"600\" xmlns=\"http://www.w3.org/2000/svg\" xmlns:ev=\"http://www.w3.org/2001/xml-events\" xmlns:xlink=\"http://www.w3.org/1999/xlink\"><defs /><rect fill=\"green\" fill-opacity=\"1.0\" height=\"400\" stroke=\"#000000\" stroke-opacity=\"0.0\" stroke-width=\"1\" width=\"600\" x=\"0\" y=\"0\" /><circle cx=\"5.0\" cy=\"5.0\" fill=\"purple\" fill-opacity=\"1.0\" r=\"5\" stroke=\"#000000\" stroke-width=\"1\" /><circle cx=\"5.0\" cy=\"15.0\" fill=\"purple\" fill-opacity=\"1.0\" r=\"5\" stroke=\"#000000\" stroke-width=\"1\" /><circle cx=\"5.0\" cy=\"25.0\" fill=\"purple\" fill-opacity=\"1.0\" r=\"5\" stroke=\"#000000\" stroke-width=\"1\" /><circle cx=\"5.0\" cy=\"35.0\" fill=\"purple\" fill-opacity=\"1.0\" r=\"5\" stroke=\"#000000\" stroke-width=\"1\" /><circle cx=\"5.0\" cy=\"45.0\" fill=\"purple\" fill-opacity=\"1.0\" r=\"5\" stroke=\"#000000\" stroke-width=\"1\" /><circle cx=\"5.0\" cy=\"55.0\" fill=\"purple\" fill-opacity=\"1.0\" r=\"5\" stroke=\"#000000\" stroke-width=\"1\" /><circle cx=\"5.0\" cy=\"65.0\" fill=\"purple\" fill-opacity=\"1.0\" r=\"5\" stroke=\"#000000\" stroke-width=\"1\" /><circle cx=\"5.0\" cy=\"75.0\" fill=\"purple\" fill-opacity=\"1.0\" r=\"5\" stroke=\"#000000\" stroke-width=\"1\" /><circle cx=\"5.0\" cy=\"85.0\" fill=\"purple\" fill-opacity=\"1.0\" r=\"5\" stroke=\"#000000\" stroke-width=\"1\" /><circle cx=\"5.0\" cy=\"95.0\" fill=\"purple\" fill-opacity=\"1.0\" r=\"5\" stroke=\"#000000\" stroke-width=\"1\" /><circle cx=\"5.0\" cy=\"105.0\" fill=\"purple\" fill-opacity=\"1.0\" r=\"5\" stroke=\"#000000\" stroke-width=\"1\" /><circle cx=\"5.0\" cy=\"115.0\" fill=\"purple\" fill-opacity=\"1.0\" r=\"5\" stroke=\"#000000\" stroke-width=\"1\" /><circle cx=\"5.0\" cy=\"125.0\" fill=\"purple\" fill-opacity=\"1.0\" r=\"5\" stroke=\"#000000\" stroke-width=\"1\" /><circle cx=\"5.0\" cy=\"135.0\" fill=\"purple\" fill-opacity=\"1.0\" r=\"5\" stroke=\"#000000\" stroke-width=\"1\" /><circle cx=\"5.0\" cy=\"145.0\" fill=\"purple\" fill-opacity=\"1.0\" r=\"5\" stroke=\"#000000\" stroke-width=\"1\" /><circle cx=\"5.0\" cy=\"155.0\" fill=\"purple\" fill-opacity=\"1.0\" r=\"5\" stroke=\"#000000\" stroke-width=\"1\" /><circle cx=\"5.0\" cy=\"165.0\" fill=\"purple\" fill-opacity=\"1.0\" r=\"5\" stroke=\"#000000\" stroke-width=\"1\" /><circle cx=\"5.0\" cy=\"175.0\" fill=\"purple\" fill-opacity=\"1.0\" r=\"5\" stroke=\"#000000\" stroke-width=\"1\" /><circle cx=\"5.0\" cy=\"185.0\" fill=\"purple\" fill-opacity=\"1.0\" r=\"5\" stroke=\"#000000\" stroke-width=\"1\" /><circle cx=\"5.0\" cy=\"195.0\" fill=\"purple\" fill-opacity=\"1.0\" r=\"5\" stroke=\"#000000\" stroke-width=\"1\" /><circle cx=\"5.0\" cy=\"205.0\" fill=\"purple\" fill-opacity=\"1.0\" r=\"5\" stroke=\"#000000\" stroke-width=\"1\" /><circle cx=\"5.0\" cy=\"215.0\" fill=\"purple\" fill-opacity=\"1.0\" r=\"5\" stroke=\"#000000\" stroke-width=\"1\" /><circle cx=\"5.0\" cy=\"225.0\" fill=\"purple\" fill-opacity=\"1.0\" r=\"5\" stroke=\"#000000\" stroke-width=\"1\" /><circle cx=\"5.0\" cy=\"235.0\" fill=\"purple\" fill-opacity=\"1.0\" r=\"5\" stroke=\"#000000\" stroke-width=\"1\" /><circle cx=\"5.0\" cy=\"245.0\" fill=\"purple\" fill-opacity=\"1.0\" r=\"5\" stroke=\"#000000\" stroke-width=\"1\" /><circle cx=\"5.0\" cy=\"255.0\" fill=\"purple\" fill-opacity=\"1.0\" r=\"5\" stroke=\"#000000\" stroke-width=\"1\" /><circle cx=\"5.0\" cy=\"265.0\" fill=\"purple\" fill-opacity=\"1.0\" r=\"5\" stroke=\"#000000\" stroke-width=\"1\" /><circle cx=\"5.0\" cy=\"275.0\" fill=\"purple\" fill-opacity=\"1.0\" r=\"5\" stroke=\"#000000\" stroke-width=\"1\" /><circle cx=\"5.0\" cy=\"285.0\" fill=\"purple\" fill-opacity=\"1.0\" r=\"5\" stroke=\"#000000\" stroke-width=\"1\" /><circle cx=\"5.0\" cy=\"295.0\" fill=\"purple\" fill-opacity=\"1.0\" r=\"5\" stroke=\"#000000\" stroke-width=\"1\" /><circle cx=\"5.0\" cy=\"305.0\" fill=\"purple\" fill-opacity=\"1.0\" r=\"5\" stroke=\"#000000\" stroke-width=\"1\" /><circle cx=\"5.0\" cy=\"315.0\" fill=\"purple\" fill-opacity=\"1.0\" r=\"5\" stroke=\"#000000\" stroke-width=\"1\" /><circle cx=\"5.0\" cy=\"325.0\" fill=\"purple\" fill-opacity=\"1.0\" r=\"5\" stroke=\"#000000\" stroke-width=\"1\" /><circle cx=\"5.0\" cy=\"335.0\" fill=\"purple\" fill-opacity=\"1.0\" r=\"5\" stroke=\"#000000\" stroke-width=\"1\" /><circle cx=\"5.0\" cy=\"345.0\" fill=\"purple\" fill-opacity=\"1.0\" r=\"5\" stroke=\"#000000\" stroke-width=\"1\" /><circle cx=\"5.0\" cy=\"355.0\" fill=\"purple\" fill-opacity=\"1.0\" r=\"5\" stroke=\"#000000\" stroke-width=\"1\" /><circle cx=\"5.0\" cy=\"365.0\" fill=\"purple\" fill-opacity=\"1.0\" r=\"5\" stroke=\"#000000\" stroke-width=\"1\" /><circle cx=\"5.0\" cy=\"375.0\" fill=\"purple\" fill-opacity=\"1.0\" r=\"5\" stroke=\"#000000\" stroke-width=\"1\" /><circle cx=\"5.0\" cy=\"385.0\" fill=\"purple\" fill-opacity=\"1.0\" r=\"5\" stroke=\"#000000\" stroke-width=\"1\" /><circle cx=\"5.0\" cy=\"395.0\" fill=\"purple\" fill-opacity=\"1.0\" r=\"5\" stroke=\"#000000\" stroke-width=\"1\" /><circle cx=\"15.0\" cy=\"5.0\" fill=\"purple\" fill-opacity=\"1.0\" r=\"5\" stroke=\"#000000\" stroke-width=\"1\" /><circle cx=\"15.0\" cy=\"395.0\" fill=\"purple\" fill-opacity=\"1.0\" r=\"5\" stroke=\"#000000\" stroke-width=\"1\" /><circle cx=\"25.0\" cy=\"5.0\" fill=\"purple\" fill-opacity=\"1.0\" r=\"5\" stroke=\"#000000\" stroke-width=\"1\" /><circle cx=\"25.0\" cy=\"395.0\" fill=\"purple\" fill-opacity=\"1.0\" r=\"5\" stroke=\"#000000\" stroke-width=\"1\" /><circle cx=\"35.0\" cy=\"5.0\" fill=\"purple\" fill-opacity=\"1.0\" r=\"5\" stroke=\"#000000\" stroke-width=\"1\" /><circle cx=\"35.0\" cy=\"395.0\" fill=\"purple\" fill-opacity=\"1.0\" r=\"5\" stroke=\"#000000\" stroke-width=\"1\" /><circle cx=\"45.0\" cy=\"5.0\" fill=\"purple\" fill-opacity=\"1.0\" r=\"5\" stroke=\"#000000\" stroke-width=\"1\" /><circle cx=\"45.0\" cy=\"395.0\" fill=\"purple\" fill-opacity=\"1.0\" r=\"5\" stroke=\"#000000\" stroke-width=\"1\" /><circle cx=\"55.0\" cy=\"5.0\" fill=\"purple\" fill-opacity=\"1.0\" r=\"5\" stroke=\"#000000\" stroke-width=\"1\" /><circle cx=\"55.0\" cy=\"35.0\" fill=\"yellow\" fill-opacity=\"1.0\" r=\"5\" stroke=\"#000000\" stroke-width=\"1\" /><circle cx=\"55.0\" cy=\"395.0\" fill=\"purple\" fill-opacity=\"1.0\" r=\"5\" stroke=\"#000000\" stroke-width=\"1\" /><circle cx=\"65.0\" cy=\"5.0\" fill=\"purple\" fill-opacity=\"1.0\" r=\"5\" stroke=\"#000000\" stroke-width=\"1\" /><circle cx=\"65.0\" cy=\"25.0\" fill=\"yellow\" fill-opacity=\"1.0\" r=\"5\" stroke=\"#000000\" stroke-width=\"1\" /><circle cx=\"65.0\" cy=\"395.0\" fill=\"purple\" fill-opacity=\"1.0\" r=\"5\" stroke=\"#000000\" stroke-width=\"1\" /><circle cx=\"75.0\" cy=\"5.0\" fill=\"purple\" fill-opacity=\"1.0\" r=\"5\" stroke=\"#000000\" stroke-width=\"1\" /><circle cx=\"75.0\" cy=\"65.0\" fill=\"yellow\" fill-opacity=\"1.0\" r=\"5\" stroke=\"#000000\" stroke-width=\"1\" /><circle cx=\"75.0\" cy=\"105.0\" fill=\"yellow\" fill-opacity=\"1.0\" r=\"5\" stroke=\"#000000\" stroke-width=\"1\" /><circle cx=\"75.0\" cy=\"395.0\" fill=\"purple\" fill-opacity=\"1.0\" r=\"5\" stroke=\"#000000\" stroke-width=\"1\" /><circle cx=\"85.0\" cy=\"5.0\" fill=\"purple\" fill-opacity=\"1.0\" r=\"5\" stroke=\"#000000\" stroke-width=\"1\" /><circle cx=\"85.0\" cy=\"85.0\" fill=\"yellow\" fill-opacity=\"1.0\" r=\"5\" stroke=\"#000000\" stroke-width=\"1\" /><circle cx=\"85.0\" cy=\"395.0\" fill=\"purple\" fill-opacity=\"1.0\" r=\"5\" stroke=\"#000000\" stroke-width=\"1\" /><circle cx=\"95.0\" cy=\"5.0\" fill=\"purple\" fill-opacity=\"1.0\" r=\"5\" stroke=\"#000000\" stroke-width=\"1\" /><circle cx=\"95.0\" cy=\"85.0\" fill=\"yellow\" fill-opacity=\"1.0\" r=\"5\" stroke=\"#000000\" stroke-width=\"1\" /><circle cx=\"95.0\" cy=\"395.0\" fill=\"purple\" fill-opacity=\"1.0\" r=\"5\" stroke=\"#000000\" stroke-width=\"1\" /><circle cx=\"105.0\" cy=\"5.0\" fill=\"purple\" fill-opacity=\"1.0\" r=\"5\" stroke=\"#000000\" stroke-width=\"1\" /><circle cx=\"105.0\" cy=\"65.0\" fill=\"yellow\" fill-opacity=\"1.0\" r=\"5\" stroke=\"#000000\" stroke-width=\"1\" /><circle cx=\"105.0\" cy=\"105.0\" fill=\"yellow\" fill-opacity=\"1.0\" r=\"5\" stroke=\"#000000\" stroke-width=\"1\" /><circle cx=\"105.0\" cy=\"395.0\" fill=\"purple\" fill-opacity=\"1.0\" r=\"5\" stroke=\"#000000\" stroke-width=\"1\" /><circle cx=\"115.0\" cy=\"5.0\" fill=\"purple\" fill-opacity=\"1.0\" r=\"5\" stroke=\"#000000\" stroke-width=\"1\" /><circle cx=\"115.0\" cy=\"45.0\" fill=\"yellow\" fill-opacity=\"1.0\" r=\"5\" stroke=\"#000000\" stroke-width=\"1\" /><circle cx=\"115.0\" cy=\"65.0\" fill=\"yellow\" fill-opacity=\"1.0\" r=\"5\" stroke=\"#000000\" stroke-width=\"1\" /><circle cx=\"115.0\" cy=\"85.0\" fill=\"yellow\" fill-opacity=\"1.0\" r=\"5\" stroke=\"#000000\" stroke-width=\"1\" /><circle cx=\"115.0\" cy=\"115.0\" fill=\"yellow\" fill-opacity=\"1.0\" r=\"5\" stroke=\"#000000\" stroke-width=\"1\" /><circle cx=\"115.0\" cy=\"395.0\" fill=\"purple\" fill-opacity=\"1.0\" r=\"5\" stroke=\"#000000\" stroke-width=\"1\" /><circle cx=\"125.0\" cy=\"5.0\" fill=\"purple\" fill-opacity=\"1.0\" r=\"5\" stroke=\"#000000\" stroke-width=\"1\" /><circle cx=\"125.0\" cy=\"395.0\" fill=\"purple\" fill-opacity=\"1.0\" r=\"5\" stroke=\"#000000\" stroke-width=\"1\" /><circle cx=\"135.0\" cy=\"5.0\" fill=\"purple\" fill-opacity=\"1.0\" r=\"5\" stroke=\"#000000\" stroke-width=\"1\" /><circle cx=\"135.0\" cy=\"35.0\" fill=\"yellow\" fill-opacity=\"1.0\" r=\"5\" stroke=\"#000000\" stroke-width=\"1\" /><circle cx=\"135.0\" cy=\"65.0\" fill=\"yellow\" fill-opacity=\"1.0\" r=\"5\" stroke=\"#000000\" stroke-width=\"1\" /><circle cx=\"135.0\" cy=\"85.0\" fill=\"yellow\" fill-opacity=\"1.0\" r=\"5\" stroke=\"#000000\" stroke-width=\"1\" /><circle cx=\"135.0\" cy=\"395.0\" fill=\"purple\" fill-opacity=\"1.0\" r=\"5\" stroke=\"#000000\" stroke-width=\"1\" /><circle cx=\"145.0\" cy=\"5.0\" fill=\"purple\" fill-opacity=\"1.0\" r=\"5\" stroke=\"#000000\" stroke-width=\"1\" /><circle cx=\"145.0\" cy=\"65.0\" fill=\"yellow\" fill-opacity=\"1.0\" r=\"5\" stroke=\"#000000\" stroke-width=\"1\" /><circle cx=\"145.0\" cy=\"395.0\" fill=\"purple\" fill-opacity=\"1.0\" r=\"5\" stroke=\"#000000\" stroke-width=\"1\" /><circle cx=\"155.0\" cy=\"5.0\" fill=\"purple\" fill-opacity=\"1.0\" r=\"5\" stroke=\"#000000\" stroke-width=\"1\" /><circle cx=\"155.0\" cy=\"395.0\" fill=\"purple\" fill-opacity=\"1.0\" r=\"5\" stroke=\"#000000\" stroke-width=\"1\" /><circle cx=\"165.0\" cy=\"5.0\" fill=\"purple\" fill-opacity=\"1.0\" r=\"5\" stroke=\"#000000\" stroke-width=\"1\" /><circle cx=\"165.0\" cy=\"395.0\" fill=\"purple\" fill-opacity=\"1.0\" r=\"5\" stroke=\"#000000\" stroke-width=\"1\" /><circle cx=\"175.0\" cy=\"5.0\" fill=\"purple\" fill-opacity=\"1.0\" r=\"5\" stroke=\"#000000\" stroke-width=\"1\" /><circle cx=\"175.0\" cy=\"35.0\" fill=\"yellow\" fill-opacity=\"1.0\" r=\"5\" stroke=\"#000000\" stroke-width=\"1\" /><circle cx=\"175.0\" cy=\"55.0\" fill=\"yellow\" fill-opacity=\"1.0\" r=\"5\" stroke=\"#000000\" stroke-width=\"1\" /><circle cx=\"175.0\" cy=\"395.0\" fill=\"purple\" fill-opacity=\"1.0\" r=\"5\" stroke=\"#000000\" stroke-width=\"1\" /><circle cx=\"185.0\" cy=\"5.0\" fill=\"purple\" fill-opacity=\"1.0\" r=\"5\" stroke=\"#000000\" stroke-width=\"1\" /><circle cx=\"185.0\" cy=\"395.0\" fill=\"purple\" fill-opacity=\"1.0\" r=\"5\" stroke=\"#000000\" stroke-width=\"1\" /><circle cx=\"195.0\" cy=\"5.0\" fill=\"purple\" fill-opacity=\"1.0\" r=\"5\" stroke=\"#000000\" stroke-width=\"1\" /><circle cx=\"195.0\" cy=\"65.0\" fill=\"yellow\" fill-opacity=\"1.0\" r=\"5\" stroke=\"#000000\" stroke-width=\"1\" /><circle cx=\"195.0\" cy=\"395.0\" fill=\"purple\" fill-opacity=\"1.0\" r=\"5\" stroke=\"#000000\" stroke-width=\"1\" /><circle cx=\"205.0\" cy=\"5.0\" fill=\"purple\" fill-opacity=\"1.0\" r=\"5\" stroke=\"#000000\" stroke-width=\"1\" /><circle cx=\"205.0\" cy=\"85.0\" fill=\"yellow\" fill-opacity=\"1.0\" r=\"5\" stroke=\"#000000\" stroke-width=\"1\" /><circle cx=\"205.0\" cy=\"395.0\" fill=\"purple\" fill-opacity=\"1.0\" r=\"5\" stroke=\"#000000\" stroke-width=\"1\" /><circle cx=\"215.0\" cy=\"5.0\" fill=\"purple\" fill-opacity=\"1.0\" r=\"5\" stroke=\"#000000\" stroke-width=\"1\" /><circle cx=\"215.0\" cy=\"395.0\" fill=\"purple\" fill-opacity=\"1.0\" r=\"5\" stroke=\"#000000\" stroke-width=\"1\" /><circle cx=\"225.0\" cy=\"5.0\" fill=\"purple\" fill-opacity=\"1.0\" r=\"5\" stroke=\"#000000\" stroke-width=\"1\" /><circle cx=\"225.0\" cy=\"395.0\" fill=\"purple\" fill-opacity=\"1.0\" r=\"5\" stroke=\"#000000\" stroke-width=\"1\" /><circle cx=\"235.0\" cy=\"5.0\" fill=\"purple\" fill-opacity=\"1.0\" r=\"5\" stroke=\"#000000\" stroke-width=\"1\" /><circle cx=\"235.0\" cy=\"395.0\" fill=\"purple\" fill-opacity=\"1.0\" r=\"5\" stroke=\"#000000\" stroke-width=\"1\" /><circle cx=\"245.0\" cy=\"5.0\" fill=\"purple\" fill-opacity=\"1.0\" r=\"5\" stroke=\"#000000\" stroke-width=\"1\" /><circle cx=\"245.0\" cy=\"235.0\" fill=\"yellow\" fill-opacity=\"1.0\" r=\"5\" stroke=\"#000000\" stroke-width=\"1\" /><circle cx=\"245.0\" cy=\"395.0\" fill=\"purple\" fill-opacity=\"1.0\" r=\"5\" stroke=\"#000000\" stroke-width=\"1\" /><circle cx=\"255.0\" cy=\"5.0\" fill=\"purple\" fill-opacity=\"1.0\" r=\"5\" stroke=\"#000000\" stroke-width=\"1\" /><circle cx=\"255.0\" cy=\"395.0\" fill=\"purple\" fill-opacity=\"1.0\" r=\"5\" stroke=\"#000000\" stroke-width=\"1\" /><circle cx=\"265.0\" cy=\"5.0\" fill=\"purple\" fill-opacity=\"1.0\" r=\"5\" stroke=\"#000000\" stroke-width=\"1\" /><circle cx=\"265.0\" cy=\"195.0\" fill=\"yellow\" fill-opacity=\"1.0\" r=\"5\" stroke=\"#000000\" stroke-width=\"1\" /><circle cx=\"265.0\" cy=\"395.0\" fill=\"purple\" fill-opacity=\"1.0\" r=\"5\" stroke=\"#000000\" stroke-width=\"1\" /><circle cx=\"275.0\" cy=\"5.0\" fill=\"purple\" fill-opacity=\"1.0\" r=\"5\" stroke=\"#000000\" stroke-width=\"1\" /><circle cx=\"275.0\" cy=\"195.0\" fill=\"yellow\" fill-opacity=\"1.0\" r=\"5\" stroke=\"#000000\" stroke-width=\"1\" /><circle cx=\"275.0\" cy=\"225.0\" fill=\"yellow\" fill-opacity=\"1.0\" r=\"5\" stroke=\"#000000\" stroke-width=\"1\" /><circle cx=\"275.0\" cy=\"395.0\" fill=\"purple\" fill-opacity=\"1.0\" r=\"5\" stroke=\"#000000\" stroke-width=\"1\" /><circle cx=\"285.0\" cy=\"5.0\" fill=\"purple\" fill-opacity=\"1.0\" r=\"5\" stroke=\"#000000\" stroke-width=\"1\" /><circle cx=\"285.0\" cy=\"165.0\" fill=\"yellow\" fill-opacity=\"1.0\" r=\"5\" stroke=\"#000000\" stroke-width=\"1\" /><circle cx=\"285.0\" cy=\"395.0\" fill=\"purple\" fill-opacity=\"1.0\" r=\"5\" stroke=\"#000000\" stroke-width=\"1\" /><circle cx=\"295.0\" cy=\"5.0\" fill=\"purple\" fill-opacity=\"1.0\" r=\"5\" stroke=\"#000000\" stroke-width=\"1\" /><circle cx=\"295.0\" cy=\"215.0\" fill=\"yellow\" fill-opacity=\"1.0\" r=\"5\" stroke=\"#000000\" stroke-width=\"1\" /><circle cx=\"295.0\" cy=\"235.0\" fill=\"yellow\" fill-opacity=\"1.0\" r=\"5\" stroke=\"#000000\" stroke-width=\"1\" /><circle cx=\"295.0\" cy=\"245.0\" fill=\"yellow\" fill-opacity=\"1.0\" r=\"5\" stroke=\"#000000\" stroke-width=\"1\" /><circle cx=\"295.0\" cy=\"395.0\" fill=\"purple\" fill-opacity=\"1.0\" r=\"5\" stroke=\"#000000\" stroke-width=\"1\" /><circle cx=\"305.0\" cy=\"5.0\" fill=\"purple\" fill-opacity=\"1.0\" r=\"5\" stroke=\"#000000\" stroke-width=\"1\" /><circle cx=\"305.0\" cy=\"195.0\" fill=\"yellow\" fill-opacity=\"1.0\" r=\"5\" stroke=\"#000000\" stroke-width=\"1\" /><circle cx=\"305.0\" cy=\"215.0\" fill=\"yellow\" fill-opacity=\"1.0\" r=\"5\" stroke=\"#000000\" stroke-width=\"1\" /><circle cx=\"305.0\" cy=\"225.0\" fill=\"yellow\" fill-opacity=\"1.0\" r=\"5\" stroke=\"#000000\" stroke-width=\"1\" /><circle cx=\"305.0\" cy=\"395.0\" fill=\"purple\" fill-opacity=\"1.0\" r=\"5\" stroke=\"#000000\" stroke-width=\"1\" /><circle cx=\"315.0\" cy=\"5.0\" fill=\"purple\" fill-opacity=\"1.0\" r=\"5\" stroke=\"#000000\" stroke-width=\"1\" /><circle cx=\"315.0\" cy=\"195.0\" fill=\"yellow\" fill-opacity=\"1.0\" r=\"5\" stroke=\"#000000\" stroke-width=\"1\" /><circle cx=\"315.0\" cy=\"245.0\" fill=\"yellow\" fill-opacity=\"1.0\" r=\"5\" stroke=\"#000000\" stroke-width=\"1\" /><circle cx=\"315.0\" cy=\"275.0\" fill=\"yellow\" fill-opacity=\"1.0\" r=\"5\" stroke=\"#000000\" stroke-width=\"1\" /><circle cx=\"315.0\" cy=\"395.0\" fill=\"purple\" fill-opacity=\"1.0\" r=\"5\" stroke=\"#000000\" stroke-width=\"1\" /><circle cx=\"325.0\" cy=\"5.0\" fill=\"purple\" fill-opacity=\"1.0\" r=\"5\" stroke=\"#000000\" stroke-width=\"1\" /><circle cx=\"325.0\" cy=\"175.0\" fill=\"yellow\" fill-opacity=\"1.0\" r=\"5\" stroke=\"#000000\" stroke-width=\"1\" /><circle cx=\"325.0\" cy=\"215.0\" fill=\"yellow\" fill-opacity=\"1.0\" r=\"5\" stroke=\"#000000\" stroke-width=\"1\" /><circle cx=\"325.0\" cy=\"395.0\" fill=\"purple\" fill-opacity=\"1.0\" r=\"5\" stroke=\"#000000\" stroke-width=\"1\" /><circle cx=\"335.0\" cy=\"5.0\" fill=\"purple\" fill-opacity=\"1.0\" r=\"5\" stroke=\"#000000\" stroke-width=\"1\" /><circle cx=\"335.0\" cy=\"225.0\" fill=\"yellow\" fill-opacity=\"1.0\" r=\"5\" stroke=\"#000000\" stroke-width=\"1\" /><circle cx=\"335.0\" cy=\"235.0\" fill=\"yellow\" fill-opacity=\"1.0\" r=\"5\" stroke=\"#000000\" stroke-width=\"1\" /><circle cx=\"335.0\" cy=\"395.0\" fill=\"purple\" fill-opacity=\"1.0\" r=\"5\" stroke=\"#000000\" stroke-width=\"1\" /><circle cx=\"345.0\" cy=\"5.0\" fill=\"purple\" fill-opacity=\"1.0\" r=\"5\" stroke=\"#000000\" stroke-width=\"1\" /><circle cx=\"345.0\" cy=\"395.0\" fill=\"purple\" fill-opacity=\"1.0\" r=\"5\" stroke=\"#000000\" stroke-width=\"1\" /><circle cx=\"355.0\" cy=\"5.0\" fill=\"purple\" fill-opacity=\"1.0\" r=\"5\" stroke=\"#000000\" stroke-width=\"1\" /><circle cx=\"355.0\" cy=\"175.0\" fill=\"yellow\" fill-opacity=\"1.0\" r=\"5\" stroke=\"#000000\" stroke-width=\"1\" /><circle cx=\"355.0\" cy=\"395.0\" fill=\"purple\" fill-opacity=\"1.0\" r=\"5\" stroke=\"#000000\" stroke-width=\"1\" /><circle cx=\"365.0\" cy=\"5.0\" fill=\"purple\" fill-opacity=\"1.0\" r=\"5\" stroke=\"#000000\" stroke-width=\"1\" /><circle cx=\"365.0\" cy=\"395.0\" fill=\"purple\" fill-opacity=\"1.0\" r=\"5\" stroke=\"#000000\" stroke-width=\"1\" /><circle cx=\"375.0\" cy=\"5.0\" fill=\"purple\" fill-opacity=\"1.0\" r=\"5\" stroke=\"#000000\" stroke-width=\"1\" /><circle cx=\"375.0\" cy=\"275.0\" fill=\"yellow\" fill-opacity=\"1.0\" r=\"5\" stroke=\"#000000\" stroke-width=\"1\" /><circle cx=\"375.0\" cy=\"395.0\" fill=\"purple\" fill-opacity=\"1.0\" r=\"5\" stroke=\"#000000\" stroke-width=\"1\" /><circle cx=\"385.0\" cy=\"5.0\" fill=\"purple\" fill-opacity=\"1.0\" r=\"5\" stroke=\"#000000\" stroke-width=\"1\" /><circle cx=\"385.0\" cy=\"395.0\" fill=\"purple\" fill-opacity=\"1.0\" r=\"5\" stroke=\"#000000\" stroke-width=\"1\" /><circle cx=\"395.0\" cy=\"5.0\" fill=\"purple\" fill-opacity=\"1.0\" r=\"5\" stroke=\"#000000\" stroke-width=\"1\" /><circle cx=\"395.0\" cy=\"395.0\" fill=\"purple\" fill-opacity=\"1.0\" r=\"5\" stroke=\"#000000\" stroke-width=\"1\" /><circle cx=\"405.0\" cy=\"5.0\" fill=\"purple\" fill-opacity=\"1.0\" r=\"5\" stroke=\"#000000\" stroke-width=\"1\" /><circle cx=\"405.0\" cy=\"395.0\" fill=\"purple\" fill-opacity=\"1.0\" r=\"5\" stroke=\"#000000\" stroke-width=\"1\" /><circle cx=\"415.0\" cy=\"5.0\" fill=\"purple\" fill-opacity=\"1.0\" r=\"5\" stroke=\"#000000\" stroke-width=\"1\" /><circle cx=\"415.0\" cy=\"395.0\" fill=\"purple\" fill-opacity=\"1.0\" r=\"5\" stroke=\"#000000\" stroke-width=\"1\" /><circle cx=\"425.0\" cy=\"5.0\" fill=\"purple\" fill-opacity=\"1.0\" r=\"5\" stroke=\"#000000\" stroke-width=\"1\" /><circle cx=\"425.0\" cy=\"395.0\" fill=\"purple\" fill-opacity=\"1.0\" r=\"5\" stroke=\"#000000\" stroke-width=\"1\" /><circle cx=\"435.0\" cy=\"5.0\" fill=\"purple\" fill-opacity=\"1.0\" r=\"5\" stroke=\"#000000\" stroke-width=\"1\" /><circle cx=\"435.0\" cy=\"395.0\" fill=\"purple\" fill-opacity=\"1.0\" r=\"5\" stroke=\"#000000\" stroke-width=\"1\" /><circle cx=\"445.0\" cy=\"5.0\" fill=\"purple\" fill-opacity=\"1.0\" r=\"5\" stroke=\"#000000\" stroke-width=\"1\" /><circle cx=\"445.0\" cy=\"395.0\" fill=\"purple\" fill-opacity=\"1.0\" r=\"5\" stroke=\"#000000\" stroke-width=\"1\" /><circle cx=\"455.0\" cy=\"5.0\" fill=\"purple\" fill-opacity=\"1.0\" r=\"5\" stroke=\"#000000\" stroke-width=\"1\" /><circle cx=\"455.0\" cy=\"395.0\" fill=\"purple\" fill-opacity=\"1.0\" r=\"5\" stroke=\"#000000\" stroke-width=\"1\" /><circle cx=\"465.0\" cy=\"5.0\" fill=\"purple\" fill-opacity=\"1.0\" r=\"5\" stroke=\"#000000\" stroke-width=\"1\" /><circle cx=\"465.0\" cy=\"395.0\" fill=\"purple\" fill-opacity=\"1.0\" r=\"5\" stroke=\"#000000\" stroke-width=\"1\" /><circle cx=\"475.0\" cy=\"5.0\" fill=\"purple\" fill-opacity=\"1.0\" r=\"5\" stroke=\"#000000\" stroke-width=\"1\" /><circle cx=\"475.0\" cy=\"395.0\" fill=\"purple\" fill-opacity=\"1.0\" r=\"5\" stroke=\"#000000\" stroke-width=\"1\" /><circle cx=\"485.0\" cy=\"5.0\" fill=\"purple\" fill-opacity=\"1.0\" r=\"5\" stroke=\"#000000\" stroke-width=\"1\" /><circle cx=\"485.0\" cy=\"395.0\" fill=\"purple\" fill-opacity=\"1.0\" r=\"5\" stroke=\"#000000\" stroke-width=\"1\" /><circle cx=\"495.0\" cy=\"5.0\" fill=\"purple\" fill-opacity=\"1.0\" r=\"5\" stroke=\"#000000\" stroke-width=\"1\" /><circle cx=\"495.0\" cy=\"395.0\" fill=\"purple\" fill-opacity=\"1.0\" r=\"5\" stroke=\"#000000\" stroke-width=\"1\" /><circle cx=\"505.0\" cy=\"5.0\" fill=\"purple\" fill-opacity=\"1.0\" r=\"5\" stroke=\"#000000\" stroke-width=\"1\" /><circle cx=\"505.0\" cy=\"395.0\" fill=\"purple\" fill-opacity=\"1.0\" r=\"5\" stroke=\"#000000\" stroke-width=\"1\" /><circle cx=\"515.0\" cy=\"5.0\" fill=\"purple\" fill-opacity=\"1.0\" r=\"5\" stroke=\"#000000\" stroke-width=\"1\" /><circle cx=\"515.0\" cy=\"395.0\" fill=\"purple\" fill-opacity=\"1.0\" r=\"5\" stroke=\"#000000\" stroke-width=\"1\" /><circle cx=\"525.0\" cy=\"5.0\" fill=\"purple\" fill-opacity=\"1.0\" r=\"5\" stroke=\"#000000\" stroke-width=\"1\" /><circle cx=\"525.0\" cy=\"395.0\" fill=\"purple\" fill-opacity=\"1.0\" r=\"5\" stroke=\"#000000\" stroke-width=\"1\" /><circle cx=\"535.0\" cy=\"5.0\" fill=\"purple\" fill-opacity=\"1.0\" r=\"5\" stroke=\"#000000\" stroke-width=\"1\" /><circle cx=\"535.0\" cy=\"395.0\" fill=\"purple\" fill-opacity=\"1.0\" r=\"5\" stroke=\"#000000\" stroke-width=\"1\" /><circle cx=\"545.0\" cy=\"5.0\" fill=\"purple\" fill-opacity=\"1.0\" r=\"5\" stroke=\"#000000\" stroke-width=\"1\" /><circle cx=\"545.0\" cy=\"395.0\" fill=\"purple\" fill-opacity=\"1.0\" r=\"5\" stroke=\"#000000\" stroke-width=\"1\" /><circle cx=\"555.0\" cy=\"5.0\" fill=\"purple\" fill-opacity=\"1.0\" r=\"5\" stroke=\"#000000\" stroke-width=\"1\" /><circle cx=\"555.0\" cy=\"395.0\" fill=\"purple\" fill-opacity=\"1.0\" r=\"5\" stroke=\"#000000\" stroke-width=\"1\" /><circle cx=\"565.0\" cy=\"5.0\" fill=\"purple\" fill-opacity=\"1.0\" r=\"5\" stroke=\"#000000\" stroke-width=\"1\" /><circle cx=\"565.0\" cy=\"395.0\" fill=\"purple\" fill-opacity=\"1.0\" r=\"5\" stroke=\"#000000\" stroke-width=\"1\" /><circle cx=\"575.0\" cy=\"5.0\" fill=\"purple\" fill-opacity=\"1.0\" r=\"5\" stroke=\"#000000\" stroke-width=\"1\" /><circle cx=\"575.0\" cy=\"395.0\" fill=\"purple\" fill-opacity=\"1.0\" r=\"5\" stroke=\"#000000\" stroke-width=\"1\" /><circle cx=\"585.0\" cy=\"5.0\" fill=\"purple\" fill-opacity=\"1.0\" r=\"5\" stroke=\"#000000\" stroke-width=\"1\" /><circle cx=\"585.0\" cy=\"395.0\" fill=\"purple\" fill-opacity=\"1.0\" r=\"5\" stroke=\"#000000\" stroke-width=\"1\" /><circle cx=\"595.0\" cy=\"5.0\" fill=\"purple\" fill-opacity=\"1.0\" r=\"5\" stroke=\"#000000\" stroke-width=\"1\" /><circle cx=\"595.0\" cy=\"15.0\" fill=\"purple\" fill-opacity=\"1.0\" r=\"5\" stroke=\"#000000\" stroke-width=\"1\" /><circle cx=\"595.0\" cy=\"25.0\" fill=\"purple\" fill-opacity=\"1.0\" r=\"5\" stroke=\"#000000\" stroke-width=\"1\" /><circle cx=\"595.0\" cy=\"35.0\" fill=\"purple\" fill-opacity=\"1.0\" r=\"5\" stroke=\"#000000\" stroke-width=\"1\" /><circle cx=\"595.0\" cy=\"45.0\" fill=\"purple\" fill-opacity=\"1.0\" r=\"5\" stroke=\"#000000\" stroke-width=\"1\" /><circle cx=\"595.0\" cy=\"55.0\" fill=\"purple\" fill-opacity=\"1.0\" r=\"5\" stroke=\"#000000\" stroke-width=\"1\" /><circle cx=\"595.0\" cy=\"65.0\" fill=\"purple\" fill-opacity=\"1.0\" r=\"5\" stroke=\"#000000\" stroke-width=\"1\" /><circle cx=\"595.0\" cy=\"75.0\" fill=\"purple\" fill-opacity=\"1.0\" r=\"5\" stroke=\"#000000\" stroke-width=\"1\" /><circle cx=\"595.0\" cy=\"85.0\" fill=\"purple\" fill-opacity=\"1.0\" r=\"5\" stroke=\"#000000\" stroke-width=\"1\" /><circle cx=\"595.0\" cy=\"95.0\" fill=\"purple\" fill-opacity=\"1.0\" r=\"5\" stroke=\"#000000\" stroke-width=\"1\" /><circle cx=\"595.0\" cy=\"105.0\" fill=\"purple\" fill-opacity=\"1.0\" r=\"5\" stroke=\"#000000\" stroke-width=\"1\" /><circle cx=\"595.0\" cy=\"115.0\" fill=\"purple\" fill-opacity=\"1.0\" r=\"5\" stroke=\"#000000\" stroke-width=\"1\" /><circle cx=\"595.0\" cy=\"125.0\" fill=\"purple\" fill-opacity=\"1.0\" r=\"5\" stroke=\"#000000\" stroke-width=\"1\" /><circle cx=\"595.0\" cy=\"135.0\" fill=\"purple\" fill-opacity=\"1.0\" r=\"5\" stroke=\"#000000\" stroke-width=\"1\" /><circle cx=\"595.0\" cy=\"145.0\" fill=\"purple\" fill-opacity=\"1.0\" r=\"5\" stroke=\"#000000\" stroke-width=\"1\" /><circle cx=\"595.0\" cy=\"155.0\" fill=\"purple\" fill-opacity=\"1.0\" r=\"5\" stroke=\"#000000\" stroke-width=\"1\" /><circle cx=\"595.0\" cy=\"165.0\" fill=\"purple\" fill-opacity=\"1.0\" r=\"5\" stroke=\"#000000\" stroke-width=\"1\" /><circle cx=\"595.0\" cy=\"175.0\" fill=\"purple\" fill-opacity=\"1.0\" r=\"5\" stroke=\"#000000\" stroke-width=\"1\" /><circle cx=\"595.0\" cy=\"185.0\" fill=\"purple\" fill-opacity=\"1.0\" r=\"5\" stroke=\"#000000\" stroke-width=\"1\" /><circle cx=\"595.0\" cy=\"195.0\" fill=\"purple\" fill-opacity=\"1.0\" r=\"5\" stroke=\"#000000\" stroke-width=\"1\" /><circle cx=\"595.0\" cy=\"205.0\" fill=\"purple\" fill-opacity=\"1.0\" r=\"5\" stroke=\"#000000\" stroke-width=\"1\" /><circle cx=\"595.0\" cy=\"215.0\" fill=\"purple\" fill-opacity=\"1.0\" r=\"5\" stroke=\"#000000\" stroke-width=\"1\" /><circle cx=\"595.0\" cy=\"225.0\" fill=\"purple\" fill-opacity=\"1.0\" r=\"5\" stroke=\"#000000\" stroke-width=\"1\" /><circle cx=\"595.0\" cy=\"235.0\" fill=\"purple\" fill-opacity=\"1.0\" r=\"5\" stroke=\"#000000\" stroke-width=\"1\" /><circle cx=\"595.0\" cy=\"245.0\" fill=\"purple\" fill-opacity=\"1.0\" r=\"5\" stroke=\"#000000\" stroke-width=\"1\" /><circle cx=\"595.0\" cy=\"255.0\" fill=\"purple\" fill-opacity=\"1.0\" r=\"5\" stroke=\"#000000\" stroke-width=\"1\" /><circle cx=\"595.0\" cy=\"265.0\" fill=\"purple\" fill-opacity=\"1.0\" r=\"5\" stroke=\"#000000\" stroke-width=\"1\" /><circle cx=\"595.0\" cy=\"275.0\" fill=\"purple\" fill-opacity=\"1.0\" r=\"5\" stroke=\"#000000\" stroke-width=\"1\" /><circle cx=\"595.0\" cy=\"285.0\" fill=\"purple\" fill-opacity=\"1.0\" r=\"5\" stroke=\"#000000\" stroke-width=\"1\" /><circle cx=\"595.0\" cy=\"295.0\" fill=\"purple\" fill-opacity=\"1.0\" r=\"5\" stroke=\"#000000\" stroke-width=\"1\" /><circle cx=\"595.0\" cy=\"305.0\" fill=\"purple\" fill-opacity=\"1.0\" r=\"5\" stroke=\"#000000\" stroke-width=\"1\" /><circle cx=\"595.0\" cy=\"315.0\" fill=\"purple\" fill-opacity=\"1.0\" r=\"5\" stroke=\"#000000\" stroke-width=\"1\" /><circle cx=\"595.0\" cy=\"325.0\" fill=\"purple\" fill-opacity=\"1.0\" r=\"5\" stroke=\"#000000\" stroke-width=\"1\" /><circle cx=\"595.0\" cy=\"335.0\" fill=\"purple\" fill-opacity=\"1.0\" r=\"5\" stroke=\"#000000\" stroke-width=\"1\" /><circle cx=\"595.0\" cy=\"345.0\" fill=\"purple\" fill-opacity=\"1.0\" r=\"5\" stroke=\"#000000\" stroke-width=\"1\" /><circle cx=\"595.0\" cy=\"355.0\" fill=\"purple\" fill-opacity=\"1.0\" r=\"5\" stroke=\"#000000\" stroke-width=\"1\" /><circle cx=\"595.0\" cy=\"365.0\" fill=\"purple\" fill-opacity=\"1.0\" r=\"5\" stroke=\"#000000\" stroke-width=\"1\" /><circle cx=\"595.0\" cy=\"375.0\" fill=\"purple\" fill-opacity=\"1.0\" r=\"5\" stroke=\"#000000\" stroke-width=\"1\" /><circle cx=\"595.0\" cy=\"385.0\" fill=\"purple\" fill-opacity=\"1.0\" r=\"5\" stroke=\"#000000\" stroke-width=\"1\" /><circle cx=\"595.0\" cy=\"395.0\" fill=\"purple\" fill-opacity=\"1.0\" r=\"5\" stroke=\"#000000\" stroke-width=\"1\" /><circle cx=\"305.0\" cy=\"205.0\" fill=\"red\" fill-opacity=\"1.0\" r=\"10\" stroke=\"#000000\" stroke-width=\"1\" /><polygon fill=\"black\" fill-opacity=\"1.0\" points=\"305.0,205.0 305.0,215.0 304.1284425725234,214.96194698091745 303.2635182233307,214.84807753012208 302.4118095489748,214.6592582628907 301.5797985667433,214.39692620785908 300.773817382593,214.0630778703665 300.0,213.6602540378444 299.26423563648956,213.19152044288992 298.57212390313464,212.66044443118977 297.9289321881345,212.07106781186548 297.3395555688102,211.4278760968654 296.8084795571101,210.73576436351047 296.33974596215563,210.0 295.9369221296335,209.226182617407 295.60307379214095,208.4202014332567 295.34074173710934,207.5881904510252 295.15192246987795,206.7364817766693 295.03805301908255,205.8715574274766 295.0,205.00000000000003 295.03805301908255,204.12844257252343 295.1519224698779,203.26351822333072 295.3407417371093,202.41180954897482 295.6030737921409,201.57979856674334 295.9369221296335,200.77381738259302 296.3397459621556,200.00000000000003 296.80847955711005,199.26423563648956 297.3395555688102,198.57212390313464 297.9289321881345,197.92893218813455 298.5721239031346,197.33955556881023 299.2642356364895,196.8084795571101 300.0,196.33974596215563 300.773817382593,195.9369221296335 301.5797985667433,195.60307379214092 302.41180954897476,195.34074173710934 303.26351822333066,195.15192246987792 304.1284425725234,195.03805301908255 304.99999999999994,195.0\" stroke=\"#000000\" stroke-opacity=\"0.0\" stroke-width=\"1\" /><polyline fill=\"black\" fill-opacity=\"0.0\" points=\"305.0,215.0 304.1284425725234,214.96194698091745 303.2635182233307,214.84807753012208 302.4118095489748,214.6592582628907 301.5797985667433,214.39692620785908 300.773817382593,214.0630778703665 300.0,213.6602540378444 299.26423563648956,213.19152044288992 298.57212390313464,212.66044443118977 297.9289321881345,212.07106781186548 297.3395555688102,211.4278760968654 296.8084795571101,210.73576436351047 296.33974596215563,210.0 295.9369221296335,209.226182617407 295.60307379214095,208.4202014332567 295.34074173710934,207.5881904510252 295.15192246987795,206.7364817766693 295.03805301908255,205.8715574274766 295.0,205.00000000000003 295.03805301908255,204.12844257252343 295.1519224698779,203.26351822333072 295.3407417371093,202.41180954897482 295.6030737921409,201.57979856674334 295.9369221296335,200.77381738259302 296.3397459621556,200.00000000000003 296.80847955711005,199.26423563648956 297.3395555688102,198.57212390313464 297.9289321881345,197.92893218813455 298.5721239031346,197.33955556881023 299.2642356364895,196.8084795571101 300.0,196.33974596215563 300.773817382593,195.9369221296335 301.5797985667433,195.60307379214092 302.41180954897476,195.34074173710934 303.26351822333066,195.15192246987792 304.1284425725234,195.03805301908255 304.99999999999994,195.0\" stroke=\"#000000\" stroke-width=\"1\" /><text fill=\"#ffffff\" fill-opacity=\"1.0\" stroke=\"#ffffff\" stroke-opacity=\"1.0\" stroke-width=\"1\" x=\"15\" y=\"385\">3.0 Idle</text></svg>"
      ],
      "text/plain": [
       "<Canvas (600, 400)>"
      ]
     },
     "metadata": {},
     "output_type": "display_data"
    },
    {
     "name": "stdout",
     "output_type": "stream",
     "text": [
      "92.5\n",
      "CPU times: user 2.85 s, sys: 14 ms, total: 2.87 s\n",
      "Wall time: 3.11 s\n"
     ]
    }
   ],
   "source": [
    "%%time\n",
    "dna = make_dna(93)\n",
    "print(dna)\n",
    "print(compute_fitness(dna, 3, True))"
   ]
  },
  {
   "cell_type": "code",
   "execution_count": 8,
   "metadata": {
    "collapsed": false
   },
   "outputs": [
    {
     "name": "stdout",
     "output_type": "stream",
     "text": [
      "198996236972211213555226682775354052437519977701384932237059263031245677270529281530796359230\n",
      "92.5\n",
      "CPU times: user 552 ms, sys: 5 ms, total: 557 ms\n",
      "Wall time: 799 ms\n"
     ]
    }
   ],
   "source": [
    "%%time\n",
    "print(dna)\n",
    "print(compute_fitness(dna, 3, False))"
   ]
  },
  {
   "cell_type": "markdown",
   "metadata": {},
   "source": [
    "With the display on, it will take about the number of seconds run. Without the display, the actual time taken is less that seconds given."
   ]
  },
  {
   "cell_type": "markdown",
   "metadata": {},
   "source": [
    "## 1.3 A Mutate Function"
   ]
  },
  {
   "cell_type": "markdown",
   "metadata": {},
   "source": [
    "For all of the search methods (besides Greedy search) we need a method of slightly changing the DNA. \n",
    "\n",
    "For some search algorithms, we will need a variable amount of mutation. So, we will make our `mutate` function take two arguments: the DNA to mutate, and an amount. The amount will be the number of mutations to make.\n",
    "\n",
    "Write your mutate function here:"
   ]
  },
  {
   "cell_type": "code",
   "execution_count": 9,
   "metadata": {
    "collapsed": true,
    "nbgrader": {
     "grade": false,
     "grade_id": "mutate",
     "locked": false,
     "points": 30,
     "solution": true
    }
   },
   "outputs": [],
   "source": [
    "def mutate(dna, amount):\n",
    "    dna_list = list(dna)\n",
    "    ### BEGIN SOLUTION\n",
    "    for i in range(amount):\n",
    "        point = int(random.random() * len(dna))\n",
    "        dna_list[point] = random.choice(alphabet)\n",
    "    ### END SOLUTION\n",
    "    return \"\".join(dna_list)"
   ]
  },
  {
   "cell_type": "code",
   "execution_count": 10,
   "metadata": {
    "collapsed": false
   },
   "outputs": [
    {
     "data": {
      "text/plain": [
       "'1XX'"
      ]
     },
     "execution_count": 10,
     "metadata": {},
     "output_type": "execute_result"
    }
   ],
   "source": [
    "mutate(\"XXX\", 1)"
   ]
  },
  {
   "cell_type": "code",
   "execution_count": 11,
   "metadata": {
    "collapsed": false
   },
   "outputs": [
    {
     "data": {
      "text/plain": [
       "'198206236932211213555226682775354052437519977771384932237052263031245677270529885530686359230'"
      ]
     },
     "execution_count": 11,
     "metadata": {},
     "output_type": "execute_result"
    }
   ],
   "source": [
    "mutate(dna, 10)"
   ]
  },
  {
   "cell_type": "markdown",
   "metadata": {},
   "source": [
    "## 1.4 Putting it altogether\n",
    "\n",
    "We define a make_pop() function that will generate a number of DNA. We return them as a list of pairs:\n",
    "\n",
    "```python\n",
    "[[0, DNA1], [0, DNA2], ...]\n",
    "```\n",
    "\n",
    "The zero is a place keeper where we will put the fitness in a moment."
   ]
  },
  {
   "cell_type": "code",
   "execution_count": 12,
   "metadata": {
    "collapsed": true
   },
   "outputs": [],
   "source": [
    "def make_pop(size, dna=None):\n",
    "    pop = []\n",
    "    for i in range(size):\n",
    "        if dna is None:\n",
    "            pop.append([0, make_dna(93)])\n",
    "        else:\n",
    "            pop.append([0, mutate(dna, 10)])\n",
    "    return pop"
   ]
  },
  {
   "cell_type": "code",
   "execution_count": 13,
   "metadata": {
    "collapsed": false
   },
   "outputs": [
    {
     "data": {
      "text/plain": [
       "[[0,\n",
       "  '288011181125947895543144113760071612630986198389816490561083032835531858849961664286602626144'],\n",
       " [0,\n",
       "  '535509792262951458600411106626311989962369722112135552266827753540524375199777013849322370592'],\n",
       " [0,\n",
       "  '630312456772705292815307963592305019810338376558525912677696262144070735157945904944963440121']]"
      ]
     },
     "execution_count": 13,
     "metadata": {},
     "output_type": "execute_result"
    }
   ],
   "source": [
    "pop = make_pop(3)\n",
    "pop"
   ]
  },
  {
   "cell_type": "markdown",
   "metadata": {},
   "source": [
    "## How diverse is the population per position?\n",
    "\n",
    "We define a simple function to show the diversity of the population. Along the top will be each position of the DNA. Along the left side is the possible values for a location (a gene). The matrix is filled with the counts of those genes in that location."
   ]
  },
  {
   "cell_type": "code",
   "execution_count": 14,
   "metadata": {
    "collapsed": false
   },
   "outputs": [],
   "source": [
    "def show_diversity(pop):\n",
    "    counts = [{} for i in range(len(pop[0][1]))]\n",
    "    for i in range(len(pop)):\n",
    "        for j in range(len(pop[i][1])):\n",
    "            c = pop[i][1][j]\n",
    "            counts[j][c] = counts[j].get(c, 0) + 1\n",
    "    print(\"   012345678901234567890123456789012345678901234567890123456789012345678901234567890123456789012\")\n",
    "    print(\"   ---------------------------------------------------------------------------------------------\")\n",
    "    for number in range(9, -1, -1):\n",
    "        print(\"%s: \" % number, end=\"\")\n",
    "        for position in range(len(counts)):\n",
    "            count = int(counts[position].get(str(number), 0)/len(pop) * 10)\n",
    "            if count == 10:\n",
    "                count = \"X\"\n",
    "            elif count == 0:\n",
    "                count = \".\"\n",
    "            print(count, end=\"\")\n",
    "        print()"
   ]
  },
  {
   "cell_type": "code",
   "execution_count": 15,
   "metadata": {
    "collapsed": false
   },
   "outputs": [
    {
     "name": "stdout",
     "output_type": "stream",
     "text": [
      "   012345678901234567890123456789012345678901234567890123456789012345678901234567890123456789012\n",
      "   ---------------------------------------------------------------------------------------------\n",
      "9: .....3.3....6...6.......3...3....3.63..3.3.3...3...33.....3..............366..3..3.33......3.\n",
      "8: .33....3.......3.33...............3.3...33..3.333........33....3.....3.33........33..........\n",
      "7: ......3..33.3.3........3...3...3..........33...........33..33......3.33...3333..........3....\n",
      "6: 3.......3.3.......3......33333...3..33..33..3.....3...3633.3.3..............3.33...333.3.3...\n",
      "5: 3.33...3...3.33.333.3......3....3............33.3.633.3......3.3.36...36.3...3............3..\n",
      "4: ......3......3.3...3.333...........................3............63..3....3..3...6.63...33..33\n",
      "3: .6.3................33....6...6......3.63.3..3...3.........3.33.3..3.33.........3...3.33.....\n",
      "2: 3....3..3336...3.3..........33.....3..3....33..3.3...63...3.3.6....3.............3...36.3..33\n",
      "1: ....633.33....3....3.33363.....36.6..3....3..33.33..3...3......3....3...6....3.3..........6.3\n",
      "0: ..333........3.....33.3..3...333.3....6..............3...3..3....33.3.........33.....3...6...\n"
     ]
    }
   ],
   "source": [
    "show_diversity(pop)"
   ]
  },
  {
   "cell_type": "code",
   "execution_count": 16,
   "metadata": {
    "collapsed": true
   },
   "outputs": [],
   "source": [
    "for i in range(len(pop)):\n",
    "    pop[i][0] = compute_fitness(pop[i][1], 3)"
   ]
  },
  {
   "cell_type": "code",
   "execution_count": 17,
   "metadata": {
    "collapsed": true
   },
   "outputs": [],
   "source": [
    "pop.sort(reverse=True)"
   ]
  },
  {
   "cell_type": "code",
   "execution_count": 18,
   "metadata": {
    "collapsed": false
   },
   "outputs": [
    {
     "data": {
      "text/plain": [
       "[[92.5,\n",
       "  '630312456772705292815307963592305019810338376558525912677696262144070735157945904944963440121'],\n",
       " [92.5,\n",
       "  '535509792262951458600411106626311989962369722112135552266827753540524375199777013849322370592'],\n",
       " [92.5,\n",
       "  '288011181125947895543144113760071612630986198389816490561083032835531858849961664286602626144']]"
      ]
     },
     "execution_count": 18,
     "metadata": {},
     "output_type": "execute_result"
    }
   ],
   "source": [
    "pop"
   ]
  },
  {
   "cell_type": "markdown",
   "metadata": {},
   "source": [
    "## Crossover Function\n",
    "\n",
    "Crossover exchanges pieces of two genomes. Crossover can be a perfect shuffle, uniform, or point-based. Shuffle simply alternates between each parent. Uniform tosses an even coin to see if the gene comes from the mother or the father. Point-based mutation will only crossover at particular points. Shown here is a single point crossover:\n",
    "\n",
    "<img src=\"http://cs.brynmawr.edu/~dblank/images/crossover-transparent.gif\"/>\n",
    "\n",
    "To use crossover, we need a method of selecting good parents:"
   ]
  },
  {
   "cell_type": "code",
   "execution_count": 19,
   "metadata": {
    "collapsed": true
   },
   "outputs": [],
   "source": [
    "def select(pop):\n",
    "    \"\"\"\n",
    "    Given a population of the form [[FITNESS, DNA], ...]\n",
    "    pick one (with better fitness, more likily to be picked), \n",
    "    and return a copy of the DNA.\n",
    "    \"\"\"\n",
    "    partsum = 0.0\n",
    "    sumFitness = sum([item[0] for item in pop])\n",
    "    if sumFitness == 0:\n",
    "        raise Exception(\"Population has a total of zero fitness\")\n",
    "    spin = random.random() * sumFitness\n",
    "    index = 0\n",
    "    while index < len(pop) - 1:\n",
    "        fitness = pop[index][0]\n",
    "        if fitness < 0:\n",
    "            raise Exception(\"Negative fitness in select: \" + str(fitness))\n",
    "        partsum += fitness\n",
    "        if partsum >= spin:\n",
    "            break\n",
    "        index += 1\n",
    "    #print(\"index:\", index)\n",
    "    return copy.copy(pop[index][1])"
   ]
  },
  {
   "cell_type": "code",
   "execution_count": 20,
   "metadata": {
    "collapsed": false
   },
   "outputs": [
    {
     "data": {
      "text/plain": [
       "'630312456772705292815307963592305019810338376558525912677696262144070735157945904944963440121'"
      ]
     },
     "execution_count": 20,
     "metadata": {},
     "output_type": "execute_result"
    }
   ],
   "source": [
    "select(pop)"
   ]
  },
  {
   "cell_type": "markdown",
   "metadata": {},
   "source": [
    "Our crossover function will replace a segment of the population, given by `percentage`:"
   ]
  },
  {
   "cell_type": "code",
   "execution_count": 21,
   "metadata": {
    "collapsed": true
   },
   "outputs": [],
   "source": [
    "def crossover(pop, percentage):\n",
    "    \"\"\"\n",
    "    Given a population and a percentage, replace\n",
    "    that percentage of the population with new\n",
    "    individuals created from higher-fitness individual.\n",
    "    New individuals replace the worst-performing individuals.\n",
    "    \"\"\"\n",
    "    old_pop = copy.copy(pop)\n",
    "    for j in range(int(len(pop) * percentage)):\n",
    "        p1 = select(old_pop)\n",
    "        p2 = select(old_pop)\n",
    "        # Pick a crossover point:\n",
    "        point = random.randint(0, len(pop[j][1]) - 1)\n",
    "        child = []\n",
    "        for i in range(len(pop[j][1])):\n",
    "            if i < point:\n",
    "                child.append(p1[i])\n",
    "            else:\n",
    "                child.append(p2[i])\n",
    "        child = \"\".join(child)\n",
    "        #print(\"p1:\", p1)\n",
    "        #print(\"p2:\", p2)\n",
    "        #print(\"c :\", child)\n",
    "        #print(\"replacing\", len(pop) - j - 1)\n",
    "        pop[len(pop) - j - 1][1] = child"
   ]
  },
  {
   "cell_type": "markdown",
   "metadata": {},
   "source": [
    "In the following cell, provide settings for all of the parameters, such as:\n",
    "\n",
    "```python\n",
    "generations = 2\n",
    "simulated_seconds = 3\n",
    "pop_size = 10\n",
    "mutations_per_individual = 10\n",
    "crossover_percentage = .33\n",
    "```"
   ]
  },
  {
   "cell_type": "code",
   "execution_count": 22,
   "metadata": {
    "collapsed": true,
    "deletable": false,
    "nbgrader": {
     "checksum": "09cd8eaec325893c2127b329fc2d7353",
     "grade": false,
     "grade_id": "parameters",
     "locked": false,
     "points": 20,
     "solution": true
    }
   },
   "outputs": [],
   "source": [
    "### BEGIN SOLUTION\n",
    "generations = 10\n",
    "simulated_seconds = 5\n",
    "pop_size = 10\n",
    "mutations_per_individual = 10\n",
    "crossover_percentage = .33\n",
    "### END SOLUTION"
   ]
  },
  {
   "cell_type": "markdown",
   "metadata": {},
   "source": [
    "And then run the experiment!"
   ]
  },
  {
   "cell_type": "code",
   "execution_count": 23,
   "metadata": {
    "collapsed": false
   },
   "outputs": [
    {
     "name": "stdout",
     "output_type": "stream",
     "text": [
      "Computing fitness...\n",
      "Sorting...\n",
      "Generation: 1 Best: 115.75\n",
      "  Best DNA: 199777013849322370592630312456772705292815307963592305019810338376558525912677696262144070735\n",
      "Mutating...\n",
      "Computing fitness...\n",
      "Sorting...\n",
      "Generation: 2 Best: 115.75\n",
      "  Best DNA: 199777013849322370592630312456772705292815307963592305019810338376558525912677696262144070735\n",
      "Mutating...\n",
      "Computing fitness...\n",
      "Sorting...\n",
      "Generation: 3 Best: 115.75\n",
      "  Best DNA: 199777013849322370592630312456772705292815307963592305019810338376558525912677696262144070735\n",
      "Mutating...\n",
      "Computing fitness...\n",
      "Sorting...\n",
      "Generation: 4 Best: 115.75\n",
      "  Best DNA: 199777013849322370592630312456772705292815307963592305019810338376558525912677696262144070735\n",
      "Mutating...\n",
      "Computing fitness...\n",
      "Sorting...\n",
      "Generation: 5 Best: 115.75\n",
      "  Best DNA: 199777013849322370592630312456772705292815307963592305019810338376558525912677696262144070735\n",
      "Mutating...\n",
      "Computing fitness...\n",
      "Sorting...\n",
      "Generation: 6 Best: 115.75\n",
      "  Best DNA: 199777013849322370592630312456772705292815307963592305019810338376558525912677696262144070735\n",
      "Mutating...\n",
      "Computing fitness...\n",
      "Sorting...\n",
      "Generation: 7 Best: 115.75\n",
      "  Best DNA: 199777013849322370592630312456772705292815307963592305019810338376558525912677696262144070735\n",
      "Mutating...\n",
      "Computing fitness...\n",
      "Sorting...\n",
      "Generation: 8 Best: 115.75\n",
      "  Best DNA: 199777013849322370592630312456772705292815307963592305019810338376558525912677696262144070735\n",
      "Mutating...\n",
      "Computing fitness...\n",
      "Sorting...\n",
      "Generation: 9 Best: 115.75\n",
      "  Best DNA: 199777013849322370592630312456772705292815307963592305019810338376558525912677696262144070735\n",
      "Mutating...\n",
      "Computing fitness...\n",
      "Sorting...\n",
      "Generation: 10 Best: 115.75\n",
      "  Best DNA: 199777013849322370592630312456772705292815307963592305019810338376558525912677696262144070735\n",
      "Mutating...\n"
     ]
    }
   ],
   "source": [
    "best_fitness = []\n",
    "pop = make_pop(pop_size)\n",
    "for generation in range(generations):\n",
    "    print(\"Computing fitness...\")\n",
    "    for i in range(len(pop)):\n",
    "        pop[i][0] = compute_fitness(pop[i][1], simulated_seconds)\n",
    "    print(\"Sorting...\")\n",
    "    pop.sort(reverse=True)\n",
    "    print(\"Generation:\", generation + 1, \"Best:\", pop[0][0])\n",
    "    print(\"  Best DNA:\", pop[0][1])\n",
    "    print(\"Mutating...\")\n",
    "    best_fitness.append(pop[0][0])\n",
    "    for i in range(2, len(pop)):\n",
    "        pop[i][1] = mutate(pop[i][1], mutations_per_individual)\n",
    "    # Crossover:\n",
    "    crossover(pop, crossover_percentage)"
   ]
  },
  {
   "cell_type": "markdown",
   "metadata": {},
   "source": [
    "## 1.5 Analysis"
   ]
  },
  {
   "cell_type": "markdown",
   "metadata": {},
   "source": [
    "Now, you can examine different aspects of this evolutionary run."
   ]
  },
  {
   "cell_type": "code",
   "execution_count": 24,
   "metadata": {
    "collapsed": false
   },
   "outputs": [
    {
     "data": {
      "text/plain": [
       "[[115.75,\n",
       "  '199777013849322370592630312456772705292815307963592305019810338376558525912677696262144070735'],\n",
       " [106.44444444444444,\n",
       "  '879961668136608656828582931173558626726394621678393989229862522413204340489912115921688388838'],\n",
       " [106.44444444444444,\n",
       "  '179201668136608640828501600281522048866996064979382667781462401430204807460557865983683896836'],\n",
       " [106.44444444444444,\n",
       "  '149201668136608640828512600281522048866996064979382667781462401414204427560857815270686702838'],\n",
       " [87.5,\n",
       "  '879961668636608640828501600281522048866996064968382667781464401430204800460507869983183896836'],\n",
       " [87.5,\n",
       "  '879961668636608640828501600281522048866996064968382667781464401430204800460507869983183896836'],\n",
       " [87.5,\n",
       "  '879961668636608640828501600281522048866996064968382669781464401414204420560857815270196702836'],\n",
       " [87.5,\n",
       "  '879961668636608640828501600281522048866996064968382669781464401414204420560857815270196702836'],\n",
       " [87.5,\n",
       "  '879961668636608640828501600281522048866996064968382667781464401414204420560857815270196702836'],\n",
       " [87.5,\n",
       "  '149201668136608640828501600281522048866996064968382669781464401414204420560857815270196702836']]"
      ]
     },
     "execution_count": 24,
     "metadata": {},
     "output_type": "execute_result"
    }
   ],
   "source": [
    "pop"
   ]
  },
  {
   "cell_type": "markdown",
   "metadata": {},
   "source": [
    "What does the diversity of the population's DNA look like?"
   ]
  },
  {
   "cell_type": "code",
   "execution_count": 25,
   "metadata": {
    "collapsed": false
   },
   "outputs": [
    {
     "name": "stdout",
     "output_type": "stream",
     "text": [
      "   012345678901234567890123456789012345678901234567890123456789012345678901234567890123456789012\n",
      "   ---------------------------------------------------------------------------------------------\n",
      "9: .1X6.......1.......1....1............1.89....9.2.2.1.4..2...............1.11...124...4..3....\n",
      "8: 6.......91....9...9.9.1.....8...1..88..1.......7.8..1..8.2....1.....13...1.5..8...3..513119.2\n",
      "7: .7.111..........1...........1.11.1..1.......1.3......58.........1......2....19....5....51.1..\n",
      "6: ....6.99.5.99..9.1...1..8....1...1.1.89..818.17....88.....9......1.......8.1..131.1.3.5..3..7\n",
      "5: ................1.1..9......1.91...1.....1......1....1......1.....11.1.15..36...7...........1\n",
      "4: .2........1.....8..........1......8......1..8............8.68..9.5..951.4............11......\n",
      "3: ........1.9.1..1......1.11...1.........1..1....19.11........11.131...1.............3..31...X.\n",
      "2: ...3.........11....91..2..18...89.1.111....1......9...11...3.11...9...6...1..1...611.....5...\n",
      "1: 4....9.1.4............17.111.8..........1...1..........18.1...8.6........1..1.16...17........\n",
      "0: ....3.1......9...9....71.88......81.......81........1.1....1.8...3.9..37..8.2......5...151...\n"
     ]
    }
   ],
   "source": [
    "show_diversity(pop)"
   ]
  },
  {
   "cell_type": "markdown",
   "metadata": {},
   "source": [
    "In the following cell, discuss the diversity of the population. Is this what you expected? Did it \"converge\"? Or is the population fairly diverse?"
   ]
  },
  {
   "cell_type": "markdown",
   "metadata": {
    "deletable": false,
    "nbgrader": {
     "checksum": "88040ebdd821aff95c2adbfaf460fbbc",
     "grade": true,
     "grade_id": "diversity",
     "locked": false,
     "points": 20,
     "solution": true
    }
   },
   "source": [
    "YOUR ANSWER HERE"
   ]
  },
  {
   "cell_type": "markdown",
   "metadata": {},
   "source": [
    "In the following cell, create a matplotlib graph of the best fitnesses over time."
   ]
  },
  {
   "cell_type": "code",
   "execution_count": 26,
   "metadata": {
    "collapsed": false
   },
   "outputs": [
    {
     "data": {
      "text/plain": [
       "[115.75,\n",
       " 115.75,\n",
       " 115.75,\n",
       " 115.75,\n",
       " 115.75,\n",
       " 115.75,\n",
       " 115.75,\n",
       " 115.75,\n",
       " 115.75,\n",
       " 115.75]"
      ]
     },
     "execution_count": 26,
     "metadata": {},
     "output_type": "execute_result"
    }
   ],
   "source": [
    "best_fitness"
   ]
  },
  {
   "cell_type": "code",
   "execution_count": 40,
   "metadata": {
    "collapsed": false,
    "deletable": false,
    "nbgrader": {
     "checksum": "6fe0e895a83ed605e7c77f9034fc44c5",
     "grade": false,
     "grade_id": "matplotlib-best",
     "locked": false,
     "points": 20,
     "solution": true
    }
   },
   "outputs": [
    {
     "data": {
      "image/png": "[encoded data removed]",
      "text/plain": [
       "<matplotlib.figure.Figure at 0x7f2ffb718748>"
      ]
     },
     "metadata": {},
     "output_type": "display_data"
    }
   ],
   "source": [
    "import matplotlib.pyplot as plt\n",
    "### BEGIN SOLUTION\n",
    "plt.plot(best_fitness)\n",
    "plt.xlabel(\"Generation\")\n",
    "plt.ylabel(\"Fitness\")\n",
    "plt.ylim(50,200)\n",
    "plt.show()\n",
    "### END SOLUTION"
   ]
  },
  {
   "cell_type": "markdown",
   "metadata": {},
   "source": [
    "As part of any experiment, you'll want to examine different solutions. This section explores how you can watch a DNA control the ladybug, and make a movie for showing.\n",
    "\n",
    "First, we define two functions:"
   ]
  },
  {
   "cell_type": "code",
   "execution_count": 31,
   "metadata": {
    "collapsed": false
   },
   "outputs": [],
   "source": [
    "def watch_one(dna, seconds=10):\n",
    "    new_robot = DNARobot(robot, dna)\n",
    "    sim.setRobot(0, new_robot)\n",
    "    sim.reset()\n",
    "    while new_robot.energy > 0 and sim.clock < seconds:\n",
    "        sim.step()\n",
    "        clear_output(wait=True)\n",
    "        display(sim.render())\n",
    "    print(\"fitness:\", sum(new_robot.history)/len(new_robot.history))\n",
    "    \n",
    "def make_movie(dna, name, seconds=10):\n",
    "    new_robot = DNARobot(robot, dna)\n",
    "    sim.setRobot(0, new_robot)\n",
    "    sim.reset()\n",
    "    frame = 0\n",
    "    while new_robot.energy > 0 and sim.clock < seconds:\n",
    "        sim.step()\n",
    "        canvas = sim.render()\n",
    "        canvas.save(\"%s-%04d.gif\" % (name, frame))\n",
    "        frame += 1"
   ]
  },
  {
   "cell_type": "markdown",
   "metadata": {},
   "source": [
    "`watch_one()` takes a DNA string, and simply renders it on each step:"
   ]
  },
  {
   "cell_type": "code",
   "execution_count": 32,
   "metadata": {
    "collapsed": true
   },
   "outputs": [],
   "source": [
    "dna = '900499520468472606914876192567498206996983559871961745555167134603951243523914525534679075336'"
   ]
  },
  {
   "cell_type": "code",
   "execution_count": 33,
   "metadata": {
    "collapsed": false,
    "scrolled": true
   },
   "outputs": [
    {
     "data": {
      "image/png": "[encoded data removed]",
      "image/svg+xml": [
       "<svg baseProfile=\"full\" height=\"400\" version=\"1.1\" width=\"600\" xmlns=\"http://www.w3.org/2000/svg\" xmlns:ev=\"http://www.w3.org/2001/xml-events\" xmlns:xlink=\"http://www.w3.org/1999/xlink\"><defs /><rect fill=\"green\" fill-opacity=\"1.0\" height=\"400\" stroke=\"#000000\" stroke-opacity=\"0.0\" stroke-width=\"1\" width=\"600\" x=\"0\" y=\"0\" /><circle cx=\"5.0\" cy=\"5.0\" fill=\"purple\" fill-opacity=\"1.0\" r=\"5\" stroke=\"#000000\" stroke-width=\"1\" /><circle cx=\"5.0\" cy=\"15.0\" fill=\"purple\" fill-opacity=\"1.0\" r=\"5\" stroke=\"#000000\" stroke-width=\"1\" /><circle cx=\"5.0\" cy=\"25.0\" fill=\"purple\" fill-opacity=\"1.0\" r=\"5\" stroke=\"#000000\" stroke-width=\"1\" /><circle cx=\"5.0\" cy=\"35.0\" fill=\"purple\" fill-opacity=\"1.0\" r=\"5\" stroke=\"#000000\" stroke-width=\"1\" /><circle cx=\"5.0\" cy=\"45.0\" fill=\"purple\" fill-opacity=\"1.0\" r=\"5\" stroke=\"#000000\" stroke-width=\"1\" /><circle cx=\"5.0\" cy=\"55.0\" fill=\"purple\" fill-opacity=\"1.0\" r=\"5\" stroke=\"#000000\" stroke-width=\"1\" /><circle cx=\"5.0\" cy=\"65.0\" fill=\"purple\" fill-opacity=\"1.0\" r=\"5\" stroke=\"#000000\" stroke-width=\"1\" /><circle cx=\"5.0\" cy=\"75.0\" fill=\"purple\" fill-opacity=\"1.0\" r=\"5\" stroke=\"#000000\" stroke-width=\"1\" /><circle cx=\"5.0\" cy=\"85.0\" fill=\"purple\" fill-opacity=\"1.0\" r=\"5\" stroke=\"#000000\" stroke-width=\"1\" /><circle cx=\"5.0\" cy=\"95.0\" fill=\"purple\" fill-opacity=\"1.0\" r=\"5\" stroke=\"#000000\" stroke-width=\"1\" /><circle cx=\"5.0\" cy=\"105.0\" fill=\"purple\" fill-opacity=\"1.0\" r=\"5\" stroke=\"#000000\" stroke-width=\"1\" /><circle cx=\"5.0\" cy=\"115.0\" fill=\"purple\" fill-opacity=\"1.0\" r=\"5\" stroke=\"#000000\" stroke-width=\"1\" /><circle cx=\"5.0\" cy=\"125.0\" fill=\"purple\" fill-opacity=\"1.0\" r=\"5\" stroke=\"#000000\" stroke-width=\"1\" /><circle cx=\"5.0\" cy=\"135.0\" fill=\"purple\" fill-opacity=\"1.0\" r=\"5\" stroke=\"#000000\" stroke-width=\"1\" /><circle cx=\"5.0\" cy=\"145.0\" fill=\"purple\" fill-opacity=\"1.0\" r=\"5\" stroke=\"#000000\" stroke-width=\"1\" /><circle cx=\"5.0\" cy=\"155.0\" fill=\"purple\" fill-opacity=\"1.0\" r=\"5\" stroke=\"#000000\" stroke-width=\"1\" /><circle cx=\"5.0\" cy=\"165.0\" fill=\"purple\" fill-opacity=\"1.0\" r=\"5\" stroke=\"#000000\" stroke-width=\"1\" /><circle cx=\"5.0\" cy=\"175.0\" fill=\"purple\" fill-opacity=\"1.0\" r=\"5\" stroke=\"#000000\" stroke-width=\"1\" /><circle cx=\"5.0\" cy=\"185.0\" fill=\"purple\" fill-opacity=\"1.0\" r=\"5\" stroke=\"#000000\" stroke-width=\"1\" /><circle cx=\"5.0\" cy=\"195.0\" fill=\"purple\" fill-opacity=\"1.0\" r=\"5\" stroke=\"#000000\" stroke-width=\"1\" /><circle cx=\"5.0\" cy=\"205.0\" fill=\"purple\" fill-opacity=\"1.0\" r=\"5\" stroke=\"#000000\" stroke-width=\"1\" /><circle cx=\"5.0\" cy=\"215.0\" fill=\"purple\" fill-opacity=\"1.0\" r=\"5\" stroke=\"#000000\" stroke-width=\"1\" /><circle cx=\"5.0\" cy=\"225.0\" fill=\"purple\" fill-opacity=\"1.0\" r=\"5\" stroke=\"#000000\" stroke-width=\"1\" /><circle cx=\"5.0\" cy=\"235.0\" fill=\"purple\" fill-opacity=\"1.0\" r=\"5\" stroke=\"#000000\" stroke-width=\"1\" /><circle cx=\"5.0\" cy=\"245.0\" fill=\"purple\" fill-opacity=\"1.0\" r=\"5\" stroke=\"#000000\" stroke-width=\"1\" /><circle cx=\"5.0\" cy=\"255.0\" fill=\"purple\" fill-opacity=\"1.0\" r=\"5\" stroke=\"#000000\" stroke-width=\"1\" /><circle cx=\"5.0\" cy=\"265.0\" fill=\"purple\" fill-opacity=\"1.0\" r=\"5\" stroke=\"#000000\" stroke-width=\"1\" /><circle cx=\"5.0\" cy=\"275.0\" fill=\"purple\" fill-opacity=\"1.0\" r=\"5\" stroke=\"#000000\" stroke-width=\"1\" /><circle cx=\"5.0\" cy=\"285.0\" fill=\"purple\" fill-opacity=\"1.0\" r=\"5\" stroke=\"#000000\" stroke-width=\"1\" /><circle cx=\"5.0\" cy=\"295.0\" fill=\"purple\" fill-opacity=\"1.0\" r=\"5\" stroke=\"#000000\" stroke-width=\"1\" /><circle cx=\"5.0\" cy=\"305.0\" fill=\"purple\" fill-opacity=\"1.0\" r=\"5\" stroke=\"#000000\" stroke-width=\"1\" /><circle cx=\"5.0\" cy=\"315.0\" fill=\"purple\" fill-opacity=\"1.0\" r=\"5\" stroke=\"#000000\" stroke-width=\"1\" /><circle cx=\"5.0\" cy=\"325.0\" fill=\"purple\" fill-opacity=\"1.0\" r=\"5\" stroke=\"#000000\" stroke-width=\"1\" /><circle cx=\"5.0\" cy=\"335.0\" fill=\"purple\" fill-opacity=\"1.0\" r=\"5\" stroke=\"#000000\" stroke-width=\"1\" /><circle cx=\"5.0\" cy=\"345.0\" fill=\"purple\" fill-opacity=\"1.0\" r=\"5\" stroke=\"#000000\" stroke-width=\"1\" /><circle cx=\"5.0\" cy=\"355.0\" fill=\"purple\" fill-opacity=\"1.0\" r=\"5\" stroke=\"#000000\" stroke-width=\"1\" /><circle cx=\"5.0\" cy=\"365.0\" fill=\"purple\" fill-opacity=\"1.0\" r=\"5\" stroke=\"#000000\" stroke-width=\"1\" /><circle cx=\"5.0\" cy=\"375.0\" fill=\"purple\" fill-opacity=\"1.0\" r=\"5\" stroke=\"#000000\" stroke-width=\"1\" /><circle cx=\"5.0\" cy=\"385.0\" fill=\"purple\" fill-opacity=\"1.0\" r=\"5\" stroke=\"#000000\" stroke-width=\"1\" /><circle cx=\"5.0\" cy=\"395.0\" fill=\"purple\" fill-opacity=\"1.0\" r=\"5\" stroke=\"#000000\" stroke-width=\"1\" /><circle cx=\"15.0\" cy=\"5.0\" fill=\"purple\" fill-opacity=\"1.0\" r=\"5\" stroke=\"#000000\" stroke-width=\"1\" /><circle cx=\"15.0\" cy=\"395.0\" fill=\"purple\" fill-opacity=\"1.0\" r=\"5\" stroke=\"#000000\" stroke-width=\"1\" /><circle cx=\"25.0\" cy=\"5.0\" fill=\"purple\" fill-opacity=\"1.0\" r=\"5\" stroke=\"#000000\" stroke-width=\"1\" /><circle cx=\"25.0\" cy=\"395.0\" fill=\"purple\" fill-opacity=\"1.0\" r=\"5\" stroke=\"#000000\" stroke-width=\"1\" /><circle cx=\"35.0\" cy=\"5.0\" fill=\"purple\" fill-opacity=\"1.0\" r=\"5\" stroke=\"#000000\" stroke-width=\"1\" /><circle cx=\"35.0\" cy=\"395.0\" fill=\"purple\" fill-opacity=\"1.0\" r=\"5\" stroke=\"#000000\" stroke-width=\"1\" /><circle cx=\"45.0\" cy=\"5.0\" fill=\"purple\" fill-opacity=\"1.0\" r=\"5\" stroke=\"#000000\" stroke-width=\"1\" /><circle cx=\"45.0\" cy=\"395.0\" fill=\"purple\" fill-opacity=\"1.0\" r=\"5\" stroke=\"#000000\" stroke-width=\"1\" /><circle cx=\"55.0\" cy=\"5.0\" fill=\"purple\" fill-opacity=\"1.0\" r=\"5\" stroke=\"#000000\" stroke-width=\"1\" /><circle cx=\"55.0\" cy=\"35.0\" fill=\"yellow\" fill-opacity=\"1.0\" r=\"5\" stroke=\"#000000\" stroke-width=\"1\" /><circle cx=\"55.0\" cy=\"395.0\" fill=\"purple\" fill-opacity=\"1.0\" r=\"5\" stroke=\"#000000\" stroke-width=\"1\" /><circle cx=\"65.0\" cy=\"5.0\" fill=\"purple\" fill-opacity=\"1.0\" r=\"5\" stroke=\"#000000\" stroke-width=\"1\" /><circle cx=\"65.0\" cy=\"25.0\" fill=\"yellow\" fill-opacity=\"1.0\" r=\"5\" stroke=\"#000000\" stroke-width=\"1\" /><circle cx=\"65.0\" cy=\"395.0\" fill=\"purple\" fill-opacity=\"1.0\" r=\"5\" stroke=\"#000000\" stroke-width=\"1\" /><circle cx=\"75.0\" cy=\"5.0\" fill=\"purple\" fill-opacity=\"1.0\" r=\"5\" stroke=\"#000000\" stroke-width=\"1\" /><circle cx=\"75.0\" cy=\"65.0\" fill=\"yellow\" fill-opacity=\"1.0\" r=\"5\" stroke=\"#000000\" stroke-width=\"1\" /><circle cx=\"75.0\" cy=\"105.0\" fill=\"yellow\" fill-opacity=\"1.0\" r=\"5\" stroke=\"#000000\" stroke-width=\"1\" /><circle cx=\"75.0\" cy=\"395.0\" fill=\"purple\" fill-opacity=\"1.0\" r=\"5\" stroke=\"#000000\" stroke-width=\"1\" /><circle cx=\"85.0\" cy=\"5.0\" fill=\"purple\" fill-opacity=\"1.0\" r=\"5\" stroke=\"#000000\" stroke-width=\"1\" /><circle cx=\"85.0\" cy=\"85.0\" fill=\"yellow\" fill-opacity=\"1.0\" r=\"5\" stroke=\"#000000\" stroke-width=\"1\" /><circle cx=\"85.0\" cy=\"395.0\" fill=\"purple\" fill-opacity=\"1.0\" r=\"5\" stroke=\"#000000\" stroke-width=\"1\" /><circle cx=\"95.0\" cy=\"5.0\" fill=\"purple\" fill-opacity=\"1.0\" r=\"5\" stroke=\"#000000\" stroke-width=\"1\" /><circle cx=\"95.0\" cy=\"85.0\" fill=\"yellow\" fill-opacity=\"1.0\" r=\"5\" stroke=\"#000000\" stroke-width=\"1\" /><circle cx=\"95.0\" cy=\"395.0\" fill=\"purple\" fill-opacity=\"1.0\" r=\"5\" stroke=\"#000000\" stroke-width=\"1\" /><circle cx=\"105.0\" cy=\"5.0\" fill=\"purple\" fill-opacity=\"1.0\" r=\"5\" stroke=\"#000000\" stroke-width=\"1\" /><circle cx=\"105.0\" cy=\"65.0\" fill=\"yellow\" fill-opacity=\"1.0\" r=\"5\" stroke=\"#000000\" stroke-width=\"1\" /><circle cx=\"105.0\" cy=\"105.0\" fill=\"yellow\" fill-opacity=\"1.0\" r=\"5\" stroke=\"#000000\" stroke-width=\"1\" /><circle cx=\"105.0\" cy=\"395.0\" fill=\"purple\" fill-opacity=\"1.0\" r=\"5\" stroke=\"#000000\" stroke-width=\"1\" /><circle cx=\"115.0\" cy=\"5.0\" fill=\"purple\" fill-opacity=\"1.0\" r=\"5\" stroke=\"#000000\" stroke-width=\"1\" /><circle cx=\"115.0\" cy=\"45.0\" fill=\"yellow\" fill-opacity=\"1.0\" r=\"5\" stroke=\"#000000\" stroke-width=\"1\" /><circle cx=\"115.0\" cy=\"65.0\" fill=\"yellow\" fill-opacity=\"1.0\" r=\"5\" stroke=\"#000000\" stroke-width=\"1\" /><circle cx=\"115.0\" cy=\"85.0\" fill=\"yellow\" fill-opacity=\"1.0\" r=\"5\" stroke=\"#000000\" stroke-width=\"1\" /><circle cx=\"115.0\" cy=\"115.0\" fill=\"yellow\" fill-opacity=\"1.0\" r=\"5\" stroke=\"#000000\" stroke-width=\"1\" /><circle cx=\"115.0\" cy=\"395.0\" fill=\"purple\" fill-opacity=\"1.0\" r=\"5\" stroke=\"#000000\" stroke-width=\"1\" /><circle cx=\"125.0\" cy=\"5.0\" fill=\"purple\" fill-opacity=\"1.0\" r=\"5\" stroke=\"#000000\" stroke-width=\"1\" /><circle cx=\"125.0\" cy=\"395.0\" fill=\"purple\" fill-opacity=\"1.0\" r=\"5\" stroke=\"#000000\" stroke-width=\"1\" /><circle cx=\"135.0\" cy=\"5.0\" fill=\"purple\" fill-opacity=\"1.0\" r=\"5\" stroke=\"#000000\" stroke-width=\"1\" /><circle cx=\"135.0\" cy=\"35.0\" fill=\"yellow\" fill-opacity=\"1.0\" r=\"5\" stroke=\"#000000\" stroke-width=\"1\" /><circle cx=\"135.0\" cy=\"65.0\" fill=\"yellow\" fill-opacity=\"1.0\" r=\"5\" stroke=\"#000000\" stroke-width=\"1\" /><circle cx=\"135.0\" cy=\"85.0\" fill=\"yellow\" fill-opacity=\"1.0\" r=\"5\" stroke=\"#000000\" stroke-width=\"1\" /><circle cx=\"135.0\" cy=\"395.0\" fill=\"purple\" fill-opacity=\"1.0\" r=\"5\" stroke=\"#000000\" stroke-width=\"1\" /><circle cx=\"145.0\" cy=\"5.0\" fill=\"purple\" fill-opacity=\"1.0\" r=\"5\" stroke=\"#000000\" stroke-width=\"1\" /><circle cx=\"145.0\" cy=\"65.0\" fill=\"yellow\" fill-opacity=\"1.0\" r=\"5\" stroke=\"#000000\" stroke-width=\"1\" /><circle cx=\"145.0\" cy=\"395.0\" fill=\"purple\" fill-opacity=\"1.0\" r=\"5\" stroke=\"#000000\" stroke-width=\"1\" /><circle cx=\"155.0\" cy=\"5.0\" fill=\"purple\" fill-opacity=\"1.0\" r=\"5\" stroke=\"#000000\" stroke-width=\"1\" /><circle cx=\"155.0\" cy=\"395.0\" fill=\"purple\" fill-opacity=\"1.0\" r=\"5\" stroke=\"#000000\" stroke-width=\"1\" /><circle cx=\"165.0\" cy=\"5.0\" fill=\"purple\" fill-opacity=\"1.0\" r=\"5\" stroke=\"#000000\" stroke-width=\"1\" /><circle cx=\"165.0\" cy=\"395.0\" fill=\"purple\" fill-opacity=\"1.0\" r=\"5\" stroke=\"#000000\" stroke-width=\"1\" /><circle cx=\"175.0\" cy=\"5.0\" fill=\"purple\" fill-opacity=\"1.0\" r=\"5\" stroke=\"#000000\" stroke-width=\"1\" /><circle cx=\"175.0\" cy=\"35.0\" fill=\"yellow\" fill-opacity=\"1.0\" r=\"5\" stroke=\"#000000\" stroke-width=\"1\" /><circle cx=\"175.0\" cy=\"55.0\" fill=\"yellow\" fill-opacity=\"1.0\" r=\"5\" stroke=\"#000000\" stroke-width=\"1\" /><circle cx=\"175.0\" cy=\"395.0\" fill=\"purple\" fill-opacity=\"1.0\" r=\"5\" stroke=\"#000000\" stroke-width=\"1\" /><circle cx=\"185.0\" cy=\"5.0\" fill=\"purple\" fill-opacity=\"1.0\" r=\"5\" stroke=\"#000000\" stroke-width=\"1\" /><circle cx=\"185.0\" cy=\"395.0\" fill=\"purple\" fill-opacity=\"1.0\" r=\"5\" stroke=\"#000000\" stroke-width=\"1\" /><circle cx=\"195.0\" cy=\"5.0\" fill=\"purple\" fill-opacity=\"1.0\" r=\"5\" stroke=\"#000000\" stroke-width=\"1\" /><circle cx=\"195.0\" cy=\"65.0\" fill=\"yellow\" fill-opacity=\"1.0\" r=\"5\" stroke=\"#000000\" stroke-width=\"1\" /><circle cx=\"195.0\" cy=\"395.0\" fill=\"purple\" fill-opacity=\"1.0\" r=\"5\" stroke=\"#000000\" stroke-width=\"1\" /><circle cx=\"205.0\" cy=\"5.0\" fill=\"purple\" fill-opacity=\"1.0\" r=\"5\" stroke=\"#000000\" stroke-width=\"1\" /><circle cx=\"205.0\" cy=\"85.0\" fill=\"yellow\" fill-opacity=\"1.0\" r=\"5\" stroke=\"#000000\" stroke-width=\"1\" /><circle cx=\"205.0\" cy=\"395.0\" fill=\"purple\" fill-opacity=\"1.0\" r=\"5\" stroke=\"#000000\" stroke-width=\"1\" /><circle cx=\"215.0\" cy=\"5.0\" fill=\"purple\" fill-opacity=\"1.0\" r=\"5\" stroke=\"#000000\" stroke-width=\"1\" /><circle cx=\"215.0\" cy=\"395.0\" fill=\"purple\" fill-opacity=\"1.0\" r=\"5\" stroke=\"#000000\" stroke-width=\"1\" /><circle cx=\"225.0\" cy=\"5.0\" fill=\"purple\" fill-opacity=\"1.0\" r=\"5\" stroke=\"#000000\" stroke-width=\"1\" /><circle cx=\"225.0\" cy=\"395.0\" fill=\"purple\" fill-opacity=\"1.0\" r=\"5\" stroke=\"#000000\" stroke-width=\"1\" /><circle cx=\"235.0\" cy=\"5.0\" fill=\"purple\" fill-opacity=\"1.0\" r=\"5\" stroke=\"#000000\" stroke-width=\"1\" /><circle cx=\"235.0\" cy=\"395.0\" fill=\"purple\" fill-opacity=\"1.0\" r=\"5\" stroke=\"#000000\" stroke-width=\"1\" /><circle cx=\"245.0\" cy=\"5.0\" fill=\"purple\" fill-opacity=\"1.0\" r=\"5\" stroke=\"#000000\" stroke-width=\"1\" /><circle cx=\"245.0\" cy=\"235.0\" fill=\"yellow\" fill-opacity=\"1.0\" r=\"5\" stroke=\"#000000\" stroke-width=\"1\" /><circle cx=\"245.0\" cy=\"395.0\" fill=\"purple\" fill-opacity=\"1.0\" r=\"5\" stroke=\"#000000\" stroke-width=\"1\" /><circle cx=\"255.0\" cy=\"5.0\" fill=\"purple\" fill-opacity=\"1.0\" r=\"5\" stroke=\"#000000\" stroke-width=\"1\" /><circle cx=\"255.0\" cy=\"395.0\" fill=\"purple\" fill-opacity=\"1.0\" r=\"5\" stroke=\"#000000\" stroke-width=\"1\" /><circle cx=\"265.0\" cy=\"5.0\" fill=\"purple\" fill-opacity=\"1.0\" r=\"5\" stroke=\"#000000\" stroke-width=\"1\" /><circle cx=\"265.0\" cy=\"195.0\" fill=\"yellow\" fill-opacity=\"1.0\" r=\"5\" stroke=\"#000000\" stroke-width=\"1\" /><circle cx=\"265.0\" cy=\"395.0\" fill=\"purple\" fill-opacity=\"1.0\" r=\"5\" stroke=\"#000000\" stroke-width=\"1\" /><circle cx=\"275.0\" cy=\"5.0\" fill=\"purple\" fill-opacity=\"1.0\" r=\"5\" stroke=\"#000000\" stroke-width=\"1\" /><circle cx=\"275.0\" cy=\"195.0\" fill=\"yellow\" fill-opacity=\"1.0\" r=\"5\" stroke=\"#000000\" stroke-width=\"1\" /><circle cx=\"275.0\" cy=\"225.0\" fill=\"yellow\" fill-opacity=\"1.0\" r=\"5\" stroke=\"#000000\" stroke-width=\"1\" /><circle cx=\"275.0\" cy=\"395.0\" fill=\"purple\" fill-opacity=\"1.0\" r=\"5\" stroke=\"#000000\" stroke-width=\"1\" /><circle cx=\"285.0\" cy=\"5.0\" fill=\"purple\" fill-opacity=\"1.0\" r=\"5\" stroke=\"#000000\" stroke-width=\"1\" /><circle cx=\"285.0\" cy=\"165.0\" fill=\"yellow\" fill-opacity=\"1.0\" r=\"5\" stroke=\"#000000\" stroke-width=\"1\" /><circle cx=\"285.0\" cy=\"395.0\" fill=\"purple\" fill-opacity=\"1.0\" r=\"5\" stroke=\"#000000\" stroke-width=\"1\" /><circle cx=\"295.0\" cy=\"5.0\" fill=\"purple\" fill-opacity=\"1.0\" r=\"5\" stroke=\"#000000\" stroke-width=\"1\" /><circle cx=\"295.0\" cy=\"215.0\" fill=\"yellow\" fill-opacity=\"1.0\" r=\"5\" stroke=\"#000000\" stroke-width=\"1\" /><circle cx=\"295.0\" cy=\"235.0\" fill=\"yellow\" fill-opacity=\"1.0\" r=\"5\" stroke=\"#000000\" stroke-width=\"1\" /><circle cx=\"295.0\" cy=\"245.0\" fill=\"yellow\" fill-opacity=\"1.0\" r=\"5\" stroke=\"#000000\" stroke-width=\"1\" /><circle cx=\"295.0\" cy=\"395.0\" fill=\"purple\" fill-opacity=\"1.0\" r=\"5\" stroke=\"#000000\" stroke-width=\"1\" /><circle cx=\"305.0\" cy=\"5.0\" fill=\"purple\" fill-opacity=\"1.0\" r=\"5\" stroke=\"#000000\" stroke-width=\"1\" /><circle cx=\"305.0\" cy=\"195.0\" fill=\"yellow\" fill-opacity=\"1.0\" r=\"5\" stroke=\"#000000\" stroke-width=\"1\" /><circle cx=\"305.0\" cy=\"215.0\" fill=\"yellow\" fill-opacity=\"1.0\" r=\"5\" stroke=\"#000000\" stroke-width=\"1\" /><circle cx=\"305.0\" cy=\"225.0\" fill=\"yellow\" fill-opacity=\"1.0\" r=\"5\" stroke=\"#000000\" stroke-width=\"1\" /><circle cx=\"305.0\" cy=\"395.0\" fill=\"purple\" fill-opacity=\"1.0\" r=\"5\" stroke=\"#000000\" stroke-width=\"1\" /><circle cx=\"315.0\" cy=\"5.0\" fill=\"purple\" fill-opacity=\"1.0\" r=\"5\" stroke=\"#000000\" stroke-width=\"1\" /><circle cx=\"315.0\" cy=\"195.0\" fill=\"yellow\" fill-opacity=\"1.0\" r=\"5\" stroke=\"#000000\" stroke-width=\"1\" /><circle cx=\"315.0\" cy=\"245.0\" fill=\"yellow\" fill-opacity=\"1.0\" r=\"5\" stroke=\"#000000\" stroke-width=\"1\" /><circle cx=\"315.0\" cy=\"275.0\" fill=\"yellow\" fill-opacity=\"1.0\" r=\"5\" stroke=\"#000000\" stroke-width=\"1\" /><circle cx=\"315.0\" cy=\"395.0\" fill=\"purple\" fill-opacity=\"1.0\" r=\"5\" stroke=\"#000000\" stroke-width=\"1\" /><circle cx=\"325.0\" cy=\"5.0\" fill=\"purple\" fill-opacity=\"1.0\" r=\"5\" stroke=\"#000000\" stroke-width=\"1\" /><circle cx=\"325.0\" cy=\"175.0\" fill=\"yellow\" fill-opacity=\"1.0\" r=\"5\" stroke=\"#000000\" stroke-width=\"1\" /><circle cx=\"325.0\" cy=\"215.0\" fill=\"yellow\" fill-opacity=\"1.0\" r=\"5\" stroke=\"#000000\" stroke-width=\"1\" /><circle cx=\"325.0\" cy=\"395.0\" fill=\"purple\" fill-opacity=\"1.0\" r=\"5\" stroke=\"#000000\" stroke-width=\"1\" /><circle cx=\"335.0\" cy=\"5.0\" fill=\"purple\" fill-opacity=\"1.0\" r=\"5\" stroke=\"#000000\" stroke-width=\"1\" /><circle cx=\"335.0\" cy=\"225.0\" fill=\"yellow\" fill-opacity=\"1.0\" r=\"5\" stroke=\"#000000\" stroke-width=\"1\" /><circle cx=\"335.0\" cy=\"235.0\" fill=\"yellow\" fill-opacity=\"1.0\" r=\"5\" stroke=\"#000000\" stroke-width=\"1\" /><circle cx=\"335.0\" cy=\"395.0\" fill=\"purple\" fill-opacity=\"1.0\" r=\"5\" stroke=\"#000000\" stroke-width=\"1\" /><circle cx=\"345.0\" cy=\"5.0\" fill=\"purple\" fill-opacity=\"1.0\" r=\"5\" stroke=\"#000000\" stroke-width=\"1\" /><circle cx=\"345.0\" cy=\"395.0\" fill=\"purple\" fill-opacity=\"1.0\" r=\"5\" stroke=\"#000000\" stroke-width=\"1\" /><circle cx=\"355.0\" cy=\"5.0\" fill=\"purple\" fill-opacity=\"1.0\" r=\"5\" stroke=\"#000000\" stroke-width=\"1\" /><circle cx=\"355.0\" cy=\"175.0\" fill=\"yellow\" fill-opacity=\"1.0\" r=\"5\" stroke=\"#000000\" stroke-width=\"1\" /><circle cx=\"355.0\" cy=\"395.0\" fill=\"purple\" fill-opacity=\"1.0\" r=\"5\" stroke=\"#000000\" stroke-width=\"1\" /><circle cx=\"365.0\" cy=\"5.0\" fill=\"purple\" fill-opacity=\"1.0\" r=\"5\" stroke=\"#000000\" stroke-width=\"1\" /><circle cx=\"365.0\" cy=\"395.0\" fill=\"purple\" fill-opacity=\"1.0\" r=\"5\" stroke=\"#000000\" stroke-width=\"1\" /><circle cx=\"375.0\" cy=\"5.0\" fill=\"purple\" fill-opacity=\"1.0\" r=\"5\" stroke=\"#000000\" stroke-width=\"1\" /><circle cx=\"375.0\" cy=\"275.0\" fill=\"yellow\" fill-opacity=\"1.0\" r=\"5\" stroke=\"#000000\" stroke-width=\"1\" /><circle cx=\"375.0\" cy=\"395.0\" fill=\"purple\" fill-opacity=\"1.0\" r=\"5\" stroke=\"#000000\" stroke-width=\"1\" /><circle cx=\"385.0\" cy=\"5.0\" fill=\"purple\" fill-opacity=\"1.0\" r=\"5\" stroke=\"#000000\" stroke-width=\"1\" /><circle cx=\"385.0\" cy=\"395.0\" fill=\"purple\" fill-opacity=\"1.0\" r=\"5\" stroke=\"#000000\" stroke-width=\"1\" /><circle cx=\"395.0\" cy=\"5.0\" fill=\"purple\" fill-opacity=\"1.0\" r=\"5\" stroke=\"#000000\" stroke-width=\"1\" /><circle cx=\"395.0\" cy=\"395.0\" fill=\"purple\" fill-opacity=\"1.0\" r=\"5\" stroke=\"#000000\" stroke-width=\"1\" /><circle cx=\"405.0\" cy=\"5.0\" fill=\"purple\" fill-opacity=\"1.0\" r=\"5\" stroke=\"#000000\" stroke-width=\"1\" /><circle cx=\"405.0\" cy=\"395.0\" fill=\"purple\" fill-opacity=\"1.0\" r=\"5\" stroke=\"#000000\" stroke-width=\"1\" /><circle cx=\"415.0\" cy=\"5.0\" fill=\"purple\" fill-opacity=\"1.0\" r=\"5\" stroke=\"#000000\" stroke-width=\"1\" /><circle cx=\"415.0\" cy=\"395.0\" fill=\"purple\" fill-opacity=\"1.0\" r=\"5\" stroke=\"#000000\" stroke-width=\"1\" /><circle cx=\"425.0\" cy=\"5.0\" fill=\"purple\" fill-opacity=\"1.0\" r=\"5\" stroke=\"#000000\" stroke-width=\"1\" /><circle cx=\"425.0\" cy=\"395.0\" fill=\"purple\" fill-opacity=\"1.0\" r=\"5\" stroke=\"#000000\" stroke-width=\"1\" /><circle cx=\"435.0\" cy=\"5.0\" fill=\"purple\" fill-opacity=\"1.0\" r=\"5\" stroke=\"#000000\" stroke-width=\"1\" /><circle cx=\"435.0\" cy=\"395.0\" fill=\"purple\" fill-opacity=\"1.0\" r=\"5\" stroke=\"#000000\" stroke-width=\"1\" /><circle cx=\"445.0\" cy=\"5.0\" fill=\"purple\" fill-opacity=\"1.0\" r=\"5\" stroke=\"#000000\" stroke-width=\"1\" /><circle cx=\"445.0\" cy=\"395.0\" fill=\"purple\" fill-opacity=\"1.0\" r=\"5\" stroke=\"#000000\" stroke-width=\"1\" /><circle cx=\"455.0\" cy=\"5.0\" fill=\"purple\" fill-opacity=\"1.0\" r=\"5\" stroke=\"#000000\" stroke-width=\"1\" /><circle cx=\"455.0\" cy=\"395.0\" fill=\"purple\" fill-opacity=\"1.0\" r=\"5\" stroke=\"#000000\" stroke-width=\"1\" /><circle cx=\"465.0\" cy=\"5.0\" fill=\"purple\" fill-opacity=\"1.0\" r=\"5\" stroke=\"#000000\" stroke-width=\"1\" /><circle cx=\"465.0\" cy=\"395.0\" fill=\"purple\" fill-opacity=\"1.0\" r=\"5\" stroke=\"#000000\" stroke-width=\"1\" /><circle cx=\"475.0\" cy=\"5.0\" fill=\"purple\" fill-opacity=\"1.0\" r=\"5\" stroke=\"#000000\" stroke-width=\"1\" /><circle cx=\"475.0\" cy=\"395.0\" fill=\"purple\" fill-opacity=\"1.0\" r=\"5\" stroke=\"#000000\" stroke-width=\"1\" /><circle cx=\"485.0\" cy=\"5.0\" fill=\"purple\" fill-opacity=\"1.0\" r=\"5\" stroke=\"#000000\" stroke-width=\"1\" /><circle cx=\"485.0\" cy=\"395.0\" fill=\"purple\" fill-opacity=\"1.0\" r=\"5\" stroke=\"#000000\" stroke-width=\"1\" /><circle cx=\"495.0\" cy=\"5.0\" fill=\"purple\" fill-opacity=\"1.0\" r=\"5\" stroke=\"#000000\" stroke-width=\"1\" /><circle cx=\"495.0\" cy=\"395.0\" fill=\"purple\" fill-opacity=\"1.0\" r=\"5\" stroke=\"#000000\" stroke-width=\"1\" /><circle cx=\"505.0\" cy=\"5.0\" fill=\"purple\" fill-opacity=\"1.0\" r=\"5\" stroke=\"#000000\" stroke-width=\"1\" /><circle cx=\"505.0\" cy=\"395.0\" fill=\"purple\" fill-opacity=\"1.0\" r=\"5\" stroke=\"#000000\" stroke-width=\"1\" /><circle cx=\"515.0\" cy=\"5.0\" fill=\"purple\" fill-opacity=\"1.0\" r=\"5\" stroke=\"#000000\" stroke-width=\"1\" /><circle cx=\"515.0\" cy=\"395.0\" fill=\"purple\" fill-opacity=\"1.0\" r=\"5\" stroke=\"#000000\" stroke-width=\"1\" /><circle cx=\"525.0\" cy=\"5.0\" fill=\"purple\" fill-opacity=\"1.0\" r=\"5\" stroke=\"#000000\" stroke-width=\"1\" /><circle cx=\"525.0\" cy=\"395.0\" fill=\"purple\" fill-opacity=\"1.0\" r=\"5\" stroke=\"#000000\" stroke-width=\"1\" /><circle cx=\"535.0\" cy=\"5.0\" fill=\"purple\" fill-opacity=\"1.0\" r=\"5\" stroke=\"#000000\" stroke-width=\"1\" /><circle cx=\"535.0\" cy=\"395.0\" fill=\"purple\" fill-opacity=\"1.0\" r=\"5\" stroke=\"#000000\" stroke-width=\"1\" /><circle cx=\"545.0\" cy=\"5.0\" fill=\"purple\" fill-opacity=\"1.0\" r=\"5\" stroke=\"#000000\" stroke-width=\"1\" /><circle cx=\"545.0\" cy=\"395.0\" fill=\"purple\" fill-opacity=\"1.0\" r=\"5\" stroke=\"#000000\" stroke-width=\"1\" /><circle cx=\"555.0\" cy=\"5.0\" fill=\"purple\" fill-opacity=\"1.0\" r=\"5\" stroke=\"#000000\" stroke-width=\"1\" /><circle cx=\"555.0\" cy=\"395.0\" fill=\"purple\" fill-opacity=\"1.0\" r=\"5\" stroke=\"#000000\" stroke-width=\"1\" /><circle cx=\"565.0\" cy=\"5.0\" fill=\"purple\" fill-opacity=\"1.0\" r=\"5\" stroke=\"#000000\" stroke-width=\"1\" /><circle cx=\"565.0\" cy=\"395.0\" fill=\"purple\" fill-opacity=\"1.0\" r=\"5\" stroke=\"#000000\" stroke-width=\"1\" /><circle cx=\"575.0\" cy=\"5.0\" fill=\"purple\" fill-opacity=\"1.0\" r=\"5\" stroke=\"#000000\" stroke-width=\"1\" /><circle cx=\"575.0\" cy=\"395.0\" fill=\"purple\" fill-opacity=\"1.0\" r=\"5\" stroke=\"#000000\" stroke-width=\"1\" /><circle cx=\"585.0\" cy=\"5.0\" fill=\"purple\" fill-opacity=\"1.0\" r=\"5\" stroke=\"#000000\" stroke-width=\"1\" /><circle cx=\"585.0\" cy=\"395.0\" fill=\"purple\" fill-opacity=\"1.0\" r=\"5\" stroke=\"#000000\" stroke-width=\"1\" /><circle cx=\"595.0\" cy=\"5.0\" fill=\"purple\" fill-opacity=\"1.0\" r=\"5\" stroke=\"#000000\" stroke-width=\"1\" /><circle cx=\"595.0\" cy=\"15.0\" fill=\"purple\" fill-opacity=\"1.0\" r=\"5\" stroke=\"#000000\" stroke-width=\"1\" /><circle cx=\"595.0\" cy=\"25.0\" fill=\"purple\" fill-opacity=\"1.0\" r=\"5\" stroke=\"#000000\" stroke-width=\"1\" /><circle cx=\"595.0\" cy=\"35.0\" fill=\"purple\" fill-opacity=\"1.0\" r=\"5\" stroke=\"#000000\" stroke-width=\"1\" /><circle cx=\"595.0\" cy=\"45.0\" fill=\"purple\" fill-opacity=\"1.0\" r=\"5\" stroke=\"#000000\" stroke-width=\"1\" /><circle cx=\"595.0\" cy=\"55.0\" fill=\"purple\" fill-opacity=\"1.0\" r=\"5\" stroke=\"#000000\" stroke-width=\"1\" /><circle cx=\"595.0\" cy=\"65.0\" fill=\"purple\" fill-opacity=\"1.0\" r=\"5\" stroke=\"#000000\" stroke-width=\"1\" /><circle cx=\"595.0\" cy=\"75.0\" fill=\"purple\" fill-opacity=\"1.0\" r=\"5\" stroke=\"#000000\" stroke-width=\"1\" /><circle cx=\"595.0\" cy=\"85.0\" fill=\"purple\" fill-opacity=\"1.0\" r=\"5\" stroke=\"#000000\" stroke-width=\"1\" /><circle cx=\"595.0\" cy=\"95.0\" fill=\"purple\" fill-opacity=\"1.0\" r=\"5\" stroke=\"#000000\" stroke-width=\"1\" /><circle cx=\"595.0\" cy=\"105.0\" fill=\"purple\" fill-opacity=\"1.0\" r=\"5\" stroke=\"#000000\" stroke-width=\"1\" /><circle cx=\"595.0\" cy=\"115.0\" fill=\"purple\" fill-opacity=\"1.0\" r=\"5\" stroke=\"#000000\" stroke-width=\"1\" /><circle cx=\"595.0\" cy=\"125.0\" fill=\"purple\" fill-opacity=\"1.0\" r=\"5\" stroke=\"#000000\" stroke-width=\"1\" /><circle cx=\"595.0\" cy=\"135.0\" fill=\"purple\" fill-opacity=\"1.0\" r=\"5\" stroke=\"#000000\" stroke-width=\"1\" /><circle cx=\"595.0\" cy=\"145.0\" fill=\"purple\" fill-opacity=\"1.0\" r=\"5\" stroke=\"#000000\" stroke-width=\"1\" /><circle cx=\"595.0\" cy=\"155.0\" fill=\"purple\" fill-opacity=\"1.0\" r=\"5\" stroke=\"#000000\" stroke-width=\"1\" /><circle cx=\"595.0\" cy=\"165.0\" fill=\"purple\" fill-opacity=\"1.0\" r=\"5\" stroke=\"#000000\" stroke-width=\"1\" /><circle cx=\"595.0\" cy=\"175.0\" fill=\"purple\" fill-opacity=\"1.0\" r=\"5\" stroke=\"#000000\" stroke-width=\"1\" /><circle cx=\"595.0\" cy=\"185.0\" fill=\"purple\" fill-opacity=\"1.0\" r=\"5\" stroke=\"#000000\" stroke-width=\"1\" /><circle cx=\"595.0\" cy=\"195.0\" fill=\"purple\" fill-opacity=\"1.0\" r=\"5\" stroke=\"#000000\" stroke-width=\"1\" /><circle cx=\"595.0\" cy=\"205.0\" fill=\"purple\" fill-opacity=\"1.0\" r=\"5\" stroke=\"#000000\" stroke-width=\"1\" /><circle cx=\"595.0\" cy=\"215.0\" fill=\"purple\" fill-opacity=\"1.0\" r=\"5\" stroke=\"#000000\" stroke-width=\"1\" /><circle cx=\"595.0\" cy=\"225.0\" fill=\"purple\" fill-opacity=\"1.0\" r=\"5\" stroke=\"#000000\" stroke-width=\"1\" /><circle cx=\"595.0\" cy=\"235.0\" fill=\"purple\" fill-opacity=\"1.0\" r=\"5\" stroke=\"#000000\" stroke-width=\"1\" /><circle cx=\"595.0\" cy=\"245.0\" fill=\"purple\" fill-opacity=\"1.0\" r=\"5\" stroke=\"#000000\" stroke-width=\"1\" /><circle cx=\"595.0\" cy=\"255.0\" fill=\"purple\" fill-opacity=\"1.0\" r=\"5\" stroke=\"#000000\" stroke-width=\"1\" /><circle cx=\"595.0\" cy=\"265.0\" fill=\"purple\" fill-opacity=\"1.0\" r=\"5\" stroke=\"#000000\" stroke-width=\"1\" /><circle cx=\"595.0\" cy=\"275.0\" fill=\"purple\" fill-opacity=\"1.0\" r=\"5\" stroke=\"#000000\" stroke-width=\"1\" /><circle cx=\"595.0\" cy=\"285.0\" fill=\"purple\" fill-opacity=\"1.0\" r=\"5\" stroke=\"#000000\" stroke-width=\"1\" /><circle cx=\"595.0\" cy=\"295.0\" fill=\"purple\" fill-opacity=\"1.0\" r=\"5\" stroke=\"#000000\" stroke-width=\"1\" /><circle cx=\"595.0\" cy=\"305.0\" fill=\"purple\" fill-opacity=\"1.0\" r=\"5\" stroke=\"#000000\" stroke-width=\"1\" /><circle cx=\"595.0\" cy=\"315.0\" fill=\"purple\" fill-opacity=\"1.0\" r=\"5\" stroke=\"#000000\" stroke-width=\"1\" /><circle cx=\"595.0\" cy=\"325.0\" fill=\"purple\" fill-opacity=\"1.0\" r=\"5\" stroke=\"#000000\" stroke-width=\"1\" /><circle cx=\"595.0\" cy=\"335.0\" fill=\"purple\" fill-opacity=\"1.0\" r=\"5\" stroke=\"#000000\" stroke-width=\"1\" /><circle cx=\"595.0\" cy=\"345.0\" fill=\"purple\" fill-opacity=\"1.0\" r=\"5\" stroke=\"#000000\" stroke-width=\"1\" /><circle cx=\"595.0\" cy=\"355.0\" fill=\"purple\" fill-opacity=\"1.0\" r=\"5\" stroke=\"#000000\" stroke-width=\"1\" /><circle cx=\"595.0\" cy=\"365.0\" fill=\"purple\" fill-opacity=\"1.0\" r=\"5\" stroke=\"#000000\" stroke-width=\"1\" /><circle cx=\"595.0\" cy=\"375.0\" fill=\"purple\" fill-opacity=\"1.0\" r=\"5\" stroke=\"#000000\" stroke-width=\"1\" /><circle cx=\"595.0\" cy=\"385.0\" fill=\"purple\" fill-opacity=\"1.0\" r=\"5\" stroke=\"#000000\" stroke-width=\"1\" /><circle cx=\"595.0\" cy=\"395.0\" fill=\"purple\" fill-opacity=\"1.0\" r=\"5\" stroke=\"#000000\" stroke-width=\"1\" /><circle cx=\"15.0\" cy=\"205.0\" fill=\"red\" fill-opacity=\"1.0\" r=\"10\" stroke=\"#000000\" stroke-width=\"1\" /><polygon fill=\"black\" fill-opacity=\"1.0\" points=\"15.0,205.0 15.0,215.0 14.12844257252342,214.96194698091745 13.2635182233307,214.84807753012208 12.411809548974796,214.6592582628907 11.579798566743317,214.39692620785908 10.77381738259301,214.0630778703665 10.000000000000007,213.6602540378444 9.264235636489545,213.19152044288992 8.572123903134614,212.66044443118977 7.928932188134532,212.07106781186548 7.339555568810226,211.4278760968654 6.808479557110088,210.73576436351047 6.33974596215562,210.0 5.936922129633507,209.226182617407 5.603073792140922,208.4202014332567 5.340741737109321,207.5881904510252 5.151922469877922,206.7364817766693 5.038053019082547,205.8715574274766 5.0,205.00000000000003 5.038053019082543,204.12844257252343 5.151922469877915,203.26351822333072 5.340741737109312,202.41180954897482 5.603073792140908,201.57979856674334 5.936922129633491,200.77381738259302 6.3397459621556,200.00000000000003 6.8084795571100685,199.26423563648956 7.339555568810202,198.57212390313464 7.928932188134504,197.92893218813455 8.572123903134585,197.33955556881023 9.264235636489513,196.8084795571101 9.999999999999973,196.33974596215563 10.773817382592977,195.9369221296335 11.579798566743282,195.60307379214092 12.411809548974759,195.34074173710934 13.263518223330662,195.15192246987792 14.128442572523381,195.03805301908255 14.999999999999963,195.0\" stroke=\"#000000\" stroke-opacity=\"0.0\" stroke-width=\"1\" /><polyline fill=\"black\" fill-opacity=\"0.0\" points=\"15.0,215.0 14.12844257252342,214.96194698091745 13.2635182233307,214.84807753012208 12.411809548974796,214.6592582628907 11.579798566743317,214.39692620785908 10.77381738259301,214.0630778703665 10.000000000000007,213.6602540378444 9.264235636489545,213.19152044288992 8.572123903134614,212.66044443118977 7.928932188134532,212.07106781186548 7.339555568810226,211.4278760968654 6.808479557110088,210.73576436351047 6.33974596215562,210.0 5.936922129633507,209.226182617407 5.603073792140922,208.4202014332567 5.340741737109321,207.5881904510252 5.151922469877922,206.7364817766693 5.038053019082547,205.8715574274766 5.0,205.00000000000003 5.038053019082543,204.12844257252343 5.151922469877915,203.26351822333072 5.340741737109312,202.41180954897482 5.603073792140908,201.57979856674334 5.936922129633491,200.77381738259302 6.3397459621556,200.00000000000003 6.8084795571100685,199.26423563648956 7.339555568810202,198.57212390313464 7.928932188134504,197.92893218813455 8.572123903134585,197.33955556881023 9.264235636489513,196.8084795571101 9.999999999999973,196.33974596215563 10.773817382592977,195.9369221296335 11.579798566743282,195.60307379214092 12.411809548974759,195.34074173710934 13.263518223330662,195.15192246987792 14.128442572523381,195.03805301908255 14.999999999999963,195.0\" stroke=\"#000000\" stroke-width=\"1\" /><text fill=\"#ffffff\" fill-opacity=\"1.0\" stroke=\"#ffffff\" stroke-opacity=\"1.0\" stroke-width=\"1\" x=\"15\" y=\"385\">10.2 Idle</text></svg>"
      ],
      "text/plain": [
       "<Canvas (600, 400)>"
      ]
     },
     "metadata": {},
     "output_type": "display_data"
    },
    {
     "name": "stdout",
     "output_type": "stream",
     "text": [
      "fitness: 74.5\n"
     ]
    }
   ],
   "source": [
    "watch_one(dna)"
   ]
  },
  {
   "cell_type": "code",
   "execution_count": 34,
   "metadata": {
    "collapsed": false
   },
   "outputs": [
    {
     "data": {
      "image/png": "[encoded data removed]",
      "image/svg+xml": [
       "<svg baseProfile=\"full\" height=\"400\" version=\"1.1\" width=\"600\" xmlns=\"http://www.w3.org/2000/svg\" xmlns:ev=\"http://www.w3.org/2001/xml-events\" xmlns:xlink=\"http://www.w3.org/1999/xlink\"><defs /><rect fill=\"green\" fill-opacity=\"1.0\" height=\"400\" stroke=\"#000000\" stroke-opacity=\"0.0\" stroke-width=\"1\" width=\"600\" x=\"0\" y=\"0\" /><circle cx=\"5.0\" cy=\"5.0\" fill=\"purple\" fill-opacity=\"1.0\" r=\"5\" stroke=\"#000000\" stroke-width=\"1\" /><circle cx=\"5.0\" cy=\"15.0\" fill=\"purple\" fill-opacity=\"1.0\" r=\"5\" stroke=\"#000000\" stroke-width=\"1\" /><circle cx=\"5.0\" cy=\"25.0\" fill=\"purple\" fill-opacity=\"1.0\" r=\"5\" stroke=\"#000000\" stroke-width=\"1\" /><circle cx=\"5.0\" cy=\"35.0\" fill=\"purple\" fill-opacity=\"1.0\" r=\"5\" stroke=\"#000000\" stroke-width=\"1\" /><circle cx=\"5.0\" cy=\"45.0\" fill=\"purple\" fill-opacity=\"1.0\" r=\"5\" stroke=\"#000000\" stroke-width=\"1\" /><circle cx=\"5.0\" cy=\"55.0\" fill=\"purple\" fill-opacity=\"1.0\" r=\"5\" stroke=\"#000000\" stroke-width=\"1\" /><circle cx=\"5.0\" cy=\"65.0\" fill=\"purple\" fill-opacity=\"1.0\" r=\"5\" stroke=\"#000000\" stroke-width=\"1\" /><circle cx=\"5.0\" cy=\"75.0\" fill=\"purple\" fill-opacity=\"1.0\" r=\"5\" stroke=\"#000000\" stroke-width=\"1\" /><circle cx=\"5.0\" cy=\"85.0\" fill=\"purple\" fill-opacity=\"1.0\" r=\"5\" stroke=\"#000000\" stroke-width=\"1\" /><circle cx=\"5.0\" cy=\"95.0\" fill=\"purple\" fill-opacity=\"1.0\" r=\"5\" stroke=\"#000000\" stroke-width=\"1\" /><circle cx=\"5.0\" cy=\"105.0\" fill=\"purple\" fill-opacity=\"1.0\" r=\"5\" stroke=\"#000000\" stroke-width=\"1\" /><circle cx=\"5.0\" cy=\"115.0\" fill=\"purple\" fill-opacity=\"1.0\" r=\"5\" stroke=\"#000000\" stroke-width=\"1\" /><circle cx=\"5.0\" cy=\"125.0\" fill=\"purple\" fill-opacity=\"1.0\" r=\"5\" stroke=\"#000000\" stroke-width=\"1\" /><circle cx=\"5.0\" cy=\"135.0\" fill=\"purple\" fill-opacity=\"1.0\" r=\"5\" stroke=\"#000000\" stroke-width=\"1\" /><circle cx=\"5.0\" cy=\"145.0\" fill=\"purple\" fill-opacity=\"1.0\" r=\"5\" stroke=\"#000000\" stroke-width=\"1\" /><circle cx=\"5.0\" cy=\"155.0\" fill=\"purple\" fill-opacity=\"1.0\" r=\"5\" stroke=\"#000000\" stroke-width=\"1\" /><circle cx=\"5.0\" cy=\"165.0\" fill=\"purple\" fill-opacity=\"1.0\" r=\"5\" stroke=\"#000000\" stroke-width=\"1\" /><circle cx=\"5.0\" cy=\"175.0\" fill=\"purple\" fill-opacity=\"1.0\" r=\"5\" stroke=\"#000000\" stroke-width=\"1\" /><circle cx=\"5.0\" cy=\"185.0\" fill=\"purple\" fill-opacity=\"1.0\" r=\"5\" stroke=\"#000000\" stroke-width=\"1\" /><circle cx=\"5.0\" cy=\"195.0\" fill=\"purple\" fill-opacity=\"1.0\" r=\"5\" stroke=\"#000000\" stroke-width=\"1\" /><circle cx=\"5.0\" cy=\"205.0\" fill=\"purple\" fill-opacity=\"1.0\" r=\"5\" stroke=\"#000000\" stroke-width=\"1\" /><circle cx=\"5.0\" cy=\"215.0\" fill=\"purple\" fill-opacity=\"1.0\" r=\"5\" stroke=\"#000000\" stroke-width=\"1\" /><circle cx=\"5.0\" cy=\"225.0\" fill=\"purple\" fill-opacity=\"1.0\" r=\"5\" stroke=\"#000000\" stroke-width=\"1\" /><circle cx=\"5.0\" cy=\"235.0\" fill=\"purple\" fill-opacity=\"1.0\" r=\"5\" stroke=\"#000000\" stroke-width=\"1\" /><circle cx=\"5.0\" cy=\"245.0\" fill=\"purple\" fill-opacity=\"1.0\" r=\"5\" stroke=\"#000000\" stroke-width=\"1\" /><circle cx=\"5.0\" cy=\"255.0\" fill=\"purple\" fill-opacity=\"1.0\" r=\"5\" stroke=\"#000000\" stroke-width=\"1\" /><circle cx=\"5.0\" cy=\"265.0\" fill=\"purple\" fill-opacity=\"1.0\" r=\"5\" stroke=\"#000000\" stroke-width=\"1\" /><circle cx=\"5.0\" cy=\"275.0\" fill=\"purple\" fill-opacity=\"1.0\" r=\"5\" stroke=\"#000000\" stroke-width=\"1\" /><circle cx=\"5.0\" cy=\"285.0\" fill=\"purple\" fill-opacity=\"1.0\" r=\"5\" stroke=\"#000000\" stroke-width=\"1\" /><circle cx=\"5.0\" cy=\"295.0\" fill=\"purple\" fill-opacity=\"1.0\" r=\"5\" stroke=\"#000000\" stroke-width=\"1\" /><circle cx=\"5.0\" cy=\"305.0\" fill=\"purple\" fill-opacity=\"1.0\" r=\"5\" stroke=\"#000000\" stroke-width=\"1\" /><circle cx=\"5.0\" cy=\"315.0\" fill=\"purple\" fill-opacity=\"1.0\" r=\"5\" stroke=\"#000000\" stroke-width=\"1\" /><circle cx=\"5.0\" cy=\"325.0\" fill=\"purple\" fill-opacity=\"1.0\" r=\"5\" stroke=\"#000000\" stroke-width=\"1\" /><circle cx=\"5.0\" cy=\"335.0\" fill=\"purple\" fill-opacity=\"1.0\" r=\"5\" stroke=\"#000000\" stroke-width=\"1\" /><circle cx=\"5.0\" cy=\"345.0\" fill=\"purple\" fill-opacity=\"1.0\" r=\"5\" stroke=\"#000000\" stroke-width=\"1\" /><circle cx=\"5.0\" cy=\"355.0\" fill=\"purple\" fill-opacity=\"1.0\" r=\"5\" stroke=\"#000000\" stroke-width=\"1\" /><circle cx=\"5.0\" cy=\"365.0\" fill=\"purple\" fill-opacity=\"1.0\" r=\"5\" stroke=\"#000000\" stroke-width=\"1\" /><circle cx=\"5.0\" cy=\"375.0\" fill=\"purple\" fill-opacity=\"1.0\" r=\"5\" stroke=\"#000000\" stroke-width=\"1\" /><circle cx=\"5.0\" cy=\"385.0\" fill=\"purple\" fill-opacity=\"1.0\" r=\"5\" stroke=\"#000000\" stroke-width=\"1\" /><circle cx=\"5.0\" cy=\"395.0\" fill=\"purple\" fill-opacity=\"1.0\" r=\"5\" stroke=\"#000000\" stroke-width=\"1\" /><circle cx=\"15.0\" cy=\"5.0\" fill=\"purple\" fill-opacity=\"1.0\" r=\"5\" stroke=\"#000000\" stroke-width=\"1\" /><circle cx=\"15.0\" cy=\"395.0\" fill=\"purple\" fill-opacity=\"1.0\" r=\"5\" stroke=\"#000000\" stroke-width=\"1\" /><circle cx=\"25.0\" cy=\"5.0\" fill=\"purple\" fill-opacity=\"1.0\" r=\"5\" stroke=\"#000000\" stroke-width=\"1\" /><circle cx=\"25.0\" cy=\"395.0\" fill=\"purple\" fill-opacity=\"1.0\" r=\"5\" stroke=\"#000000\" stroke-width=\"1\" /><circle cx=\"35.0\" cy=\"5.0\" fill=\"purple\" fill-opacity=\"1.0\" r=\"5\" stroke=\"#000000\" stroke-width=\"1\" /><circle cx=\"35.0\" cy=\"395.0\" fill=\"purple\" fill-opacity=\"1.0\" r=\"5\" stroke=\"#000000\" stroke-width=\"1\" /><circle cx=\"45.0\" cy=\"5.0\" fill=\"purple\" fill-opacity=\"1.0\" r=\"5\" stroke=\"#000000\" stroke-width=\"1\" /><circle cx=\"45.0\" cy=\"395.0\" fill=\"purple\" fill-opacity=\"1.0\" r=\"5\" stroke=\"#000000\" stroke-width=\"1\" /><circle cx=\"55.0\" cy=\"5.0\" fill=\"purple\" fill-opacity=\"1.0\" r=\"5\" stroke=\"#000000\" stroke-width=\"1\" /><circle cx=\"55.0\" cy=\"35.0\" fill=\"yellow\" fill-opacity=\"1.0\" r=\"5\" stroke=\"#000000\" stroke-width=\"1\" /><circle cx=\"55.0\" cy=\"395.0\" fill=\"purple\" fill-opacity=\"1.0\" r=\"5\" stroke=\"#000000\" stroke-width=\"1\" /><circle cx=\"65.0\" cy=\"5.0\" fill=\"purple\" fill-opacity=\"1.0\" r=\"5\" stroke=\"#000000\" stroke-width=\"1\" /><circle cx=\"65.0\" cy=\"25.0\" fill=\"yellow\" fill-opacity=\"1.0\" r=\"5\" stroke=\"#000000\" stroke-width=\"1\" /><circle cx=\"65.0\" cy=\"395.0\" fill=\"purple\" fill-opacity=\"1.0\" r=\"5\" stroke=\"#000000\" stroke-width=\"1\" /><circle cx=\"75.0\" cy=\"5.0\" fill=\"purple\" fill-opacity=\"1.0\" r=\"5\" stroke=\"#000000\" stroke-width=\"1\" /><circle cx=\"75.0\" cy=\"65.0\" fill=\"yellow\" fill-opacity=\"1.0\" r=\"5\" stroke=\"#000000\" stroke-width=\"1\" /><circle cx=\"75.0\" cy=\"105.0\" fill=\"yellow\" fill-opacity=\"1.0\" r=\"5\" stroke=\"#000000\" stroke-width=\"1\" /><circle cx=\"75.0\" cy=\"395.0\" fill=\"purple\" fill-opacity=\"1.0\" r=\"5\" stroke=\"#000000\" stroke-width=\"1\" /><circle cx=\"85.0\" cy=\"5.0\" fill=\"purple\" fill-opacity=\"1.0\" r=\"5\" stroke=\"#000000\" stroke-width=\"1\" /><circle cx=\"85.0\" cy=\"85.0\" fill=\"yellow\" fill-opacity=\"1.0\" r=\"5\" stroke=\"#000000\" stroke-width=\"1\" /><circle cx=\"85.0\" cy=\"395.0\" fill=\"purple\" fill-opacity=\"1.0\" r=\"5\" stroke=\"#000000\" stroke-width=\"1\" /><circle cx=\"95.0\" cy=\"5.0\" fill=\"purple\" fill-opacity=\"1.0\" r=\"5\" stroke=\"#000000\" stroke-width=\"1\" /><circle cx=\"95.0\" cy=\"85.0\" fill=\"yellow\" fill-opacity=\"1.0\" r=\"5\" stroke=\"#000000\" stroke-width=\"1\" /><circle cx=\"95.0\" cy=\"395.0\" fill=\"purple\" fill-opacity=\"1.0\" r=\"5\" stroke=\"#000000\" stroke-width=\"1\" /><circle cx=\"105.0\" cy=\"5.0\" fill=\"purple\" fill-opacity=\"1.0\" r=\"5\" stroke=\"#000000\" stroke-width=\"1\" /><circle cx=\"105.0\" cy=\"65.0\" fill=\"yellow\" fill-opacity=\"1.0\" r=\"5\" stroke=\"#000000\" stroke-width=\"1\" /><circle cx=\"105.0\" cy=\"105.0\" fill=\"yellow\" fill-opacity=\"1.0\" r=\"5\" stroke=\"#000000\" stroke-width=\"1\" /><circle cx=\"105.0\" cy=\"395.0\" fill=\"purple\" fill-opacity=\"1.0\" r=\"5\" stroke=\"#000000\" stroke-width=\"1\" /><circle cx=\"115.0\" cy=\"5.0\" fill=\"purple\" fill-opacity=\"1.0\" r=\"5\" stroke=\"#000000\" stroke-width=\"1\" /><circle cx=\"115.0\" cy=\"45.0\" fill=\"yellow\" fill-opacity=\"1.0\" r=\"5\" stroke=\"#000000\" stroke-width=\"1\" /><circle cx=\"115.0\" cy=\"65.0\" fill=\"yellow\" fill-opacity=\"1.0\" r=\"5\" stroke=\"#000000\" stroke-width=\"1\" /><circle cx=\"115.0\" cy=\"85.0\" fill=\"yellow\" fill-opacity=\"1.0\" r=\"5\" stroke=\"#000000\" stroke-width=\"1\" /><circle cx=\"115.0\" cy=\"115.0\" fill=\"yellow\" fill-opacity=\"1.0\" r=\"5\" stroke=\"#000000\" stroke-width=\"1\" /><circle cx=\"115.0\" cy=\"395.0\" fill=\"purple\" fill-opacity=\"1.0\" r=\"5\" stroke=\"#000000\" stroke-width=\"1\" /><circle cx=\"125.0\" cy=\"5.0\" fill=\"purple\" fill-opacity=\"1.0\" r=\"5\" stroke=\"#000000\" stroke-width=\"1\" /><circle cx=\"125.0\" cy=\"395.0\" fill=\"purple\" fill-opacity=\"1.0\" r=\"5\" stroke=\"#000000\" stroke-width=\"1\" /><circle cx=\"135.0\" cy=\"5.0\" fill=\"purple\" fill-opacity=\"1.0\" r=\"5\" stroke=\"#000000\" stroke-width=\"1\" /><circle cx=\"135.0\" cy=\"35.0\" fill=\"yellow\" fill-opacity=\"1.0\" r=\"5\" stroke=\"#000000\" stroke-width=\"1\" /><circle cx=\"135.0\" cy=\"65.0\" fill=\"yellow\" fill-opacity=\"1.0\" r=\"5\" stroke=\"#000000\" stroke-width=\"1\" /><circle cx=\"135.0\" cy=\"85.0\" fill=\"yellow\" fill-opacity=\"1.0\" r=\"5\" stroke=\"#000000\" stroke-width=\"1\" /><circle cx=\"135.0\" cy=\"395.0\" fill=\"purple\" fill-opacity=\"1.0\" r=\"5\" stroke=\"#000000\" stroke-width=\"1\" /><circle cx=\"145.0\" cy=\"5.0\" fill=\"purple\" fill-opacity=\"1.0\" r=\"5\" stroke=\"#000000\" stroke-width=\"1\" /><circle cx=\"145.0\" cy=\"65.0\" fill=\"yellow\" fill-opacity=\"1.0\" r=\"5\" stroke=\"#000000\" stroke-width=\"1\" /><circle cx=\"145.0\" cy=\"395.0\" fill=\"purple\" fill-opacity=\"1.0\" r=\"5\" stroke=\"#000000\" stroke-width=\"1\" /><circle cx=\"155.0\" cy=\"5.0\" fill=\"purple\" fill-opacity=\"1.0\" r=\"5\" stroke=\"#000000\" stroke-width=\"1\" /><circle cx=\"155.0\" cy=\"395.0\" fill=\"purple\" fill-opacity=\"1.0\" r=\"5\" stroke=\"#000000\" stroke-width=\"1\" /><circle cx=\"165.0\" cy=\"5.0\" fill=\"purple\" fill-opacity=\"1.0\" r=\"5\" stroke=\"#000000\" stroke-width=\"1\" /><circle cx=\"165.0\" cy=\"395.0\" fill=\"purple\" fill-opacity=\"1.0\" r=\"5\" stroke=\"#000000\" stroke-width=\"1\" /><circle cx=\"175.0\" cy=\"5.0\" fill=\"purple\" fill-opacity=\"1.0\" r=\"5\" stroke=\"#000000\" stroke-width=\"1\" /><circle cx=\"175.0\" cy=\"35.0\" fill=\"yellow\" fill-opacity=\"1.0\" r=\"5\" stroke=\"#000000\" stroke-width=\"1\" /><circle cx=\"175.0\" cy=\"55.0\" fill=\"yellow\" fill-opacity=\"1.0\" r=\"5\" stroke=\"#000000\" stroke-width=\"1\" /><circle cx=\"175.0\" cy=\"395.0\" fill=\"purple\" fill-opacity=\"1.0\" r=\"5\" stroke=\"#000000\" stroke-width=\"1\" /><circle cx=\"185.0\" cy=\"5.0\" fill=\"purple\" fill-opacity=\"1.0\" r=\"5\" stroke=\"#000000\" stroke-width=\"1\" /><circle cx=\"185.0\" cy=\"395.0\" fill=\"purple\" fill-opacity=\"1.0\" r=\"5\" stroke=\"#000000\" stroke-width=\"1\" /><circle cx=\"195.0\" cy=\"5.0\" fill=\"purple\" fill-opacity=\"1.0\" r=\"5\" stroke=\"#000000\" stroke-width=\"1\" /><circle cx=\"195.0\" cy=\"65.0\" fill=\"yellow\" fill-opacity=\"1.0\" r=\"5\" stroke=\"#000000\" stroke-width=\"1\" /><circle cx=\"195.0\" cy=\"395.0\" fill=\"purple\" fill-opacity=\"1.0\" r=\"5\" stroke=\"#000000\" stroke-width=\"1\" /><circle cx=\"205.0\" cy=\"5.0\" fill=\"purple\" fill-opacity=\"1.0\" r=\"5\" stroke=\"#000000\" stroke-width=\"1\" /><circle cx=\"205.0\" cy=\"85.0\" fill=\"yellow\" fill-opacity=\"1.0\" r=\"5\" stroke=\"#000000\" stroke-width=\"1\" /><circle cx=\"205.0\" cy=\"395.0\" fill=\"purple\" fill-opacity=\"1.0\" r=\"5\" stroke=\"#000000\" stroke-width=\"1\" /><circle cx=\"215.0\" cy=\"5.0\" fill=\"purple\" fill-opacity=\"1.0\" r=\"5\" stroke=\"#000000\" stroke-width=\"1\" /><circle cx=\"215.0\" cy=\"395.0\" fill=\"purple\" fill-opacity=\"1.0\" r=\"5\" stroke=\"#000000\" stroke-width=\"1\" /><circle cx=\"225.0\" cy=\"5.0\" fill=\"purple\" fill-opacity=\"1.0\" r=\"5\" stroke=\"#000000\" stroke-width=\"1\" /><circle cx=\"225.0\" cy=\"395.0\" fill=\"purple\" fill-opacity=\"1.0\" r=\"5\" stroke=\"#000000\" stroke-width=\"1\" /><circle cx=\"235.0\" cy=\"5.0\" fill=\"purple\" fill-opacity=\"1.0\" r=\"5\" stroke=\"#000000\" stroke-width=\"1\" /><circle cx=\"235.0\" cy=\"395.0\" fill=\"purple\" fill-opacity=\"1.0\" r=\"5\" stroke=\"#000000\" stroke-width=\"1\" /><circle cx=\"245.0\" cy=\"5.0\" fill=\"purple\" fill-opacity=\"1.0\" r=\"5\" stroke=\"#000000\" stroke-width=\"1\" /><circle cx=\"245.0\" cy=\"235.0\" fill=\"yellow\" fill-opacity=\"1.0\" r=\"5\" stroke=\"#000000\" stroke-width=\"1\" /><circle cx=\"245.0\" cy=\"395.0\" fill=\"purple\" fill-opacity=\"1.0\" r=\"5\" stroke=\"#000000\" stroke-width=\"1\" /><circle cx=\"255.0\" cy=\"5.0\" fill=\"purple\" fill-opacity=\"1.0\" r=\"5\" stroke=\"#000000\" stroke-width=\"1\" /><circle cx=\"255.0\" cy=\"395.0\" fill=\"purple\" fill-opacity=\"1.0\" r=\"5\" stroke=\"#000000\" stroke-width=\"1\" /><circle cx=\"265.0\" cy=\"5.0\" fill=\"purple\" fill-opacity=\"1.0\" r=\"5\" stroke=\"#000000\" stroke-width=\"1\" /><circle cx=\"265.0\" cy=\"195.0\" fill=\"yellow\" fill-opacity=\"1.0\" r=\"5\" stroke=\"#000000\" stroke-width=\"1\" /><circle cx=\"265.0\" cy=\"395.0\" fill=\"purple\" fill-opacity=\"1.0\" r=\"5\" stroke=\"#000000\" stroke-width=\"1\" /><circle cx=\"275.0\" cy=\"5.0\" fill=\"purple\" fill-opacity=\"1.0\" r=\"5\" stroke=\"#000000\" stroke-width=\"1\" /><circle cx=\"275.0\" cy=\"195.0\" fill=\"yellow\" fill-opacity=\"1.0\" r=\"5\" stroke=\"#000000\" stroke-width=\"1\" /><circle cx=\"275.0\" cy=\"225.0\" fill=\"yellow\" fill-opacity=\"1.0\" r=\"5\" stroke=\"#000000\" stroke-width=\"1\" /><circle cx=\"275.0\" cy=\"395.0\" fill=\"purple\" fill-opacity=\"1.0\" r=\"5\" stroke=\"#000000\" stroke-width=\"1\" /><circle cx=\"285.0\" cy=\"5.0\" fill=\"purple\" fill-opacity=\"1.0\" r=\"5\" stroke=\"#000000\" stroke-width=\"1\" /><circle cx=\"285.0\" cy=\"165.0\" fill=\"yellow\" fill-opacity=\"1.0\" r=\"5\" stroke=\"#000000\" stroke-width=\"1\" /><circle cx=\"285.0\" cy=\"395.0\" fill=\"purple\" fill-opacity=\"1.0\" r=\"5\" stroke=\"#000000\" stroke-width=\"1\" /><circle cx=\"295.0\" cy=\"5.0\" fill=\"purple\" fill-opacity=\"1.0\" r=\"5\" stroke=\"#000000\" stroke-width=\"1\" /><circle cx=\"295.0\" cy=\"215.0\" fill=\"yellow\" fill-opacity=\"1.0\" r=\"5\" stroke=\"#000000\" stroke-width=\"1\" /><circle cx=\"295.0\" cy=\"235.0\" fill=\"yellow\" fill-opacity=\"1.0\" r=\"5\" stroke=\"#000000\" stroke-width=\"1\" /><circle cx=\"295.0\" cy=\"245.0\" fill=\"yellow\" fill-opacity=\"1.0\" r=\"5\" stroke=\"#000000\" stroke-width=\"1\" /><circle cx=\"295.0\" cy=\"395.0\" fill=\"purple\" fill-opacity=\"1.0\" r=\"5\" stroke=\"#000000\" stroke-width=\"1\" /><circle cx=\"305.0\" cy=\"5.0\" fill=\"purple\" fill-opacity=\"1.0\" r=\"5\" stroke=\"#000000\" stroke-width=\"1\" /><circle cx=\"305.0\" cy=\"215.0\" fill=\"yellow\" fill-opacity=\"1.0\" r=\"5\" stroke=\"#000000\" stroke-width=\"1\" /><circle cx=\"305.0\" cy=\"225.0\" fill=\"yellow\" fill-opacity=\"1.0\" r=\"5\" stroke=\"#000000\" stroke-width=\"1\" /><circle cx=\"305.0\" cy=\"395.0\" fill=\"purple\" fill-opacity=\"1.0\" r=\"5\" stroke=\"#000000\" stroke-width=\"1\" /><circle cx=\"315.0\" cy=\"5.0\" fill=\"purple\" fill-opacity=\"1.0\" r=\"5\" stroke=\"#000000\" stroke-width=\"1\" /><circle cx=\"315.0\" cy=\"245.0\" fill=\"yellow\" fill-opacity=\"1.0\" r=\"5\" stroke=\"#000000\" stroke-width=\"1\" /><circle cx=\"315.0\" cy=\"275.0\" fill=\"yellow\" fill-opacity=\"1.0\" r=\"5\" stroke=\"#000000\" stroke-width=\"1\" /><circle cx=\"315.0\" cy=\"395.0\" fill=\"purple\" fill-opacity=\"1.0\" r=\"5\" stroke=\"#000000\" stroke-width=\"1\" /><circle cx=\"325.0\" cy=\"5.0\" fill=\"purple\" fill-opacity=\"1.0\" r=\"5\" stroke=\"#000000\" stroke-width=\"1\" /><circle cx=\"325.0\" cy=\"175.0\" fill=\"yellow\" fill-opacity=\"1.0\" r=\"5\" stroke=\"#000000\" stroke-width=\"1\" /><circle cx=\"325.0\" cy=\"215.0\" fill=\"yellow\" fill-opacity=\"1.0\" r=\"5\" stroke=\"#000000\" stroke-width=\"1\" /><circle cx=\"325.0\" cy=\"395.0\" fill=\"purple\" fill-opacity=\"1.0\" r=\"5\" stroke=\"#000000\" stroke-width=\"1\" /><circle cx=\"335.0\" cy=\"5.0\" fill=\"purple\" fill-opacity=\"1.0\" r=\"5\" stroke=\"#000000\" stroke-width=\"1\" /><circle cx=\"335.0\" cy=\"225.0\" fill=\"yellow\" fill-opacity=\"1.0\" r=\"5\" stroke=\"#000000\" stroke-width=\"1\" /><circle cx=\"335.0\" cy=\"235.0\" fill=\"yellow\" fill-opacity=\"1.0\" r=\"5\" stroke=\"#000000\" stroke-width=\"1\" /><circle cx=\"335.0\" cy=\"395.0\" fill=\"purple\" fill-opacity=\"1.0\" r=\"5\" stroke=\"#000000\" stroke-width=\"1\" /><circle cx=\"345.0\" cy=\"5.0\" fill=\"purple\" fill-opacity=\"1.0\" r=\"5\" stroke=\"#000000\" stroke-width=\"1\" /><circle cx=\"345.0\" cy=\"395.0\" fill=\"purple\" fill-opacity=\"1.0\" r=\"5\" stroke=\"#000000\" stroke-width=\"1\" /><circle cx=\"355.0\" cy=\"5.0\" fill=\"purple\" fill-opacity=\"1.0\" r=\"5\" stroke=\"#000000\" stroke-width=\"1\" /><circle cx=\"355.0\" cy=\"175.0\" fill=\"yellow\" fill-opacity=\"1.0\" r=\"5\" stroke=\"#000000\" stroke-width=\"1\" /><circle cx=\"355.0\" cy=\"395.0\" fill=\"purple\" fill-opacity=\"1.0\" r=\"5\" stroke=\"#000000\" stroke-width=\"1\" /><circle cx=\"365.0\" cy=\"5.0\" fill=\"purple\" fill-opacity=\"1.0\" r=\"5\" stroke=\"#000000\" stroke-width=\"1\" /><circle cx=\"365.0\" cy=\"395.0\" fill=\"purple\" fill-opacity=\"1.0\" r=\"5\" stroke=\"#000000\" stroke-width=\"1\" /><circle cx=\"375.0\" cy=\"5.0\" fill=\"purple\" fill-opacity=\"1.0\" r=\"5\" stroke=\"#000000\" stroke-width=\"1\" /><circle cx=\"375.0\" cy=\"275.0\" fill=\"yellow\" fill-opacity=\"1.0\" r=\"5\" stroke=\"#000000\" stroke-width=\"1\" /><circle cx=\"375.0\" cy=\"395.0\" fill=\"purple\" fill-opacity=\"1.0\" r=\"5\" stroke=\"#000000\" stroke-width=\"1\" /><circle cx=\"385.0\" cy=\"5.0\" fill=\"purple\" fill-opacity=\"1.0\" r=\"5\" stroke=\"#000000\" stroke-width=\"1\" /><circle cx=\"385.0\" cy=\"395.0\" fill=\"purple\" fill-opacity=\"1.0\" r=\"5\" stroke=\"#000000\" stroke-width=\"1\" /><circle cx=\"395.0\" cy=\"5.0\" fill=\"purple\" fill-opacity=\"1.0\" r=\"5\" stroke=\"#000000\" stroke-width=\"1\" /><circle cx=\"395.0\" cy=\"395.0\" fill=\"purple\" fill-opacity=\"1.0\" r=\"5\" stroke=\"#000000\" stroke-width=\"1\" /><circle cx=\"405.0\" cy=\"5.0\" fill=\"purple\" fill-opacity=\"1.0\" r=\"5\" stroke=\"#000000\" stroke-width=\"1\" /><circle cx=\"405.0\" cy=\"395.0\" fill=\"purple\" fill-opacity=\"1.0\" r=\"5\" stroke=\"#000000\" stroke-width=\"1\" /><circle cx=\"415.0\" cy=\"5.0\" fill=\"purple\" fill-opacity=\"1.0\" r=\"5\" stroke=\"#000000\" stroke-width=\"1\" /><circle cx=\"415.0\" cy=\"395.0\" fill=\"purple\" fill-opacity=\"1.0\" r=\"5\" stroke=\"#000000\" stroke-width=\"1\" /><circle cx=\"425.0\" cy=\"5.0\" fill=\"purple\" fill-opacity=\"1.0\" r=\"5\" stroke=\"#000000\" stroke-width=\"1\" /><circle cx=\"425.0\" cy=\"395.0\" fill=\"purple\" fill-opacity=\"1.0\" r=\"5\" stroke=\"#000000\" stroke-width=\"1\" /><circle cx=\"435.0\" cy=\"5.0\" fill=\"purple\" fill-opacity=\"1.0\" r=\"5\" stroke=\"#000000\" stroke-width=\"1\" /><circle cx=\"435.0\" cy=\"395.0\" fill=\"purple\" fill-opacity=\"1.0\" r=\"5\" stroke=\"#000000\" stroke-width=\"1\" /><circle cx=\"445.0\" cy=\"5.0\" fill=\"purple\" fill-opacity=\"1.0\" r=\"5\" stroke=\"#000000\" stroke-width=\"1\" /><circle cx=\"445.0\" cy=\"395.0\" fill=\"purple\" fill-opacity=\"1.0\" r=\"5\" stroke=\"#000000\" stroke-width=\"1\" /><circle cx=\"455.0\" cy=\"5.0\" fill=\"purple\" fill-opacity=\"1.0\" r=\"5\" stroke=\"#000000\" stroke-width=\"1\" /><circle cx=\"455.0\" cy=\"395.0\" fill=\"purple\" fill-opacity=\"1.0\" r=\"5\" stroke=\"#000000\" stroke-width=\"1\" /><circle cx=\"465.0\" cy=\"5.0\" fill=\"purple\" fill-opacity=\"1.0\" r=\"5\" stroke=\"#000000\" stroke-width=\"1\" /><circle cx=\"465.0\" cy=\"395.0\" fill=\"purple\" fill-opacity=\"1.0\" r=\"5\" stroke=\"#000000\" stroke-width=\"1\" /><circle cx=\"475.0\" cy=\"5.0\" fill=\"purple\" fill-opacity=\"1.0\" r=\"5\" stroke=\"#000000\" stroke-width=\"1\" /><circle cx=\"475.0\" cy=\"395.0\" fill=\"purple\" fill-opacity=\"1.0\" r=\"5\" stroke=\"#000000\" stroke-width=\"1\" /><circle cx=\"485.0\" cy=\"5.0\" fill=\"purple\" fill-opacity=\"1.0\" r=\"5\" stroke=\"#000000\" stroke-width=\"1\" /><circle cx=\"485.0\" cy=\"395.0\" fill=\"purple\" fill-opacity=\"1.0\" r=\"5\" stroke=\"#000000\" stroke-width=\"1\" /><circle cx=\"495.0\" cy=\"5.0\" fill=\"purple\" fill-opacity=\"1.0\" r=\"5\" stroke=\"#000000\" stroke-width=\"1\" /><circle cx=\"495.0\" cy=\"395.0\" fill=\"purple\" fill-opacity=\"1.0\" r=\"5\" stroke=\"#000000\" stroke-width=\"1\" /><circle cx=\"505.0\" cy=\"5.0\" fill=\"purple\" fill-opacity=\"1.0\" r=\"5\" stroke=\"#000000\" stroke-width=\"1\" /><circle cx=\"505.0\" cy=\"395.0\" fill=\"purple\" fill-opacity=\"1.0\" r=\"5\" stroke=\"#000000\" stroke-width=\"1\" /><circle cx=\"515.0\" cy=\"5.0\" fill=\"purple\" fill-opacity=\"1.0\" r=\"5\" stroke=\"#000000\" stroke-width=\"1\" /><circle cx=\"515.0\" cy=\"395.0\" fill=\"purple\" fill-opacity=\"1.0\" r=\"5\" stroke=\"#000000\" stroke-width=\"1\" /><circle cx=\"525.0\" cy=\"5.0\" fill=\"purple\" fill-opacity=\"1.0\" r=\"5\" stroke=\"#000000\" stroke-width=\"1\" /><circle cx=\"525.0\" cy=\"395.0\" fill=\"purple\" fill-opacity=\"1.0\" r=\"5\" stroke=\"#000000\" stroke-width=\"1\" /><circle cx=\"535.0\" cy=\"5.0\" fill=\"purple\" fill-opacity=\"1.0\" r=\"5\" stroke=\"#000000\" stroke-width=\"1\" /><circle cx=\"535.0\" cy=\"395.0\" fill=\"purple\" fill-opacity=\"1.0\" r=\"5\" stroke=\"#000000\" stroke-width=\"1\" /><circle cx=\"545.0\" cy=\"5.0\" fill=\"purple\" fill-opacity=\"1.0\" r=\"5\" stroke=\"#000000\" stroke-width=\"1\" /><circle cx=\"545.0\" cy=\"395.0\" fill=\"purple\" fill-opacity=\"1.0\" r=\"5\" stroke=\"#000000\" stroke-width=\"1\" /><circle cx=\"555.0\" cy=\"5.0\" fill=\"purple\" fill-opacity=\"1.0\" r=\"5\" stroke=\"#000000\" stroke-width=\"1\" /><circle cx=\"555.0\" cy=\"395.0\" fill=\"purple\" fill-opacity=\"1.0\" r=\"5\" stroke=\"#000000\" stroke-width=\"1\" /><circle cx=\"565.0\" cy=\"5.0\" fill=\"purple\" fill-opacity=\"1.0\" r=\"5\" stroke=\"#000000\" stroke-width=\"1\" /><circle cx=\"565.0\" cy=\"395.0\" fill=\"purple\" fill-opacity=\"1.0\" r=\"5\" stroke=\"#000000\" stroke-width=\"1\" /><circle cx=\"575.0\" cy=\"5.0\" fill=\"purple\" fill-opacity=\"1.0\" r=\"5\" stroke=\"#000000\" stroke-width=\"1\" /><circle cx=\"575.0\" cy=\"395.0\" fill=\"purple\" fill-opacity=\"1.0\" r=\"5\" stroke=\"#000000\" stroke-width=\"1\" /><circle cx=\"585.0\" cy=\"5.0\" fill=\"purple\" fill-opacity=\"1.0\" r=\"5\" stroke=\"#000000\" stroke-width=\"1\" /><circle cx=\"585.0\" cy=\"395.0\" fill=\"purple\" fill-opacity=\"1.0\" r=\"5\" stroke=\"#000000\" stroke-width=\"1\" /><circle cx=\"595.0\" cy=\"5.0\" fill=\"purple\" fill-opacity=\"1.0\" r=\"5\" stroke=\"#000000\" stroke-width=\"1\" /><circle cx=\"595.0\" cy=\"15.0\" fill=\"purple\" fill-opacity=\"1.0\" r=\"5\" stroke=\"#000000\" stroke-width=\"1\" /><circle cx=\"595.0\" cy=\"25.0\" fill=\"purple\" fill-opacity=\"1.0\" r=\"5\" stroke=\"#000000\" stroke-width=\"1\" /><circle cx=\"595.0\" cy=\"35.0\" fill=\"purple\" fill-opacity=\"1.0\" r=\"5\" stroke=\"#000000\" stroke-width=\"1\" /><circle cx=\"595.0\" cy=\"45.0\" fill=\"purple\" fill-opacity=\"1.0\" r=\"5\" stroke=\"#000000\" stroke-width=\"1\" /><circle cx=\"595.0\" cy=\"55.0\" fill=\"purple\" fill-opacity=\"1.0\" r=\"5\" stroke=\"#000000\" stroke-width=\"1\" /><circle cx=\"595.0\" cy=\"65.0\" fill=\"purple\" fill-opacity=\"1.0\" r=\"5\" stroke=\"#000000\" stroke-width=\"1\" /><circle cx=\"595.0\" cy=\"75.0\" fill=\"purple\" fill-opacity=\"1.0\" r=\"5\" stroke=\"#000000\" stroke-width=\"1\" /><circle cx=\"595.0\" cy=\"85.0\" fill=\"purple\" fill-opacity=\"1.0\" r=\"5\" stroke=\"#000000\" stroke-width=\"1\" /><circle cx=\"595.0\" cy=\"95.0\" fill=\"purple\" fill-opacity=\"1.0\" r=\"5\" stroke=\"#000000\" stroke-width=\"1\" /><circle cx=\"595.0\" cy=\"105.0\" fill=\"purple\" fill-opacity=\"1.0\" r=\"5\" stroke=\"#000000\" stroke-width=\"1\" /><circle cx=\"595.0\" cy=\"115.0\" fill=\"purple\" fill-opacity=\"1.0\" r=\"5\" stroke=\"#000000\" stroke-width=\"1\" /><circle cx=\"595.0\" cy=\"125.0\" fill=\"purple\" fill-opacity=\"1.0\" r=\"5\" stroke=\"#000000\" stroke-width=\"1\" /><circle cx=\"595.0\" cy=\"135.0\" fill=\"purple\" fill-opacity=\"1.0\" r=\"5\" stroke=\"#000000\" stroke-width=\"1\" /><circle cx=\"595.0\" cy=\"145.0\" fill=\"purple\" fill-opacity=\"1.0\" r=\"5\" stroke=\"#000000\" stroke-width=\"1\" /><circle cx=\"595.0\" cy=\"155.0\" fill=\"purple\" fill-opacity=\"1.0\" r=\"5\" stroke=\"#000000\" stroke-width=\"1\" /><circle cx=\"595.0\" cy=\"165.0\" fill=\"purple\" fill-opacity=\"1.0\" r=\"5\" stroke=\"#000000\" stroke-width=\"1\" /><circle cx=\"595.0\" cy=\"175.0\" fill=\"purple\" fill-opacity=\"1.0\" r=\"5\" stroke=\"#000000\" stroke-width=\"1\" /><circle cx=\"595.0\" cy=\"185.0\" fill=\"purple\" fill-opacity=\"1.0\" r=\"5\" stroke=\"#000000\" stroke-width=\"1\" /><circle cx=\"595.0\" cy=\"195.0\" fill=\"purple\" fill-opacity=\"1.0\" r=\"5\" stroke=\"#000000\" stroke-width=\"1\" /><circle cx=\"595.0\" cy=\"205.0\" fill=\"purple\" fill-opacity=\"1.0\" r=\"5\" stroke=\"#000000\" stroke-width=\"1\" /><circle cx=\"595.0\" cy=\"215.0\" fill=\"purple\" fill-opacity=\"1.0\" r=\"5\" stroke=\"#000000\" stroke-width=\"1\" /><circle cx=\"595.0\" cy=\"225.0\" fill=\"purple\" fill-opacity=\"1.0\" r=\"5\" stroke=\"#000000\" stroke-width=\"1\" /><circle cx=\"595.0\" cy=\"235.0\" fill=\"purple\" fill-opacity=\"1.0\" r=\"5\" stroke=\"#000000\" stroke-width=\"1\" /><circle cx=\"595.0\" cy=\"245.0\" fill=\"purple\" fill-opacity=\"1.0\" r=\"5\" stroke=\"#000000\" stroke-width=\"1\" /><circle cx=\"595.0\" cy=\"255.0\" fill=\"purple\" fill-opacity=\"1.0\" r=\"5\" stroke=\"#000000\" stroke-width=\"1\" /><circle cx=\"595.0\" cy=\"265.0\" fill=\"purple\" fill-opacity=\"1.0\" r=\"5\" stroke=\"#000000\" stroke-width=\"1\" /><circle cx=\"595.0\" cy=\"275.0\" fill=\"purple\" fill-opacity=\"1.0\" r=\"5\" stroke=\"#000000\" stroke-width=\"1\" /><circle cx=\"595.0\" cy=\"285.0\" fill=\"purple\" fill-opacity=\"1.0\" r=\"5\" stroke=\"#000000\" stroke-width=\"1\" /><circle cx=\"595.0\" cy=\"295.0\" fill=\"purple\" fill-opacity=\"1.0\" r=\"5\" stroke=\"#000000\" stroke-width=\"1\" /><circle cx=\"595.0\" cy=\"305.0\" fill=\"purple\" fill-opacity=\"1.0\" r=\"5\" stroke=\"#000000\" stroke-width=\"1\" /><circle cx=\"595.0\" cy=\"315.0\" fill=\"purple\" fill-opacity=\"1.0\" r=\"5\" stroke=\"#000000\" stroke-width=\"1\" /><circle cx=\"595.0\" cy=\"325.0\" fill=\"purple\" fill-opacity=\"1.0\" r=\"5\" stroke=\"#000000\" stroke-width=\"1\" /><circle cx=\"595.0\" cy=\"335.0\" fill=\"purple\" fill-opacity=\"1.0\" r=\"5\" stroke=\"#000000\" stroke-width=\"1\" /><circle cx=\"595.0\" cy=\"345.0\" fill=\"purple\" fill-opacity=\"1.0\" r=\"5\" stroke=\"#000000\" stroke-width=\"1\" /><circle cx=\"595.0\" cy=\"355.0\" fill=\"purple\" fill-opacity=\"1.0\" r=\"5\" stroke=\"#000000\" stroke-width=\"1\" /><circle cx=\"595.0\" cy=\"365.0\" fill=\"purple\" fill-opacity=\"1.0\" r=\"5\" stroke=\"#000000\" stroke-width=\"1\" /><circle cx=\"595.0\" cy=\"375.0\" fill=\"purple\" fill-opacity=\"1.0\" r=\"5\" stroke=\"#000000\" stroke-width=\"1\" /><circle cx=\"595.0\" cy=\"385.0\" fill=\"purple\" fill-opacity=\"1.0\" r=\"5\" stroke=\"#000000\" stroke-width=\"1\" /><circle cx=\"595.0\" cy=\"395.0\" fill=\"purple\" fill-opacity=\"1.0\" r=\"5\" stroke=\"#000000\" stroke-width=\"1\" /><circle cx=\"315.0\" cy=\"195.0\" fill=\"red\" fill-opacity=\"1.0\" r=\"10\" stroke=\"#000000\" stroke-width=\"1\" /><polygon fill=\"black\" fill-opacity=\"1.0\" points=\"315.0,195.0 315.0,205.0 314.1284425725234,204.96194698091745 313.2635182233307,204.84807753012208 312.4118095489748,204.6592582628907 311.5797985667433,204.39692620785908 310.773817382593,204.0630778703665 310.0,203.6602540378444 309.26423563648956,203.19152044288992 308.57212390313464,202.66044443118977 307.9289321881345,202.07106781186548 307.3395555688102,201.4278760968654 306.8084795571101,200.73576436351047 306.33974596215563,200.0 305.9369221296335,199.226182617407 305.60307379214095,198.4202014332567 305.34074173710934,197.5881904510252 305.15192246987795,196.7364817766693 305.03805301908255,195.8715574274766 305.0,195.00000000000003 305.03805301908255,194.12844257252343 305.1519224698779,193.26351822333072 305.3407417371093,192.41180954897482 305.6030737921409,191.57979856674334 305.9369221296335,190.77381738259302 306.3397459621556,190.00000000000003 306.80847955711005,189.26423563648956 307.3395555688102,188.57212390313464 307.9289321881345,187.92893218813455 308.5721239031346,187.33955556881023 309.2642356364895,186.8084795571101 310.0,186.33974596215563 310.773817382593,185.9369221296335 311.5797985667433,185.60307379214092 312.41180954897476,185.34074173710934 313.26351822333066,185.15192246987792 314.1284425725234,185.03805301908255 314.99999999999994,185.0\" stroke=\"#000000\" stroke-opacity=\"0.0\" stroke-width=\"1\" /><polyline fill=\"black\" fill-opacity=\"0.0\" points=\"315.0,205.0 314.1284425725234,204.96194698091745 313.2635182233307,204.84807753012208 312.4118095489748,204.6592582628907 311.5797985667433,204.39692620785908 310.773817382593,204.0630778703665 310.0,203.6602540378444 309.26423563648956,203.19152044288992 308.57212390313464,202.66044443118977 307.9289321881345,202.07106781186548 307.3395555688102,201.4278760968654 306.8084795571101,200.73576436351047 306.33974596215563,200.0 305.9369221296335,199.226182617407 305.60307379214095,198.4202014332567 305.34074173710934,197.5881904510252 305.15192246987795,196.7364817766693 305.03805301908255,195.8715574274766 305.0,195.00000000000003 305.03805301908255,194.12844257252343 305.1519224698779,193.26351822333072 305.3407417371093,192.41180954897482 305.6030737921409,191.57979856674334 305.9369221296335,190.77381738259302 306.3397459621556,190.00000000000003 306.80847955711005,189.26423563648956 307.3395555688102,188.57212390313464 307.9289321881345,187.92893218813455 308.5721239031346,187.33955556881023 309.2642356364895,186.8084795571101 310.0,186.33974596215563 310.773817382593,185.9369221296335 311.5797985667433,185.60307379214092 312.41180954897476,185.34074173710934 313.26351822333066,185.15192246987792 314.1284425725234,185.03805301908255 314.99999999999994,185.0\" stroke=\"#000000\" stroke-width=\"1\" /><text fill=\"#ffffff\" fill-opacity=\"1.0\" stroke=\"#ffffff\" stroke-opacity=\"1.0\" stroke-width=\"1\" x=\"15\" y=\"385\">10.2 Idle</text></svg>"
      ],
      "text/plain": [
       "<Canvas (600, 400)>"
      ]
     },
     "metadata": {},
     "output_type": "display_data"
    },
    {
     "name": "stdout",
     "output_type": "stream",
     "text": [
      "fitness: 108.88888888888889\n"
     ]
    }
   ],
   "source": [
    "watch_one(pop[0][1])"
   ]
  },
  {
   "cell_type": "markdown",
   "metadata": {},
   "source": [
    "`make_movie()` takes a DNA string and a filename, and makes a bunch of gif files:"
   ]
  },
  {
   "cell_type": "code",
   "execution_count": 35,
   "metadata": {
    "collapsed": false
   },
   "outputs": [],
   "source": [
    "make_movie(pop[0][1], \"ladybug-0\")"
   ]
  },
  {
   "cell_type": "markdown",
   "metadata": {},
   "source": [
    "You can turn the ladybug-0-\\*.gif files into a movie named moview-0.gif with this shell command:"
   ]
  },
  {
   "cell_type": "code",
   "execution_count": 36,
   "metadata": {
    "collapsed": false
   },
   "outputs": [],
   "source": [
    "! convert -delay 20 -loop 0 ladybug-0-*.gif movie-0.gif"
   ]
  },
  {
   "cell_type": "markdown",
   "metadata": {},
   "source": [
    "This cell is a markdown cell that shows how to display an animated gif file in your notebook using HTML:\n",
    "\n",
    "<img src=\"movie-0.gif\" />"
   ]
  },
  {
   "cell_type": "markdown",
   "metadata": {},
   "source": [
    "Finally, you may want to delete the extra gif files with this shell command:"
   ]
  },
  {
   "cell_type": "code",
   "execution_count": 37,
   "metadata": {
    "collapsed": false
   },
   "outputs": [],
   "source": [
    "! rm ladybug-*.gif"
   ]
  },
  {
   "cell_type": "markdown",
   "metadata": {},
   "source": [
    "## Team Reflection\n",
    "\n",
    "In the next cell, add your reflections, including:\n",
    "\n",
    "* What was your approach in picking parameters? Explain?\n",
    "* What is the relationship between size of the population and diversity of the gene pool?\n",
    "* What could make this evolution more realistic? What is missing?\n",
    "* From what you know about ladybug control, what could this DNA be representing? Why 93?\n"
   ]
  },
  {
   "cell_type": "markdown",
   "metadata": {
    "deletable": false,
    "nbgrader": {
     "checksum": "7ee6ff3a6d0d1d360746c03be8d788f4",
     "grade": true,
     "grade_id": "reflection",
     "locked": false,
     "points": 80,
     "solution": true
    }
   },
   "source": [
    "YOUR ANSWER HERE"
   ]
  }
 ],
 "metadata": {
  "celltoolbar": "Create Assignment",
  "kernelspec": {
   "display_name": "Python 3",
   "language": "python",
   "name": "python3"
  },
  "language_info": {
   "codemirror_mode": {
    "name": "ipython",
    "version": 3
   },
   "file_extension": ".py",
   "mimetype": "text/x-python",
   "name": "python",
   "nbconvert_exporter": "python",
   "pygments_lexer": "ipython3",
   "version": "3.5.2"
  }
 },
 "nbformat": 4,
 "nbformat_minor": 0
}
